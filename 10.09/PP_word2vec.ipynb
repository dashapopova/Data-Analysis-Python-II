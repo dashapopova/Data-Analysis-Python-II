{
  "nbformat": 4,
  "nbformat_minor": 0,
  "metadata": {
    "kernelspec": {
      "display_name": "Python 3",
      "language": "python",
      "name": "python3"
    },
    "language_info": {
      "codemirror_mode": {
        "name": "ipython",
        "version": 3
      },
      "file_extension": ".py",
      "mimetype": "text/x-python",
      "name": "python",
      "nbconvert_exporter": "python",
      "pygments_lexer": "ipython3",
      "version": "3.6.5"
    },
    "colab": {
      "name": "PP_word2vec.ipynb",
      "provenance": []
    }
  },
  "cells": [
    {
      "cell_type": "markdown",
      "metadata": {
        "id": "fi-d6xoVHNFs"
      },
      "source": [
        "### Distributive hypothesis in semantics\n",
        "\n",
        "+ Ludwig Wittgenstein:\n",
        "Die Bedeutung eines Wortes liegt in seinem Gebrauch.\n",
        "\n",
        "\n",
        "+ Firth (1935:37) on context dependence (cited by Stubbs):\n",
        "the complete meaning of a word is always contextual, and no study of meaning apart from context can be taken seriously.\n",
        "\n",
        "\n",
        "+ Firth (1957:11):\n",
        "You shall know a word by the company it keeps . . .\n",
        "\n",
        "\n",
        "+ Harris (1954:34):\n",
        "All elements in a language can be grouped into classes whose relative occurrence can be stated exactly. However, for the occurrence of a particular member of one class relative to a particular member of another class, it would be necessary to speak in terms of probability, based on the frequency of that occurrence in a sample.\n",
        "\n",
        "\n",
        "+ Harris (1954:34):\n",
        "It is possible to state the occurrence of any element relative to any other element, to the degree of exactness indicated above, so that distributional statements can cover all of the material of a language without requiring support from other types of information.\n",
        "\n",
        "\n",
        "+ Harris (1954:34) (anticipating deep learning?):\n",
        "The restrictions on relative occurrence of each element are described most simply by a network of interrelated statements, certain of them being put in terms of the results of certain others, rather than by a simple measure of the total restriction on each element separately.\n",
        "\n",
        "\n",
        "+ Harris (1954:36) on levels of analysis:\n",
        "\n",
        "\n",
        "    - Some question has been raised as to the reality of this structure. Does it really exist, or is it just a mathematical creation of the investigator’s? Skirting the philosophical difficulties of this problem, we should, in any case, realize that there are two quite different questions here. \n",
        "    \n",
        "    - One: Does the structure really exist in language? The answer is yes, as much as any scientific structure really obtains in the data which it describes — the scientific structure states a network of relations, and these relations really hold in the data investigated.\n",
        "    \n",
        "    - Two: Does the structure really exist in speakers? Here we are faced with a question of fact which is not directly or fully investigated in the process of determining the distributional structure. Clearly, certain behaviors of the speakers indicate perception along the lines of the distributional structure, for example, the fact that while people imitate nonlinguistic or foreign-language sounds, they repeat utterances of their own language.\n",
        "\n",
        "\n",
        "+ Harris (1954:39) on meaning and context-dependence:\n",
        "All this is not to say that there is not a great interconnection between language and meaning, in whatever sense it may be possible to use this work. But it is not a one-to-one relation between morphological structure and anything else. There is not even a one-to-one relation between vocabulary and any independent classification of meaning; we cannot say that each morpheme or word has a single central meaning or even that it has a continuous or coherent range of meanings...The correlation between language and meaning is much greater when we consider connected discourse.\n",
        "\n",
        "\n",
        "+ Harris (1954:43):\n",
        "The fact that, for example, not every adjective occurs with every noun can be used as a measure of meaning difference. For it is not merely that different members of the one class have different selections of members of the other class with which they are actually found. More than that: if we consider words or morphemes A and B to be more different than A and C, then we will often find that the distributions of A and B are more different than the distributions of A and C. In other words, difference in meaning correlates with difference in distribution.\n",
        "\n",
        "\n",
        "+ Turney & Pantel (2010:153):\n",
        "\n",
        "\n",
        "    - Statistical semantics hypothesis: Statistical patterns of human word usage can be used to figure out what people mean (Weaver, 1955; Furnas et al., 1983). – If units of text have similar vectors in a text frequency matrix, then they tend to have similar meanings. (We take this to be a general hypothesis that subsumes the four more specific hypotheses that follow.)\n",
        "\n",
        "    - Bag of words hypothesis: The frequencies of words in a document tend to indicate the relevance of the document to a query (Salton et al., 1975). – If documents and pseudo-documents (queries) have similar column vectors in a term–document matrix, then they tend to have similar meanings.\n",
        "\n",
        "    - Distributional hypothesis: Words that occur in similar contexts tend to have similar meanings (Harris, 1954; Firth, 1957; Deerwester et al., 1990). – If words have similar row vectors in a word–context matrix, then they tend to have similar meanings.\n",
        "      \n",
        "    - Extended distributional hypothesis: Patterns that co-occur with similar pairs tend to have similar meanings (Lin & Pantel, 2001). – If patterns have similar column vectors in a pair–pattern matrix, then they tend to express similar semantic relations.\n",
        "\n",
        "    - Latent relation hypothesis: Pairs of words that co-occur in similar patterns tend to have similar semantic relations (Turney et al., 2003). – If word pairs have similar row vectors in a pair–pattern matrix, then they tend to have similar semantic relations.\n",
        "    \n",
        "    \n",
        "+ What is the meaning of the word \"bardiwac\" (Stefan Evert's example)?\n",
        "\n",
        "    - He handed her her glass of bardiwac.\n",
        "\n",
        "    - Beef dishes are made to complement the bardiwacs.\n",
        "\n",
        "    - Nigel staggered to his feet, face flushed from too much bardiwac.\n",
        "\n",
        "    - Malbec, one of the lesser-known bardiwac grapes, responds well to Australia’s sunshine.\n",
        "\n",
        "    - I dined off bread and cheese and this excellent bardiwac.\n",
        "\n",
        "    - The drinks were delicious: blood-red bardiwac as well as light, sweet Rhenish.\n",
        "\n",
        "#### Word2Vec\n",
        "\n",
        "One of the most famous distributional models is word2vec. The model is based on a neural network that predicts the probability of occurrence of a given word in a given context. The two seminal papers are linked below:\n",
        "\n",
        "+ [Efficient Estimation of Word Representations inVector Space](https://arxiv.org/pdf/1301.3781.pdf)\n",
        "+ [Distributed Representations of Words and Phrases and their Compositionality](https://arxiv.org/abs/1310.4546)\n",
        "\n",
        "The model produces word representations in a form of a vector, or, an embedding.\n",
        "\n",
        "Word2Vec comprises two algorithms: Skip-Gram and Continuous Bag-Of-Words (CBOW). The CBOW architecture predicts the current word based on the context, and the Skip-gram predicts surrounding words given the current word.\n",
        "\n",
        "#### How does word2vec work?\n",
        "\n",
        "Word2Vec takes a corpus as an input and creates a vector for each word. Vectors (embeddings) are created based on the distributional hypothesis. Cosine similarity between embeddings reflects similarity in the semantics of the words.\n",
        "\n",
        "We can use embeddings to create analogies:\n",
        "\n",
        "+ king: man = queen: woman $\\Rightarrow$\n",
        "+ king - man + woman = queen\n",
        "\n",
        "![w2v](https://cdn-images-1.medium.com/max/2600/1*sXNXYfAqfLUeiDXPCo130w.png)\n",
        "\n",
        "More on the mechanics you can find [here](https://habr.com/ru/post/446530/)\n",
        "\n",
        "#### Why do we need it?\n",
        "\n",
        "+ to solve semantic problems\n",
        "+ for which classes of words is the distributional hypothesis most useful?\n",
        "+ some papers on its use in semantics:\n",
        "\n",
        "* [Turney and Pantel 2010](https://jair.org/index.php/jair/article/view/10640)\n",
        "* [Lenci 2018](https://www.annualreviews.org/doi/abs/10.1146/annurev-linguistics-030514-125254?journalCode=linguistics)\n",
        "* [Smith 2019](https://arxiv.org/pdf/1902.06006.pdf)\n",
        "* [Pennington et al. 2014](https://www.aclweb.org/anthology/D14-1162/)\n",
        "* [Faruqui et al. 2015](https://www.aclweb.org/anthology/N15-1184/)\n",
        "\n",
        "+ to create input for neural networks\n",
        "+ word2vec is used in Siri, Google Assistant, Alexa, Google Translate...\n",
        "\n",
        "#### Gensim\n",
        "\n",
        "We will use the `gensim` library to get access to the word2vec model. Here you can find the library's [documentation](https://radimrehurek.com/gensim/models/word2vec.html).\n",
        "\n",
        "First, let's install the library: `pip install gensim`. You can do it from jupyter: `!pip install gensim`."
      ]
    },
    {
      "cell_type": "code",
      "metadata": {
        "id": "pyroE0-XHNGG"
      },
      "source": [
        "import re\n",
        "import gensim\n",
        "import logging\n",
        "import nltk.data\n",
        "import pandas as pd\n",
        "import urllib.request\n",
        "from bs4 import BeautifulSoup\n",
        "from nltk.corpus import stopwords\n",
        "from gensim.models import word2vec\n",
        "\n",
        "import warnings\n",
        "warnings.filterwarnings('ignore')"
      ],
      "execution_count": 1,
      "outputs": []
    },
    {
      "cell_type": "markdown",
      "metadata": {
        "id": "xCVWJx4vHNGl"
      },
      "source": [
        "#### How to train your own model\n",
        "\n",
        "NB! The training does not involve preprocessing! It means that, if necessary for your task, you have to get rid of the punctuation, lower, lemmatize, do the pos tagging before the training.\n",
        "\n",
        "To log the training:"
      ]
    },
    {
      "cell_type": "code",
      "metadata": {
        "id": "9dmidzjLHNGo"
      },
      "source": [
        "logging.basicConfig(format='%(asctime)s : %(levelname)s : %(message)s', level=logging.INFO)"
      ],
      "execution_count": 2,
      "outputs": []
    },
    {
      "cell_type": "markdown",
      "metadata": {
        "id": "qG-y6_ciHNGw"
      },
      "source": [
        "The input for the model is a text file, where every sentence starts on a new line. The text is stripped of the punctuation, lowered and lemmatized. We won't do the preprocessing part in class, we will use a preprocessed file liza_lem.txt."
      ]
    },
    {
      "cell_type": "code",
      "metadata": {
        "id": "jwkNLeTyHNGz"
      },
      "source": [
        "f = 'liza_lem.txt'\n",
        "data = gensim.models.word2vec.LineSentence(f)"
      ],
      "execution_count": 4,
      "outputs": []
    },
    {
      "cell_type": "markdown",
      "metadata": {
        "id": "9EkuDSJjHNG2"
      },
      "source": [
        "We will be training our model now. The main parameters:\n",
        "\n",
        "+ the data should be iterable\n",
        "+ size — dimensionality of the word vectors,\n",
        "+ window — maximum distance between the current and predicted word within a sentence,\n",
        "+ min_count — ignores all words with total frequency lower than this,\n",
        "+ sg —  training algorithm: 1 for skip-gram; otherwise CBOW,\n",
        "+ sample — the threshold for configuring which higher-frequency words are randomly downsampled,\n",
        "+ iter — number of iterations (epochs) over the corpus,\n",
        "+ max_vocab_size — limits the RAM during vocabulary building; if there are more unique words than this, then prune the infrequent ones. Every 10 million word types need about 1GB of RAM. Set to None for no limit."
      ]
    },
    {
      "cell_type": "code",
      "metadata": {
        "colab": {
          "base_uri": "https://localhost:8080/"
        },
        "id": "YGKn-5wdHNG-",
        "outputId": "95e054a8-a364-4164-8506-773415997e26"
      },
      "source": [
        "%time model_liza = gensim.models.Word2Vec(data, size=300, window=5, min_count=2)"
      ],
      "execution_count": 5,
      "outputs": [
        {
          "output_type": "stream",
          "name": "stderr",
          "text": [
            "2021-09-09 11:06:22,598 : INFO : collecting all words and their counts\n",
            "2021-09-09 11:06:22,603 : INFO : PROGRESS: at sentence #0, processed 0 words, keeping 0 word types\n",
            "2021-09-09 11:06:22,605 : INFO : collected 1189 word types from a corpus of 3043 raw words and 1 sentences\n",
            "2021-09-09 11:06:22,608 : INFO : Loading a fresh vocabulary\n",
            "2021-09-09 11:06:22,613 : INFO : effective_min_count=2 retains 463 unique words (38% of original 1189, drops 726)\n",
            "2021-09-09 11:06:22,615 : INFO : effective_min_count=2 leaves 2317 word corpus (76% of original 3043, drops 726)\n",
            "2021-09-09 11:06:22,620 : INFO : deleting the raw counts dictionary of 1189 items\n",
            "2021-09-09 11:06:22,621 : INFO : sample=0.001 downsamples 82 most-common words\n",
            "2021-09-09 11:06:22,625 : INFO : downsampling leaves estimated 1746 word corpus (75.4% of prior 2317)\n",
            "2021-09-09 11:06:22,632 : INFO : estimated required memory for 463 words and 300 dimensions: 1342700 bytes\n",
            "2021-09-09 11:06:22,633 : INFO : resetting layer weights\n",
            "2021-09-09 11:06:22,740 : INFO : training model with 3 workers on 463 vocabulary and 300 features, using sg=0 hs=0 sample=0.001 negative=5 window=5\n",
            "2021-09-09 11:06:22,749 : INFO : worker thread finished; awaiting finish of 2 more threads\n",
            "2021-09-09 11:06:22,751 : INFO : worker thread finished; awaiting finish of 1 more threads\n",
            "2021-09-09 11:06:22,757 : INFO : worker thread finished; awaiting finish of 0 more threads\n",
            "2021-09-09 11:06:22,758 : INFO : EPOCH - 1 : training on 3043 raw words (1733 effective words) took 0.0s, 142068 effective words/s\n",
            "2021-09-09 11:06:22,769 : INFO : worker thread finished; awaiting finish of 2 more threads\n",
            "2021-09-09 11:06:22,773 : INFO : worker thread finished; awaiting finish of 1 more threads\n",
            "2021-09-09 11:06:22,776 : INFO : worker thread finished; awaiting finish of 0 more threads\n",
            "2021-09-09 11:06:22,777 : INFO : EPOCH - 2 : training on 3043 raw words (1763 effective words) took 0.0s, 164043 effective words/s\n",
            "2021-09-09 11:06:22,787 : INFO : worker thread finished; awaiting finish of 2 more threads\n",
            "2021-09-09 11:06:22,789 : INFO : worker thread finished; awaiting finish of 1 more threads\n",
            "2021-09-09 11:06:22,790 : INFO : worker thread finished; awaiting finish of 0 more threads\n",
            "2021-09-09 11:06:22,791 : INFO : EPOCH - 3 : training on 3043 raw words (1777 effective words) took 0.0s, 240179 effective words/s\n",
            "2021-09-09 11:06:22,807 : INFO : worker thread finished; awaiting finish of 2 more threads\n",
            "2021-09-09 11:06:22,810 : INFO : worker thread finished; awaiting finish of 1 more threads\n",
            "2021-09-09 11:06:22,820 : INFO : worker thread finished; awaiting finish of 0 more threads\n",
            "2021-09-09 11:06:22,826 : INFO : EPOCH - 4 : training on 3043 raw words (1752 effective words) took 0.0s, 70037 effective words/s\n",
            "2021-09-09 11:06:22,835 : INFO : worker thread finished; awaiting finish of 2 more threads\n",
            "2021-09-09 11:06:22,839 : INFO : worker thread finished; awaiting finish of 1 more threads\n",
            "2021-09-09 11:06:22,842 : INFO : worker thread finished; awaiting finish of 0 more threads\n",
            "2021-09-09 11:06:22,843 : INFO : EPOCH - 5 : training on 3043 raw words (1747 effective words) took 0.0s, 167793 effective words/s\n",
            "2021-09-09 11:06:22,844 : INFO : training on a 15215 raw words (8772 effective words) took 0.1s, 86227 effective words/s\n",
            "2021-09-09 11:06:22,845 : WARNING : under 10 jobs per worker: consider setting a smaller `batch_words' for smoother alpha decay\n"
          ]
        },
        {
          "output_type": "stream",
          "name": "stdout",
          "text": [
            "CPU times: user 203 ms, sys: 11.7 ms, total: 215 ms\n",
            "Wall time: 249 ms\n"
          ]
        }
      ]
    },
    {
      "cell_type": "markdown",
      "metadata": {
        "id": "IQ8gG5e9HNG_"
      },
      "source": [
        "We can normalize the vectors, then the model would take up less RAM. After this operation, however, you won't be able to retrain the model. L2-normalization is used: the sum of squares of all the vector elements will be brought to 1. "
      ]
    },
    {
      "cell_type": "code",
      "metadata": {
        "colab": {
          "base_uri": "https://localhost:8080/"
        },
        "id": "jYprhwMAHNHF",
        "outputId": "e22b3f1a-1e57-4617-e3e4-201b3cfcb326"
      },
      "source": [
        "model_liza.init_sims(replace=True)\n",
        "model_path = \"liza.bin\"\n",
        "\n",
        "print(\"Saving model...\")\n",
        "model_liza.wv.save_word2vec_format(model_path, binary=True)"
      ],
      "execution_count": 6,
      "outputs": [
        {
          "output_type": "stream",
          "name": "stderr",
          "text": [
            "2021-09-09 11:06:42,499 : INFO : precomputing L2-norms of word weight vectors\n",
            "2021-09-09 11:06:42,513 : INFO : storing 463x300 projection weights into liza.bin\n"
          ]
        },
        {
          "output_type": "stream",
          "name": "stdout",
          "text": [
            "Saving model...\n"
          ]
        }
      ]
    },
    {
      "cell_type": "markdown",
      "metadata": {
        "id": "cZ2LczlgHNHJ"
      },
      "source": [
        "Let's count the number of words in the model:"
      ]
    },
    {
      "cell_type": "code",
      "metadata": {
        "colab": {
          "base_uri": "https://localhost:8080/"
        },
        "id": "dUX-y4GwHNHP",
        "outputId": "70a3b4f5-84eb-4581-c07a-7db7aadea3ec"
      },
      "source": [
        "print(len(model_liza.wv.vocab))"
      ],
      "execution_count": 7,
      "outputs": [
        {
          "output_type": "stream",
          "name": "stdout",
          "text": [
            "463\n"
          ]
        }
      ]
    },
    {
      "cell_type": "code",
      "metadata": {
        "colab": {
          "base_uri": "https://localhost:8080/"
        },
        "id": "b4UYddmkHNHS",
        "outputId": "5900c75e-d69d-494d-8658-197afce38d38"
      },
      "source": [
        "print(sorted([w for w in model_liza.wv.vocab]))"
      ],
      "execution_count": 8,
      "outputs": [
        {
          "output_type": "stream",
          "name": "stdout",
          "text": [
            "['ангел', 'анюта', 'армия', 'ах', 'барин', 'бедный', 'белый', 'берег', 'березовый', 'беречь', 'бесчисленный', 'благодарить', 'бледный', 'блеснуть', 'блестящий', 'близ', 'бог', 'богатый', 'большой', 'бояться', 'брать', 'бросать', 'бросаться', 'бывать', 'важный', 'ввечеру', 'вдова', 'велеть', 'великий', 'великолепный', 'верить', 'верно', 'весело', 'веселый', 'весна', 'вести', 'весь', 'весьма', 'ветвь', 'ветер', 'вечер', 'взглядывать', 'вздох', 'вздыхать', 'взор', 'взять', 'вид', 'видеть', 'видеться', 'видный', 'вместе', 'вода', 'возвращаться', 'воздух', 'война', 'воображать', 'воображение', 'воспоминание', 'восторг', 'восхищаться', 'время', 'вслед', 'вставать', 'встречаться', 'всякий', 'высокий', 'выть', 'выходить', 'глаз', 'глубокий', 'гнать', 'говорить', 'год', 'голос', 'гора', 'горе', 'горестный', 'горлица', 'город', 'горький', 'господин', 'гром', 'грусть', 'давать', 'давно', 'далее', 'дверь', 'движение', 'двор', 'девушка', 'дело', 'день', 'деньги', 'деревня', 'деревянный', 'десять', 'добро', 'добрый', 'довольно', 'доживать', 'долго', 'должный', 'дом', 'домой', 'дочь', 'древний', 'друг', 'дуб', 'думать', 'душа', 'едва', 'ехать', 'жалобный', 'желание', 'желать', 'жениться', 'жених', 'женщина', 'жестокий', 'живой', 'жизнь', 'жить', 'забава', 'заблуждение', 'забывать', 'завтра', 'задумчивость', 'закраснеться', 'закричать', 'заря', 'здешний', 'здравствовать', 'зеленый', 'земля', 'златой', 'знать', 'ибо', 'играть', 'идти', 'имя', 'искать', 'исполняться', 'испугаться', 'история', 'исчезать', 'кабинет', 'казаться', 'капля', 'карета', 'карман', 'картина', 'катиться', 'клятва', 'колено', 'копейка', 'который', 'красота', 'крест', 'крестьянин', 'крестьянка', 'кровь', 'кроме', 'купить', 'ландыш', 'ласка', 'ласковый', 'левый', 'лес', 'лететь', 'летний', 'лето', 'лиза', 'лизин', 'лизина', 'лицо', 'лишний', 'лодка', 'ложиться', 'луг', 'луч', 'любезный', 'любить', 'любовь', 'лютый', 'матушка', 'мать', 'место', 'месяц', 'мечта', 'милый', 'мимо', 'минута', 'многочисленный', 'молить', 'молиться', 'молния', 'молодой', 'молодость', 'молчать', 'монастырь', 'море', 'москва', 'москварека', 'мочь', 'мрак', 'мрачный', 'муж', 'мысль', 'наглядеться', 'надеяться', 'надлежать', 'надобно', 'называть', 'наступать', 'натура', 'находить', 'наш', 'небесный', 'небо', 'невинность', 'невинный', 'нежели', 'нежный', 'незнакомец', 'немой', 'непорочность', 'неприятель', 'несколько', 'никакой', 'никто', 'ничто', 'новый', 'ночь', 'обижать', 'облако', 'обманывать', 'обморок', 'образ', 'обращаться', 'обстоятельство', 'объятие', 'огонь', 'однако', 'окно', 'окрестности', 'оно', 'опираться', 'описывать', 'опустеть', 'освещать', 'оставаться', 'оставлять', 'останавливать', 'останавливаться', 'отвечать', 'отдавать', 'отец', 'отечество', 'отменно', 'отрада', 'очень', 'падать', 'память', 'пастух', 'первый', 'перемениться', 'переставать', 'песня', 'петь', 'печальный', 'писать', 'питать', 'плакать', 'побежать', 'побледнеть', 'погибать', 'подавать', 'подгорюниваться', 'подле', 'подозревать', 'подымать', 'поехать', 'пойти', 'показываться', 'поклониться', 'покойный', 'покрывать', 'покрываться', 'покупать', 'полагать', 'поле', 'помнить', 'поселянин', 'последний', 'постой', 'потуплять', 'поцеловать', 'поцелуй', 'правый', 'представляться', 'прежде', 'преклонять', 'прекрасный', 'прелестный', 'приводить', 'прижимать', 'принадлежать', 'принуждать', 'природа', 'приходить', 'приятный', 'провожать', 'продавать', 'проливать', 'простой', 'просыпаться', 'проходить', 'проч', 'прощать', 'прощаться', 'пруд', 'птичка', 'пылать', 'пять', 'работа', 'работать', 'радость', 'рассказывать', 'расставаться', 'рвать', 'ребенок', 'река', 'решаться', 'робкий', 'роза', 'розовый', 'роман', 'российский', 'роща', 'рубль', 'рука', 'сажень', 'самый', 'свет', 'светиться', 'светлый', 'свидание', 'свирель', 'свободно', 'свой', 'свойство', 'сделать', 'сделаться', 'сей', 'сердечный', 'сердце', 'си', 'сидеть', 'сие', 'сиять', 'сказать', 'сказывать', 'сквозь', 'скорбь', 'скоро', 'скрываться', 'слабый', 'слеза', 'слезать', 'слово', 'случаться', 'слушать', 'слышать', 'смерть', 'сметь', 'смотреть', 'собственный', 'соглашаться', 'солнце', 'спасать', 'спать', 'спокойно', 'спокойствие', 'спрашивать', 'стадо', 'становиться', 'стараться', 'старуха', 'старушка', 'старый', 'статься', 'стена', 'сто', 'столь', 'стон', 'стонать', 'сторона', 'стоять', 'страшно', 'страшный', 'судьба', 'схватывать', 'счастие', 'счастливый', 'сын', 'таить', 'твой', 'темный', 'тения', 'тихий', 'тихонько', 'томный', 'трава', 'трепетать', 'трогать', 'убивать', 'уверять', 'увидеть', 'увидеться', 'удерживать', 'удивляться', 'удовольствие', 'узнавать', 'улица', 'улыбка', 'уметь', 'умирать', 'унылый', 'упасть', 'услышать', 'утешение', 'утро', 'хижина', 'хлеб', 'ходить', 'холм', 'хороший', 'хотеть', 'хотеться', 'хотя', 'худо', 'худой', 'царь', 'цветок', 'целовать', 'час', 'часто', 'человек', 'чистый', 'читатель', 'чувствительный', 'чувство', 'чувствовать', 'чудно', 'чулок', 'шестой', 'шум', 'шуметь', 'щадить', 'щека', 'эраст', 'эрастов', 'это']\n"
          ]
        }
      ]
    },
    {
      "cell_type": "markdown",
      "metadata": {
        "id": "h1DAUZGxHNHU"
      },
      "source": [
        "Let's see what the model learned:"
      ]
    },
    {
      "cell_type": "code",
      "metadata": {
        "colab": {
          "base_uri": "https://localhost:8080/"
        },
        "id": "P0x8fs7sHNHW",
        "outputId": "ff2c0582-be76-4f52-808a-323b2a57cdc0"
      },
      "source": [
        "model_liza.wv.most_similar(positive=[\"смерть\", \"любовь\"], negative=[\"печальный\"], topn=3)"
      ],
      "execution_count": 9,
      "outputs": [
        {
          "output_type": "execute_result",
          "data": {
            "text/plain": [
              "[('хотеть', 0.25259149074554443),\n",
              " ('лиза', 0.23282110691070557),\n",
              " ('возвращаться', 0.22498047351837158)]"
            ]
          },
          "metadata": {},
          "execution_count": 9
        }
      ]
    },
    {
      "cell_type": "code",
      "metadata": {
        "colab": {
          "base_uri": "https://localhost:8080/"
        },
        "id": "hhbn1Oa1HNHZ",
        "outputId": "2e89de05-0b75-45f3-884a-bbf3ec3f4981"
      },
      "source": [
        "model_liza.wv.most_similar(\"любовь\", topn=3)"
      ],
      "execution_count": 10,
      "outputs": [
        {
          "output_type": "execute_result",
          "data": {
            "text/plain": [
              "[('лиза', 0.28875115513801575),\n",
              " ('свет', 0.27768391370773315),\n",
              " ('хотеть', 0.25997158885002136)]"
            ]
          },
          "metadata": {},
          "execution_count": 10
        }
      ]
    },
    {
      "cell_type": "code",
      "metadata": {
        "colab": {
          "base_uri": "https://localhost:8080/"
        },
        "id": "XEd9n-70HNHg",
        "outputId": "43acd5ef-a5cc-446c-bcd0-acbe66c8ff29"
      },
      "source": [
        "model_liza.wv.similarity(\"лиза\", \"эраст\")"
      ],
      "execution_count": 11,
      "outputs": [
        {
          "output_type": "execute_result",
          "data": {
            "text/plain": [
              "0.3469555"
            ]
          },
          "metadata": {},
          "execution_count": 11
        }
      ]
    },
    {
      "cell_type": "code",
      "metadata": {
        "colab": {
          "base_uri": "https://localhost:8080/"
        },
        "id": "hp-fhh_fHNHj",
        "outputId": "c71bab1b-ac95-41db-b2cf-5b2f48882a8c"
      },
      "source": [
        "model_liza.wv.similarity(\"лиза\", \"лиза\")"
      ],
      "execution_count": 12,
      "outputs": [
        {
          "output_type": "execute_result",
          "data": {
            "text/plain": [
              "1.0"
            ]
          },
          "metadata": {},
          "execution_count": 12
        }
      ]
    },
    {
      "cell_type": "code",
      "metadata": {
        "colab": {
          "base_uri": "https://localhost:8080/",
          "height": 36
        },
        "id": "gmr5iAcoHNHm",
        "outputId": "70dcb081-87c8-4f88-f4a4-69bd3f9dedd3"
      },
      "source": [
        "model_liza.wv.doesnt_match(\"скорбь грусть слеза улыбка\".split())"
      ],
      "execution_count": 13,
      "outputs": [
        {
          "output_type": "execute_result",
          "data": {
            "application/vnd.google.colaboratory.intrinsic+json": {
              "type": "string"
            },
            "text/plain": [
              "'слеза'"
            ]
          },
          "metadata": {},
          "execution_count": 13
        }
      ]
    },
    {
      "cell_type": "code",
      "metadata": {
        "colab": {
          "base_uri": "https://localhost:8080/"
        },
        "id": "_yGJRjeUHNHo",
        "outputId": "4e5a56fe-e93e-4147-8d73-3413a303f738"
      },
      "source": [
        "model_liza.wv.words_closer_than(\"лиза\", \"эраст\")"
      ],
      "execution_count": 14,
      "outputs": [
        {
          "output_type": "execute_result",
          "data": {
            "text/plain": [
              "['свой',\n",
              " 'мочь',\n",
              " 'который',\n",
              " 'сказать',\n",
              " 'ах',\n",
              " 'весь',\n",
              " 'любить',\n",
              " 'человек',\n",
              " 'день',\n",
              " 'чистый']"
            ]
          },
          "metadata": {},
          "execution_count": 14
        }
      ]
    },
    {
      "cell_type": "markdown",
      "metadata": {
        "id": "7-hphDcEHNHq"
      },
      "source": [
        "#### Parameter variation\n",
        "\n",
        "Note that what is said below works for large corpora, if your corpus is small, you need to be extra careful!\n",
        "\n",
        "1) preprocessing -- do we lemmatize, tokenize, pos-tag or not\n",
        "\n",
        "2) corpus size -- the greater, the better; but! for semantic tasks the quality is more important than quantity\n",
        "\n",
        "3) vocabulary size\n",
        "\n",
        "4) negative samples\n",
        "\n",
        "5) the number of iterations\n",
        "\n",
        "6) vector size -- 100-300 (it looks like >300 does not make the results better)\n",
        "\n",
        "7) window size -- for syntax -- around 4, for semantics -- 8, 10.\n",
        "\n",
        "A paper that discusses different parameter settings: https://www.aclweb.org/anthology/D14-1162.pdf\n",
        "\n",
        "#### How to use a pre-trained model\n",
        "\n",
        "#### RusVectōrēs\n",
        "\n",
        "RusVectōrēs (https://rusvectores.org/ru/) provides a number of pre-trained models for Russian.\n",
        "\n",
        "For other languages, look at [fastText](https://fasttext.cc/docs/en/english-vectors.html) and [GloVe](https://nlp.stanford.edu/projects/glove/)\n",
        "\n",
        "Let's also look at some vector novels https://nevmenandr.github.io/novel2vec/\n",
        "\n",
        "#### Working with a model\n",
        "\n",
        "Word2vec models can have two formats:\n",
        "\n",
        "+ .vec.gz — an ordinary file\n",
        "+ .bin.gz — a binary file\n",
        "\n",
        "To load a word2vec model, use `KeyedVectors`, you can set the `binary` parameter of the function `load_word2vec_format`.\n",
        "\n",
        "Note that if the embeddings were created not by word2vec, you need to use `load`. Use it if you load the `glove`, `fasttext`, `bpe` embeddings.\n",
        "\n",
        "Let's load a RusVectōrēs model for Russian, trained on Russian National Corpus 2015."
      ]
    },
    {
      "cell_type": "code",
      "metadata": {
        "colab": {
          "base_uri": "https://localhost:8080/"
        },
        "id": "filI-sL-HNHw",
        "outputId": "86ec21e5-39d2-4bc2-ef01-356bb93e9353"
      },
      "source": [
        "urllib.request.urlretrieve(\"http://rusvectores.org/static/models/rusvectores2/ruscorpora_mystem_cbow_300_2_2015.bin.gz\", \"ruscorpora_mystem_cbow_300_2_2015.bin.gz\")"
      ],
      "execution_count": 15,
      "outputs": [
        {
          "output_type": "execute_result",
          "data": {
            "text/plain": [
              "('ruscorpora_mystem_cbow_300_2_2015.bin.gz',\n",
              " <http.client.HTTPMessage at 0x7f3f16727c10>)"
            ]
          },
          "metadata": {},
          "execution_count": 15
        }
      ]
    },
    {
      "cell_type": "code",
      "metadata": {
        "colab": {
          "base_uri": "https://localhost:8080/"
        },
        "id": "2dOL_0JDHNH0",
        "outputId": "b52c20ee-0bdc-4b3d-ae30-244d1298b1b0"
      },
      "source": [
        "m = 'ruscorpora_mystem_cbow_300_2_2015.bin.gz'\n",
        "\n",
        "if m.endswith('.vec.gz'):\n",
        "    model = gensim.models.KeyedVectors.load_word2vec_format(m, binary=False)\n",
        "elif m.endswith('.bin.gz'):\n",
        "    model = gensim.models.KeyedVectors.load_word2vec_format(m, binary=True)\n",
        "else:\n",
        "    model = gensim.models.KeyedVectors.load(m)"
      ],
      "execution_count": 16,
      "outputs": [
        {
          "output_type": "stream",
          "name": "stderr",
          "text": [
            "2021-09-09 11:10:47,492 : INFO : loading projection weights from ruscorpora_mystem_cbow_300_2_2015.bin.gz\n",
            "2021-09-09 11:11:04,578 : INFO : loaded (281776, 300) matrix from ruscorpora_mystem_cbow_300_2_2015.bin.gz\n"
          ]
        }
      ]
    },
    {
      "cell_type": "code",
      "metadata": {
        "id": "Ihw9StUmHNH3"
      },
      "source": [
        "words = ['хороший_A', 'плохой_A', 'ужасный_A','жуткий_A', 'страшный_A', 'красный_A', 'синий_A']"
      ],
      "execution_count": 17,
      "outputs": []
    },
    {
      "cell_type": "markdown",
      "metadata": {
        "id": "1ltyT3lGHNH4"
      },
      "source": [
        "We need the POS tags, because the model was trained on lemmatized and tagged words. The name of the model specifies the algorythm that was used to tag the words, mystem, in our case.\n",
        "\n",
        "Let's look at the 10 closest members for each word that we are interested in and at the cosine similarity.\n"
      ]
    },
    {
      "cell_type": "code",
      "metadata": {
        "colab": {
          "base_uri": "https://localhost:8080/"
        },
        "id": "HXU-NQA5HNH6",
        "outputId": "915cadf0-63b8-49a1-86be-764b0c84a2e8"
      },
      "source": [
        "for word in words:\n",
        "    # is the word present in the model?\n",
        "    if word in model:\n",
        "        print(word)\n",
        "        # looking at the first 10 numbers from the embedding \n",
        "        print(model[word][:10])\n",
        "        # getting 10 neighbours\n",
        "        for i in model.most_similar(positive=[word], topn=10):\n",
        "            # word + cosine similarity\n",
        "            print(i[0], i[1])\n",
        "        print('\\n')\n",
        "    else:\n",
        "        # Oops!\n",
        "        print('Oops, the word \"%s\" is not in the model!' % word)"
      ],
      "execution_count": 18,
      "outputs": [
        {
          "output_type": "stream",
          "name": "stderr",
          "text": [
            "2021-09-09 11:11:04,602 : INFO : precomputing L2-norms of word weight vectors\n"
          ]
        },
        {
          "output_type": "stream",
          "name": "stdout",
          "text": [
            "хороший_A\n",
            "[ 0.00722357 -0.00361956  0.1272455   0.06584469  0.00709477 -0.02014845\n",
            " -0.02056034  0.01321563  0.13692418 -0.09624264]\n",
            "плохой_A 0.7463520765304565\n",
            "неплохой_A 0.6708558797836304\n",
            "отличный_A 0.6633436679840088\n",
            "превосходный_A 0.6079519987106323\n",
            "замечательный_A 0.586450457572937\n",
            "недурной_A 0.5322482585906982\n",
            "отменный_A 0.5168066024780273\n",
            "прекрасный_A 0.4982393980026245\n",
            "посредственный_A 0.49099433422088623\n",
            "приличный_A 0.48622459173202515\n",
            "\n",
            "\n",
            "плохой_A\n",
            "[-0.05218472  0.0307817   0.1459371   0.0151835   0.06219714  0.01153753\n",
            " -0.01169093  0.01818374  0.0955373  -0.10191503]\n",
            "хороший_A 0.7463520765304565\n",
            "дурной_A 0.6186875104904175\n",
            "скверный_A 0.6014161109924316\n",
            "отличный_A 0.5226833820343018\n",
            "посредственный_A 0.5061030983924866\n",
            "неважный_A 0.5021152496337891\n",
            "неплохой_A 0.49169060587882996\n",
            "никудышный_A 0.48035892844200134\n",
            "ухудшать_V 0.43680477142333984\n",
            "плохо_ADV 0.4314875304698944\n",
            "\n",
            "\n",
            "ужасный_A\n",
            "[-0.05553271 -0.03172469  0.01998607  0.00171507 -0.00935555 -0.0296017\n",
            "  0.05394973  0.01597532 -0.03785459 -0.02099892]\n",
            "страшный_A 0.8007251024246216\n",
            "жуткий_A 0.6982528567314148\n",
            "отвратительный_A 0.6798903942108154\n",
            "ужасающий_A 0.6174501180648804\n",
            "чудовищный_A 0.6100856065750122\n",
            "постыдный_A 0.6009703278541565\n",
            "невероятный_A 0.5827822685241699\n",
            "ужасать_V 0.5815353393554688\n",
            "кошмарный_A 0.5675790309906006\n",
            "позорный_A 0.5351496338844299\n",
            "\n",
            "\n",
            "жуткий_A\n",
            "[-0.07627533 -0.06143281 -0.02622319 -0.03769541 -0.00350412 -0.01479934\n",
            "  0.03325103  0.06712756 -0.0044996   0.0145266 ]\n",
            "ужасный_A 0.6982529163360596\n",
            "страшный_A 0.6917036771774292\n",
            "зловещий_A 0.6490101218223572\n",
            "странный_A 0.6009964942932129\n",
            "отвратительный_A 0.5856714248657227\n",
            "тоскливый_A 0.5783498287200928\n",
            "кошмарный_A 0.5670032501220703\n",
            "гнетущий_A 0.5607054829597473\n",
            "чудовищный_A 0.5550791025161743\n",
            "мрачный_A 0.5542315244674683\n",
            "\n",
            "\n",
            "страшный_A\n",
            "[-0.12759186 -0.0206753   0.00979353 -0.02963523  0.03109632  0.02121338\n",
            " -0.02869159  0.02574235 -0.02556899 -0.03742376]\n",
            "ужасный_A 0.8007251620292664\n",
            "жуткий_A 0.6917036175727844\n",
            "чудовищный_A 0.5934231877326965\n",
            "кошмарный_A 0.539563000202179\n",
            "отвратительный_A 0.5351147651672363\n",
            "невероятный_A 0.5207849144935608\n",
            "ужасающий_A 0.5174921154975891\n",
            "зловещий_A 0.5163233876228333\n",
            "жестокий_A 0.5096044540405273\n",
            "ужасать_V 0.5071669816970825\n",
            "\n",
            "\n",
            "красный_A\n",
            "[ 0.01627072 -0.01136785 -0.00790482  0.02294072  0.05129128  0.10162549\n",
            "  0.07488654 -0.06475785 -0.0203686   0.09159683]\n",
            "алый_A 0.6421287059783936\n",
            "малиновый_A 0.6113021373748779\n",
            "красная_S 0.5526680946350098\n",
            "желтый_A 0.5431625843048096\n",
            "оранжевый_A 0.5371882319450378\n",
            "трехцветный_A 0.5317935347557068\n",
            "пунцовый_A 0.5125025510787964\n",
            "синий_A 0.5102002024650574\n",
            "фиолетовый_A 0.5072877407073975\n",
            "лиловый_A 0.5004071593284607\n",
            "\n",
            "\n",
            "синий_A\n",
            "[-0.00614284  0.04970241 -0.00461786 -0.11465221  0.08177482  0.00020589\n",
            "  0.04895581  0.02750725 -0.05211812  0.06006202]\n",
            "голубой_A 0.855513334274292\n",
            "темно-синий_A 0.7498062252998352\n",
            "оранжевый_A 0.7341034412384033\n",
            "лиловый_A 0.7314398884773254\n",
            "фиолетовый_A 0.7291390895843506\n",
            "желтый_A 0.7263568639755249\n",
            "ярко-синий_A 0.699012815952301\n",
            "черный_A 0.690920889377594\n",
            "зеленый_A 0.6799379587173462\n",
            "коричневый_A 0.6729934215545654\n",
            "\n",
            "\n"
          ]
        }
      ]
    },
    {
      "cell_type": "markdown",
      "metadata": {
        "id": "dQleI2RSHNH-"
      },
      "source": [
        "Cosine similarity for a pair of words:"
      ]
    },
    {
      "cell_type": "code",
      "metadata": {
        "colab": {
          "base_uri": "https://localhost:8080/"
        },
        "id": "a7yCoODJHNH_",
        "outputId": "2f1f763d-3076-4c64-c1bd-bb09ceff9e3e"
      },
      "source": [
        "print(model.similarity('плохой_A', 'хороший_A'))"
      ],
      "execution_count": 19,
      "outputs": [
        {
          "output_type": "stream",
          "name": "stdout",
          "text": [
            "0.74635214\n"
          ]
        }
      ]
    },
    {
      "cell_type": "code",
      "metadata": {
        "colab": {
          "base_uri": "https://localhost:8080/"
        },
        "id": "-nj_YXxnHNIA",
        "outputId": "9ed02456-aaba-4c8e-f3ff-70627c2dd15d"
      },
      "source": [
        "print(model.similarity('плохой_A', 'синий_A'))"
      ],
      "execution_count": 20,
      "outputs": [
        {
          "output_type": "stream",
          "name": "stdout",
          "text": [
            "-0.12778337\n"
          ]
        }
      ]
    },
    {
      "cell_type": "code",
      "metadata": {
        "colab": {
          "base_uri": "https://localhost:8080/"
        },
        "id": "nLh-SjvCHNIC",
        "outputId": "00738f89-5176-4e37-ce89-12c2585a89e7"
      },
      "source": [
        "print(model.similarity('ужасный_A', 'жуткий_A'))"
      ],
      "execution_count": 21,
      "outputs": [
        {
          "output_type": "stream",
          "name": "stdout",
          "text": [
            "0.69825286\n"
          ]
        }
      ]
    },
    {
      "cell_type": "markdown",
      "metadata": {
        "id": "URFKk_BAHNID"
      },
      "source": [
        "Proportion:\n",
        "\n",
        "+ positive — vectors that we add\n",
        "+ negative — vectors that we subtract"
      ]
    },
    {
      "cell_type": "code",
      "metadata": {
        "colab": {
          "base_uri": "https://localhost:8080/"
        },
        "id": "2tAzDqJ6HNIF",
        "outputId": "0f0e1976-5a4c-49da-db25-d14ecc19af52"
      },
      "source": [
        "print(model.most_similar(positive=['плохой_A', 'ужасный_A'], negative=['хороший_A'])[0][0])"
      ],
      "execution_count": 22,
      "outputs": [
        {
          "output_type": "stream",
          "name": "stdout",
          "text": [
            "страшный_A\n"
          ]
        }
      ]
    },
    {
      "cell_type": "markdown",
      "metadata": {
        "id": "XApnxdg-HNIH"
      },
      "source": [
        "Find the word that does not match the rest of the words:"
      ]
    },
    {
      "cell_type": "code",
      "metadata": {
        "colab": {
          "base_uri": "https://localhost:8080/"
        },
        "id": "KzguX9wNHNIJ",
        "outputId": "fa612717-9535-43e8-abb3-fb842f650013"
      },
      "source": [
        "print(model.doesnt_match('плохой_A хороший_A ужасный_A страшный_A'.split()))"
      ],
      "execution_count": 23,
      "outputs": [
        {
          "output_type": "stream",
          "name": "stdout",
          "text": [
            "хороший_A\n"
          ]
        }
      ]
    },
    {
      "cell_type": "code",
      "metadata": {
        "colab": {
          "base_uri": "https://localhost:8080/"
        },
        "id": "PhEBxE72RiHq",
        "outputId": "e76e2051-2ff3-4362-aa63-4c367794f155"
      },
      "source": [
        "print(model.doesnt_match('плохой_A ужасный_A страшный_A'.split()))"
      ],
      "execution_count": 25,
      "outputs": [
        {
          "output_type": "stream",
          "name": "stdout",
          "text": [
            "плохой_A\n"
          ]
        }
      ]
    },
    {
      "cell_type": "code",
      "metadata": {
        "colab": {
          "base_uri": "https://localhost:8080/"
        },
        "id": "2T15LhbeHNIK",
        "outputId": "63743d03-fc5e-48b8-eb35-6d35cfad4dac"
      },
      "source": [
        "for word, score in model.most_similar(positive=['ужасно_ADV'], negative=['плохой_A']):\n",
        "    print(f'{score:.4}\\t{word}')"
      ],
      "execution_count": 24,
      "outputs": [
        {
          "output_type": "stream",
          "name": "stdout",
          "text": [
            "0.5575\tбезумно_ADV\n",
            "0.4791\tбезмерно_ADV\n",
            "0.4536\tжутко_ADV\n",
            "0.4472\tневероятно_ADV\n",
            "0.4394\tочень_ADV\n",
            "0.4364\tчертовски_ADV\n",
            "0.4231\tстрашно_ADV\n",
            "0.4124\tнеобычайно_ADV\n",
            "0.4119\tнестерпимо_ADV\n",
            "0.4005\tнеобыкновенно_ADV\n"
          ]
        }
      ]
    },
    {
      "cell_type": "markdown",
      "metadata": {
        "id": "KSkRa57-HNIL"
      },
      "source": [
        "#### Visualization of the data\n",
        "\n",
        "Many ways to do it, let's try PCA (Principle Component Analysis, reduces the number of dimensions)"
      ]
    },
    {
      "cell_type": "code",
      "metadata": {
        "id": "pma3tEUIHNIP"
      },
      "source": [
        "from sklearn.decomposition import PCA\n",
        "import matplotlib.pyplot as plt\n",
        "%matplotlib inline"
      ],
      "execution_count": 26,
      "outputs": []
    },
    {
      "cell_type": "code",
      "metadata": {
        "id": "QRbvoXO6HNIR"
      },
      "source": [
        "words = ['хороший_A', 'плохой_A', 'ужасный_A','жуткий_A', 'страшный_A', 'красный_A', 'синий_A']\n",
        "X = model[words]"
      ],
      "execution_count": 27,
      "outputs": []
    },
    {
      "cell_type": "markdown",
      "metadata": {
        "id": "vLaKrbL0HNIS"
      },
      "source": [
        "Executed on the list on words:"
      ]
    },
    {
      "cell_type": "code",
      "metadata": {
        "id": "qAaUw52YHNIT"
      },
      "source": [
        "pca = PCA(n_components=2)\n",
        "coords = pca.fit_transform(X)"
      ],
      "execution_count": 28,
      "outputs": []
    },
    {
      "cell_type": "code",
      "metadata": {
        "colab": {
          "base_uri": "https://localhost:8080/",
          "height": 281
        },
        "id": "gZuLUS_cHNIV",
        "outputId": "9fcfee22-661d-410e-d372-89633b6bc035"
      },
      "source": [
        "plt.scatter(coords[:, 0], coords[:, 1], color='red')\n",
        "plt.title('Words')\n",
        "\n",
        "for i, word in enumerate(words):\n",
        "    plt.annotate(word, xy=(coords[i, 0], coords[i, 1]))\n",
        "plt.show()"
      ],
      "execution_count": 29,
      "outputs": [
        {
          "output_type": "display_data",
          "data": {
            "image/png": "[encoded data removed]",
            "text/plain": [
              "<Figure size 432x288 with 1 Axes>"
            ]
          },
          "metadata": {
            "needs_background": "light"
          }
        }
      ]
    },
    {
      "cell_type": "markdown",
      "metadata": {
        "id": "mhg0QhpkHNIW"
      },
      "source": [
        "Executed on all the words in the model:"
      ]
    },
    {
      "cell_type": "code",
      "metadata": {
        "id": "0v_KJOWKHNIX"
      },
      "source": [
        "pca = PCA(n_components=2)\n",
        "pca.fit(model[list(model.vocab)])\n",
        "coords = pca.transform(model[words])"
      ],
      "execution_count": 30,
      "outputs": []
    },
    {
      "cell_type": "code",
      "metadata": {
        "colab": {
          "base_uri": "https://localhost:8080/",
          "height": 281
        },
        "id": "Fv8mEKKhHNIZ",
        "outputId": "22203607-1e32-48f4-e278-47e2d08c3db3"
      },
      "source": [
        "plt.scatter(coords[:, 0], coords[:, 1], color='red')\n",
        "plt.title('Words')\n",
        "\n",
        "for i, word in enumerate(words):\n",
        "    plt.annotate(word, xy=(coords[i, 0], coords[i, 1]))\n",
        "plt.show()"
      ],
      "execution_count": 31,
      "outputs": [
        {
          "output_type": "display_data",
          "data": {
            "image/png": "[encoded data removed]",
            "text/plain": [
              "<Figure size 432x288 with 1 Axes>"
            ]
          },
          "metadata": {
            "needs_background": "light"
          }
        }
      ]
    },
    {
      "cell_type": "markdown",
      "metadata": {
        "id": "VxCO--ZnHNIh"
      },
      "source": [
        "#### Model evaluation\n",
        "\n",
        "+ word similarity, compare the results of the training with experimental results from human participants\n",
        "+ analogies:\n",
        "\n",
        "| слово 1    | слово 2    | отношение     | \n",
        "|------------|------------|---------------|\n",
        "| Россия     | Москва     | страна-столица| \n",
        "| Норвегия   | Осло       | страна-столица|"
      ]
    },
    {
      "cell_type": "code",
      "metadata": {
        "id": "v-J3_4SqHNIk"
      },
      "source": [
        "res = model.accuracy('ru_analogy_tagged.txt')"
      ],
      "execution_count": null,
      "outputs": []
    },
    {
      "cell_type": "code",
      "metadata": {
        "id": "obVy0EUSHNIm"
      },
      "source": [
        "for row in res[4]['incorrect'][:10]:\n",
        "    print('\\t'.join(row))"
      ],
      "execution_count": null,
      "outputs": []
    }
  ]
}