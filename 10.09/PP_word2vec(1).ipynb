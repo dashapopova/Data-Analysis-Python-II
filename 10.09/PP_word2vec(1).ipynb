{
  "nbformat": 4,
  "nbformat_minor": 0,
  "metadata": {
    "kernelspec": {
      "display_name": "Python 3",
      "language": "python",
      "name": "python3"
    },
    "language_info": {
      "codemirror_mode": {
        "name": "ipython",
        "version": 3
      },
      "file_extension": ".py",
      "mimetype": "text/x-python",
      "name": "python",
      "nbconvert_exporter": "python",
      "pygments_lexer": "ipython3",
      "version": "3.6.5"
    },
    "colab": {
      "provenance": []
    }
  },
  "cells": [
    {
      "cell_type": "markdown",
      "metadata": {
        "id": "fi-d6xoVHNFs"
      },
      "source": [
        "### Distributive hypothesis in semantics\n",
        "\n",
        "+ Ludwig Wittgenstein:\n",
        "Die Bedeutung eines Wortes liegt in seinem Gebrauch.\n",
        "\n",
        "\n",
        "+ Firth (1935:37) on context dependence (cited by Stubbs):\n",
        "the complete meaning of a word is always contextual, and no study of meaning apart from context can be taken seriously.\n",
        "\n",
        "\n",
        "+ Firth (1957:11):\n",
        "You shall know a word by the company it keeps . . .\n",
        "\n",
        "\n",
        "+ Harris (1954:34):\n",
        "All elements in a language can be grouped into classes whose relative occurrence can be stated exactly. However, for the occurrence of a particular member of one class relative to a particular member of another class, it would be necessary to speak in terms of probability, based on the frequency of that occurrence in a sample.\n",
        "\n",
        "\n",
        "+ Harris (1954:34):\n",
        "It is possible to state the occurrence of any element relative to any other element, to the degree of exactness indicated above, so that distributional statements can cover all of the material of a language without requiring support from other types of information.\n",
        "\n",
        "\n",
        "+ Harris (1954:34) (anticipating deep learning?):\n",
        "The restrictions on relative occurrence of each element are described most simply by a network of interrelated statements, certain of them being put in terms of the results of certain others, rather than by a simple measure of the total restriction on each element separately.\n",
        "\n",
        "\n",
        "+ Harris (1954:36) on levels of analysis:\n",
        "\n",
        "\n",
        "    - Some question has been raised as to the reality of this structure. Does it really exist, or is it just a mathematical creation of the investigator’s? Skirting the philosophical difficulties of this problem, we should, in any case, realize that there are two quite different questions here. \n",
        "    \n",
        "    - One: Does the structure really exist in language? The answer is yes, as much as any scientific structure really obtains in the data which it describes — the scientific structure states a network of relations, and these relations really hold in the data investigated.\n",
        "    \n",
        "    - Two: Does the structure really exist in speakers? Here we are faced with a question of fact which is not directly or fully investigated in the process of determining the distributional structure. Clearly, certain behaviors of the speakers indicate perception along the lines of the distributional structure, for example, the fact that while people imitate nonlinguistic or foreign-language sounds, they repeat utterances of their own language.\n",
        "\n",
        "\n",
        "+ Harris (1954:39) on meaning and context-dependence:\n",
        "All this is not to say that there is not a great interconnection between language and meaning, in whatever sense it may be possible to use this work. But it is not a one-to-one relation between morphological structure and anything else. There is not even a one-to-one relation between vocabulary and any independent classification of meaning; we cannot say that each morpheme or word has a single central meaning or even that it has a continuous or coherent range of meanings...The correlation between language and meaning is much greater when we consider connected discourse.\n",
        "\n",
        "\n",
        "+ Harris (1954:43):\n",
        "The fact that, for example, not every adjective occurs with every noun can be used as a measure of meaning difference. For it is not merely that different members of the one class have different selections of members of the other class with which they are actually found. More than that: if we consider words or morphemes A and B to be more different than A and C, then we will often find that the distributions of A and B are more different than the distributions of A and C. In other words, difference in meaning correlates with difference in distribution.\n",
        "\n",
        "\n",
        "+ Turney & Pantel (2010:153):\n",
        "\n",
        "\n",
        "    - Statistical semantics hypothesis: Statistical patterns of human word usage can be used to figure out what people mean (Weaver, 1955; Furnas et al., 1983). – If units of text have similar vectors in a text frequency matrix, then they tend to have similar meanings. (We take this to be a general hypothesis that subsumes the four more specific hypotheses that follow.)\n",
        "\n",
        "    - Bag of words hypothesis: The frequencies of words in a document tend to indicate the relevance of the document to a query (Salton et al., 1975). – If documents and pseudo-documents (queries) have similar column vectors in a term–document matrix, then they tend to have similar meanings.\n",
        "\n",
        "    - Distributional hypothesis: Words that occur in similar contexts tend to have similar meanings (Harris, 1954; Firth, 1957; Deerwester et al., 1990). – If words have similar row vectors in a word–context matrix, then they tend to have similar meanings.\n",
        "      \n",
        "    - Extended distributional hypothesis: Patterns that co-occur with similar pairs tend to have similar meanings (Lin & Pantel, 2001). – If patterns have similar column vectors in a pair–pattern matrix, then they tend to express similar semantic relations.\n",
        "\n",
        "    - Latent relation hypothesis: Pairs of words that co-occur in similar patterns tend to have similar semantic relations (Turney et al., 2003). – If word pairs have similar row vectors in a pair–pattern matrix, then they tend to have similar semantic relations.\n",
        "    \n",
        "    \n",
        "+ What is the meaning of the word \"bardiwac\" (Stefan Evert's example)?\n",
        "\n",
        "    - He handed her her glass of bardiwac.\n",
        "\n",
        "    - Beef dishes are made to complement the bardiwacs.\n",
        "\n",
        "    - Nigel staggered to his feet, face flushed from too much bardiwac.\n",
        "\n",
        "    - Malbec, one of the lesser-known bardiwac grapes, responds well to Australia’s sunshine.\n",
        "\n",
        "    - I dined off bread and cheese and this excellent bardiwac.\n",
        "\n",
        "    - The drinks were delicious: blood-red bardiwac as well as light, sweet Rhenish.\n",
        "\n",
        "#### Word2Vec\n",
        "\n",
        "One of the most famous distributional models is word2vec. The model is based on a neural network that predicts the probability of occurrence of a given word in a given context. The two seminal papers are linked below:\n",
        "\n",
        "+ [Efficient Estimation of Word Representations inVector Space](https://arxiv.org/pdf/1301.3781.pdf)\n",
        "+ [Distributed Representations of Words and Phrases and their Compositionality](https://arxiv.org/abs/1310.4546)\n",
        "\n",
        "The model produces word representations in a form of a vector, or, an embedding.\n",
        "\n",
        "Word2Vec comprises two algorithms: Skip-Gram and Continuous Bag-Of-Words (CBOW). The CBOW architecture predicts the current word based on the context, and the Skip-gram predicts surrounding words given the current word.\n",
        "\n",
        "#### How does word2vec work?\n",
        "\n",
        "Word2Vec takes a corpus as an input and creates a vector for each word. Vectors (embeddings) are created based on the distributional hypothesis. Cosine similarity between embeddings reflects similarity in the semantics of the words.\n",
        "\n",
        "We can use embeddings to create analogies:\n",
        "\n",
        "+ king: man = queen: woman $\\Rightarrow$\n",
        "+ king - man + woman = queen\n",
        "\n",
        "![w2v](https://cdn-images-1.medium.com/max/2600/1*sXNXYfAqfLUeiDXPCo130w.png)\n",
        "\n",
        "More on the mechanics you can find [here](https://habr.com/ru/post/446530/)\n",
        "\n",
        "#### Why do we need it?\n",
        "\n",
        "+ to solve semantic problems\n",
        "+ for which classes of words is the distributional hypothesis most useful?\n",
        "+ some papers on its use in semantics:\n",
        "\n",
        "* [Turney and Pantel 2010](https://jair.org/index.php/jair/article/view/10640)\n",
        "* [Lenci 2018](https://www.annualreviews.org/doi/abs/10.1146/annurev-linguistics-030514-125254?journalCode=linguistics)\n",
        "* [Smith 2019](https://arxiv.org/pdf/1902.06006.pdf)\n",
        "* [Pennington et al. 2014](https://www.aclweb.org/anthology/D14-1162/)\n",
        "* [Faruqui et al. 2015](https://www.aclweb.org/anthology/N15-1184/)\n",
        "\n",
        "+ to create input for neural networks\n",
        "+ word2vec is used in Siri, Google Assistant, Alexa, Google Translate...\n",
        "\n",
        "#### Gensim\n",
        "\n",
        "We will use the `gensim` library to get access to the word2vec model. Here you can find the library's [documentation](https://radimrehurek.com/gensim/models/word2vec.html).\n",
        "\n",
        "First, let's install the library: `pip install gensim`. You can do it from jupyter: `!pip install gensim`. To update: `pip install gensim --upgrade` or `pip install gensim -U`"
      ]
    },
    {
      "cell_type": "code",
      "metadata": {
        "id": "pyroE0-XHNGG"
      },
      "source": [
        "import re\n",
        "import gensim\n",
        "import logging\n",
        "import nltk.data\n",
        "import pandas as pd\n",
        "import urllib.request\n",
        "from bs4 import BeautifulSoup\n",
        "from nltk.corpus import stopwords\n",
        "from gensim.models import word2vec\n",
        "\n",
        "import warnings\n",
        "warnings.filterwarnings('ignore')"
      ],
      "execution_count": 1,
      "outputs": []
    },
    {
      "cell_type": "markdown",
      "metadata": {
        "id": "xCVWJx4vHNGl"
      },
      "source": [
        "#### How to train your own model\n",
        "\n",
        "NB! The training does not involve preprocessing! It means that, if necessary for your task, you have to get rid of the punctuation, lower, lemmatize, do the pos tagging before the training.\n",
        "\n",
        "To log the training:"
      ]
    },
    {
      "cell_type": "code",
      "metadata": {
        "id": "9dmidzjLHNGo"
      },
      "source": [
        "logging.basicConfig(format='%(asctime)s : %(levelname)s : %(message)s', level=logging.INFO)"
      ],
      "execution_count": 2,
      "outputs": []
    },
    {
      "cell_type": "markdown",
      "metadata": {
        "id": "qG-y6_ciHNGw"
      },
      "source": [
        "The input for the model is a text file, where every sentence starts on a new line. The text is stripped of the punctuation, lowered and lemmatized. We won't do the preprocessing part in class, we will use a preprocessed file liza_lem.txt."
      ]
    },
    {
      "cell_type": "code",
      "metadata": {
        "id": "jwkNLeTyHNGz"
      },
      "source": [
        "f = 'liza_lem.txt'\n",
        "data = gensim.models.word2vec.LineSentence(f)"
      ],
      "execution_count": 3,
      "outputs": []
    },
    {
      "cell_type": "markdown",
      "metadata": {
        "id": "9EkuDSJjHNG2"
      },
      "source": [
        "We will be training our model now. The main parameters:\n",
        "\n",
        "+ the data should be iterable\n",
        "+ size — dimensionality of the word vectors,\n",
        "+ window — maximum distance between the current and predicted word within a sentence,\n",
        "+ min_count — ignores all words with total frequency lower than this,\n",
        "+ sg —  training algorithm: 1 for skip-gram; otherwise CBOW,\n",
        "+ sample — the threshold for configuring which higher-frequency words are randomly downsampled,\n",
        "+ iter — number of iterations (epochs) over the corpus,\n",
        "+ max_vocab_size — limits the RAM during vocabulary building; if there are more unique words than this, then prune the infrequent ones. Every 10 million word types need about 1GB of RAM. Set to None for no limit."
      ]
    },
    {
      "cell_type": "code",
      "metadata": {
        "colab": {
          "base_uri": "https://localhost:8080/"
        },
        "id": "YGKn-5wdHNG-",
        "outputId": "1db77cbd-45df-4c6d-a6b0-06b07b849b56"
      },
      "source": [
        "%time model_liza = gensim.models.Word2Vec(data, size=300, window=5, min_count=2)"
      ],
      "execution_count": 4,
      "outputs": [
        {
          "output_type": "stream",
          "name": "stderr",
          "text": [
            "WARNING:gensim.models.base_any2vec:under 10 jobs per worker: consider setting a smaller `batch_words' for smoother alpha decay\n"
          ]
        },
        {
          "output_type": "stream",
          "name": "stdout",
          "text": [
            "CPU times: user 164 ms, sys: 6.37 ms, total: 170 ms\n",
            "Wall time: 179 ms\n"
          ]
        }
      ]
    },
    {
      "cell_type": "markdown",
      "metadata": {
        "id": "IQ8gG5e9HNG_"
      },
      "source": [
        "We can normalize the vectors, then the model would take up less RAM. After this operation, however, you won't be able to retrain the model. L2-normalization is used: the sum of squares of all the vector elements will be brought to 1. "
      ]
    },
    {
      "cell_type": "code",
      "metadata": {
        "colab": {
          "base_uri": "https://localhost:8080/"
        },
        "id": "jYprhwMAHNHF",
        "outputId": "8b5ff5e0-3cf8-4fa5-d7a3-8a8aa8eb759d"
      },
      "source": [
        "model_liza.init_sims(replace=True)\n",
        "model_path = \"liza.bin\"\n",
        "\n",
        "print(\"Saving model...\")\n",
        "model_liza.wv.save_word2vec_format(model_path, binary=True)"
      ],
      "execution_count": 5,
      "outputs": [
        {
          "output_type": "stream",
          "name": "stdout",
          "text": [
            "Saving model...\n"
          ]
        }
      ]
    },
    {
      "cell_type": "markdown",
      "metadata": {
        "id": "cZ2LczlgHNHJ"
      },
      "source": [
        "Let's count the number of words in the model:"
      ]
    },
    {
      "cell_type": "code",
      "metadata": {
        "colab": {
          "base_uri": "https://localhost:8080/"
        },
        "id": "dUX-y4GwHNHP",
        "outputId": "844cc2ad-71fd-459f-a626-58824ffb86c1"
      },
      "source": [
        "print(len(model_liza.wv.vocab))"
      ],
      "execution_count": 6,
      "outputs": [
        {
          "output_type": "stream",
          "name": "stdout",
          "text": [
            "478\n"
          ]
        }
      ]
    },
    {
      "cell_type": "code",
      "metadata": {
        "colab": {
          "base_uri": "https://localhost:8080/"
        },
        "id": "b4UYddmkHNHS",
        "outputId": "1f1c3c36-931e-4e14-d336-aee8c712ab00"
      },
      "source": [
        "print(sorted([w for w in model_liza.wv.vocab]))"
      ],
      "execution_count": 7,
      "outputs": [
        {
          "output_type": "stream",
          "name": "stdout",
          "text": [
            "['анюта', 'армия', 'ах', 'барин', 'бедный', 'белый', 'берег', 'березовый', 'беречь', 'бесчисленный', 'благодарить', 'бледный', 'блеснуть', 'блестящий', 'близ', 'бог', 'богатый', 'большой', 'бояться', 'брать', 'бросать', 'бросаться', 'бывать', 'быть', 'важный', 'ввечеру', 'вдова', 'велеть', 'великий', 'великолепный', 'верить', 'верно', 'весело', 'веселый', 'весна', 'вести', 'весь', 'весьма', 'ветвь', 'ветер', 'вечер', 'взглядывать', 'вздох', 'вздыхать', 'взор', 'взять', 'вид', 'видеть', 'видеться', 'видный', 'вместе', 'вода', 'возвращаться', 'воздух', 'война', 'воображать', 'воображение', 'воспоминание', 'восторг', 'восхищаться', 'время', 'все', 'вслед', 'вставать', 'встречаться', 'всякий', 'высокий', 'выть', 'выходить', 'глаз', 'глубокий', 'гнать', 'говорить', 'год', 'голос', 'гора', 'горе', 'горестный', 'горлица', 'город', 'горький', 'господь', 'гром', 'грусть', 'давать', 'давно', 'далее', 'дверь', 'движение', 'двор', 'девушка', 'дело', 'день', 'деньги', 'деревня', 'деревянный', 'десять', 'добро', 'добрый', 'довольно', 'доживать', 'долго', 'должный', 'дом', 'домой', 'дочь', 'древний', 'друг', 'другой', 'дуб', 'думать', 'душа', 'едва', 'ехать', 'жалобный', 'желание', 'желать', 'жениться', 'жених', 'женщина', 'жестокий', 'живой', 'жизнь', 'жить', 'забава', 'заблуждение', 'забывать', 'завтра', 'задумчивость', 'закраснеться', 'закричать', 'заря', 'здешний', 'здравствовать', 'зеленый', 'земля', 'златой', 'знать', 'ибо', 'играть', 'идти', 'имя', 'искать', 'исполняться', 'испугаться', 'история', 'исчезать', 'кабинет', 'казаться', 'какой', 'капля', 'карета', 'карман', 'картина', 'катиться', 'келья', 'клятва', 'колено', 'копейка', 'который', 'красота', 'крест', 'крестьянин', 'крестьянка', 'кровь', 'кроме', 'кто', 'купить', 'ландыш', 'ласка', 'ласковый', 'левый', 'лес', 'лететь', 'летний', 'лето', 'лиза', 'лизин', 'лизина', 'лицо', 'лишний', 'лодка', 'ложиться', 'луг', 'луч', 'любезный', 'любить', 'любовь', 'лютый', 'матушка', 'мать', 'место', 'месяц', 'мечта', 'милый', 'мимо', 'минута', 'многочисленный', 'могила', 'мой', 'молить', 'молиться', 'молния', 'молодой', 'молодость', 'молчать', 'монастырь', 'море', 'москва', 'москва-река', 'мочь', 'мрак', 'мрачный', 'муж', 'мы', 'мысль', 'наглядеться', 'надеяться', 'надлежать', 'надобно', 'называть', 'наступать', 'натура', 'находить', 'наш', 'небесный', 'небо', 'невинность', 'невинный', 'неделя', 'нежели', 'нежный', 'незнакомец', 'некоторый', 'непорочность', 'неприятель', 'несколько', 'никакой', 'никто', 'новый', 'ночь', 'обижать', 'облако', 'обманывать', 'обморок', 'образ', 'обращаться', 'обстоятельство', 'объятие', 'огонь', 'один', 'однако', 'окно', 'окрестности', 'он', 'она', 'они', 'оно', 'опираться', 'описывать', 'опустеть', 'освещать', 'оставаться', 'оставлять', 'останавливать', 'останавливаться', 'отвечать', 'отдавать', 'отец', 'отечество', 'отменно', 'отрада', 'очень', 'падать', 'память', 'пастух', 'первый', 'перемениться', 'переставать', 'песня', 'петь', 'печальный', 'писать', 'питать', 'плакать', 'побежать', 'побледнеть', 'погибать', 'подавать', 'подгорюниваться', 'подле', 'подозревать', 'подымать', 'поехать', 'пойти', 'показываться', 'поклониться', 'покойный', 'покрывать', 'покрываться', 'покупать', 'полагать', 'поле', 'помнить', 'поселянин', 'последний', 'постой', 'потуплять', 'поцеловать', 'поцелуй', 'правый', 'представляться', 'прежде', 'преклонять', 'прекрасный', 'прелестный', 'приводить', 'прижимать', 'принадлежать', 'принуждать', 'природа', 'приходить', 'приятно', 'приятный', 'провожать', 'продавать', 'проливать', 'простой', 'просыпаться', 'проходить', 'проч', 'прощать', 'прощаться', 'пруд', 'птичка', 'пылать', 'пять', 'работа', 'работать', 'радость', 'рассказывать', 'расставаться', 'рвать', 'ребенок', 'река', 'решаться', 'робкий', 'роза', 'розовый', 'роман', 'российский', 'роща', 'рубль', 'рука', 'сам', 'самый', 'свет', 'светиться', 'светлый', 'свидание', 'свирель', 'свободно', 'свое', 'свой', 'свойство', 'сделать', 'сделаться', 'сей', 'сердечный', 'сердце', 'сидеть', 'сие', 'сиять', 'сказать', 'сказывать', 'сквозь', 'скорбь', 'скоро', 'скрываться', 'слабый', 'слеза', 'слезать', 'слово', 'случаться', 'слушать', 'слышать', 'смерть', 'сметь', 'смотреть', 'собственный', 'соглашаться', 'солнце', 'спасать', 'спокойно', 'спокойствие', 'спрашивать', 'стадо', 'становиться', 'стараться', 'старуха', 'старушка', 'старый', 'статься', 'стена', 'сто', 'столь', 'стон', 'стонать', 'сторона', 'стоять', 'страшно', 'страшный', 'судьба', 'схватывать', 'счастие', 'счастливый', 'сын', 'таить', 'такой', 'твой', 'темный', 'тения', 'тихий', 'тихонько', 'томный', 'тот', 'трава', 'трепетать', 'трогать', 'ты', 'убивать', 'уверять', 'увидеть', 'увидеться', 'удерживать', 'удивляться', 'удовольствие', 'узнавать', 'улица', 'улыбка', 'уметь', 'умирать', 'унылый', 'упасть', 'услышать', 'утешение', 'утро', 'хижина', 'хлеб', 'ходить', 'холм', 'хороший', 'хотеть', 'хотеться', 'хотя', 'худо', 'худой', 'царь', 'цветок', 'целовать', 'час', 'часто', 'человек', 'чистый', 'читатель', 'чувствительный', 'чувство', 'чувствовать', 'чулок', 'шестой', 'шум', 'шуметь', 'щадить', 'щека', 'эраст', 'эрастов', 'это', 'я']\n"
          ]
        }
      ]
    },
    {
      "cell_type": "markdown",
      "metadata": {
        "id": "h1DAUZGxHNHU"
      },
      "source": [
        "Let's see what the model learned:"
      ]
    },
    {
      "cell_type": "code",
      "metadata": {
        "colab": {
          "base_uri": "https://localhost:8080/"
        },
        "id": "P0x8fs7sHNHW",
        "outputId": "31c6cb12-6c62-4629-bdce-aa58e158fe37"
      },
      "source": [
        "model_liza.wv.most_similar(positive=[\"смерть\", \"любовь\"], negative=[\"печальный\"], topn=3)"
      ],
      "execution_count": 8,
      "outputs": [
        {
          "output_type": "execute_result",
          "data": {
            "text/plain": [
              "[('близ', 0.18220338225364685),\n",
              " ('вода', 0.17409028112888336),\n",
              " ('закричать', 0.17195338010787964)]"
            ]
          },
          "metadata": {},
          "execution_count": 8
        }
      ]
    },
    {
      "cell_type": "code",
      "metadata": {
        "colab": {
          "base_uri": "https://localhost:8080/"
        },
        "id": "hhbn1Oa1HNHZ",
        "outputId": "02388c22-67e1-4ce3-dd6c-0ad5a2b109ba"
      },
      "source": [
        "model_liza.wv.most_similar(\"любовь\", topn=3)"
      ],
      "execution_count": 9,
      "outputs": [
        {
          "output_type": "execute_result",
          "data": {
            "text/plain": [
              "[('трава', 0.20923158526420593),\n",
              " ('деревня', 0.1763940453529358),\n",
              " ('проходить', 0.17096920311450958)]"
            ]
          },
          "metadata": {},
          "execution_count": 9
        }
      ]
    },
    {
      "cell_type": "code",
      "metadata": {
        "colab": {
          "base_uri": "https://localhost:8080/"
        },
        "id": "XEd9n-70HNHg",
        "outputId": "b767ccc0-27c3-4e87-f38e-4b071a85c90b"
      },
      "source": [
        "model_liza.wv.similarity(\"лиза\", \"эраст\")"
      ],
      "execution_count": 10,
      "outputs": [
        {
          "output_type": "execute_result",
          "data": {
            "text/plain": [
              "0.0652391"
            ]
          },
          "metadata": {},
          "execution_count": 10
        }
      ]
    },
    {
      "cell_type": "code",
      "metadata": {
        "colab": {
          "base_uri": "https://localhost:8080/"
        },
        "id": "hp-fhh_fHNHj",
        "outputId": "4598798e-2f56-4680-a592-1f0575daa327"
      },
      "source": [
        "model_liza.wv.similarity(\"лиза\", \"лиза\")"
      ],
      "execution_count": 11,
      "outputs": [
        {
          "output_type": "execute_result",
          "data": {
            "text/plain": [
              "0.99999994"
            ]
          },
          "metadata": {},
          "execution_count": 11
        }
      ]
    },
    {
      "cell_type": "code",
      "metadata": {
        "colab": {
          "base_uri": "https://localhost:8080/",
          "height": 35
        },
        "id": "gmr5iAcoHNHm",
        "outputId": "0e761a7c-c892-4a64-ce18-95ff3c6b31dd"
      },
      "source": [
        "model_liza.wv.doesnt_match(\"скорбь грусть слеза улыбка\".split())"
      ],
      "execution_count": 12,
      "outputs": [
        {
          "output_type": "execute_result",
          "data": {
            "text/plain": [
              "'улыбка'"
            ],
            "application/vnd.google.colaboratory.intrinsic+json": {
              "type": "string"
            }
          },
          "metadata": {},
          "execution_count": 12
        }
      ]
    },
    {
      "cell_type": "code",
      "metadata": {
        "colab": {
          "base_uri": "https://localhost:8080/"
        },
        "id": "_yGJRjeUHNHo",
        "outputId": "0022fe36-9e7e-43ba-d301-fcc61d141807"
      },
      "source": [
        "model_liza.wv.words_closer_than(\"лиза\", \"эраст\")"
      ],
      "execution_count": 13,
      "outputs": [
        {
          "output_type": "execute_result",
          "data": {
            "text/plain": [
              "['свой',\n",
              " 'который',\n",
              " 'мочь',\n",
              " 'сказать',\n",
              " 'ах',\n",
              " 'сей',\n",
              " 'сердце',\n",
              " 'глаз',\n",
              " 'мой',\n",
              " 'любить',\n",
              " 'мать',\n",
              " 'ты',\n",
              " 'твой',\n",
              " 'хотеть',\n",
              " 'день',\n",
              " 'говорить',\n",
              " 'друг',\n",
              " 'знать',\n",
              " 'часто',\n",
              " 'думать',\n",
              " 'милый',\n",
              " 'всякий',\n",
              " 'один',\n",
              " 'такой',\n",
              " 'душа',\n",
              " 'жить',\n",
              " 'слеза',\n",
              " 'любезный',\n",
              " 'молодой',\n",
              " 'смерть',\n",
              " 'матушка',\n",
              " 'время',\n",
              " 'старушка',\n",
              " 'лизин',\n",
              " 'земля',\n",
              " 'добрый',\n",
              " 'свет',\n",
              " 'отвечать',\n",
              " 'взять',\n",
              " 'небо',\n",
              " 'бедный',\n",
              " 'любовь',\n",
              " 'москва',\n",
              " 'новый',\n",
              " 'образ',\n",
              " 'скоро',\n",
              " 'идти',\n",
              " 'она',\n",
              " 'слово',\n",
              " 'прощаться',\n",
              " 'стоять',\n",
              " 'луч',\n",
              " 'нежный',\n",
              " 'хижина',\n",
              " 'давать',\n",
              " 'плакать',\n",
              " 'увидеть',\n",
              " 'прежде',\n",
              " 'надобно',\n",
              " 'взглядывать',\n",
              " 'пойти',\n",
              " 'минута',\n",
              " 'берег',\n",
              " 'луг',\n",
              " 'монастырь',\n",
              " 'река',\n",
              " 'печальный',\n",
              " 'лицо',\n",
              " 'оставаться',\n",
              " 'казаться',\n",
              " 'спрашивать',\n",
              " 'самый',\n",
              " 'возвращаться',\n",
              " 'натура',\n",
              " 'объятие',\n",
              " 'забывать',\n",
              " 'бояться',\n",
              " 'город',\n",
              " 'роща',\n",
              " 'находить',\n",
              " 'стадо',\n",
              " 'трава',\n",
              " 'веселый',\n",
              " 'сие',\n",
              " 'прекрасный',\n",
              " 'продавать',\n",
              " 'проходить',\n",
              " 'встречаться',\n",
              " 'пять',\n",
              " 'голос',\n",
              " 'надлежать',\n",
              " 'верить',\n",
              " 'счастливый',\n",
              " 'оставлять',\n",
              " 'последний',\n",
              " 'дело',\n",
              " 'дуб',\n",
              " 'несколько',\n",
              " 'дом',\n",
              " 'солнце',\n",
              " 'подле',\n",
              " 'столь',\n",
              " 'высокий',\n",
              " 'вместе',\n",
              " 'зеленый',\n",
              " 'брать',\n",
              " 'ходить',\n",
              " 'улица',\n",
              " 'незнакомец',\n",
              " 'хороший',\n",
              " 'искать',\n",
              " 'вечер',\n",
              " 'тихий',\n",
              " 'благодарить',\n",
              " 'радость',\n",
              " 'ласковый',\n",
              " 'утро',\n",
              " 'поцеловать',\n",
              " 'весь',\n",
              " 'узнавать',\n",
              " 'видеться',\n",
              " 'пруд',\n",
              " 'поцелуй',\n",
              " 'жестокий',\n",
              " 'картина',\n",
              " 'светлый',\n",
              " 'шуметь',\n",
              " 'хлеб',\n",
              " 'природа',\n",
              " 'исчезать',\n",
              " 'память',\n",
              " 'отечество',\n",
              " 'довольно',\n",
              " 'называть',\n",
              " 'я',\n",
              " 'помнить',\n",
              " 'таить',\n",
              " 'покойный',\n",
              " 'другой',\n",
              " 'горе',\n",
              " 'обращаться',\n",
              " 'богатый',\n",
              " 'блестящий',\n",
              " 'небесный',\n",
              " 'скрываться',\n",
              " 'деревня',\n",
              " 'кровь',\n",
              " 'война',\n",
              " 'упасть',\n",
              " 'холм',\n",
              " 'лето',\n",
              " 'некоторый',\n",
              " 'правый',\n",
              " 'великолепный',\n",
              " 'пылать',\n",
              " 'крест',\n",
              " 'российский',\n",
              " 'простой',\n",
              " 'песня',\n",
              " 'левый',\n",
              " 'опустеть',\n",
              " 'келья',\n",
              " 'трепетать',\n",
              " 'колено',\n",
              " 'молиться',\n",
              " 'томный',\n",
              " 'сквозь',\n",
              " 'свободно',\n",
              " 'горький',\n",
              " 'лютый',\n",
              " 'поселянин',\n",
              " 'отдавать',\n",
              " 'весьма',\n",
              " 'работать',\n",
              " 'чувствительный',\n",
              " 'собственный',\n",
              " 'ложиться',\n",
              " 'останавливать',\n",
              " 'наступать',\n",
              " 'белый',\n",
              " 'утешение',\n",
              " 'подозревать',\n",
              " 'провожать',\n",
              " 'воображение',\n",
              " 'исполняться',\n",
              " 'эрастов',\n",
              " 'подымать',\n",
              " 'светиться',\n",
              " 'сиять',\n",
              " 'оно',\n",
              " 'шестой',\n",
              " 'глубокий',\n",
              " 'целовать',\n",
              " 'непорочность',\n",
              " 'невинность',\n",
              " 'гром',\n",
              " 'полагать',\n",
              " 'побледнеть',\n",
              " 'лететь',\n",
              " 'вода',\n",
              " 'карман',\n",
              " 'армия',\n",
              " 'женщина']"
            ]
          },
          "metadata": {},
          "execution_count": 13
        }
      ]
    },
    {
      "cell_type": "markdown",
      "metadata": {
        "id": "7-hphDcEHNHq"
      },
      "source": [
        "#### Parameter variation\n",
        "\n",
        "Note that what is said below works for large corpora, if your corpus is small, you need to be extra careful!\n",
        "\n",
        "1) preprocessing -- do we lemmatize, tokenize, pos-tag or not\n",
        "\n",
        "2) corpus size -- the greater, the better; but! for semantic tasks the quality is more important than quantity\n",
        "\n",
        "3) vocabulary size\n",
        "\n",
        "4) negative samples\n",
        "\n",
        "5) the number of iterations\n",
        "\n",
        "6) vector size -- 100-300 (it looks like >300 does not make the results better)\n",
        "\n",
        "7) window size -- for syntax -- around 4, for semantics -- 8, 10.\n",
        "\n",
        "A paper that discusses different parameter settings: https://www.aclweb.org/anthology/D14-1162.pdf\n",
        "\n",
        "#### How to use a pre-trained model\n",
        "\n",
        "#### RusVectōrēs\n",
        "\n",
        "RusVectōrēs (https://rusvectores.org/ru/) provides a number of pre-trained models for Russian.\n",
        "\n",
        "For other languages, look at [fastText](https://fasttext.cc/docs/en/english-vectors.html) and [GloVe](https://nlp.stanford.edu/projects/glove/)\n",
        "\n",
        "Let's also look at some vector novels https://nevmenandr.github.io/novel2vec/\n",
        "\n",
        "#### Working with a model\n",
        "\n",
        "Word2vec models can have two formats:\n",
        "\n",
        "+ .vec.gz — an ordinary file\n",
        "+ .bin.gz — a binary file\n",
        "\n",
        "To load a word2vec model, use `KeyedVectors`, you can set the `binary` parameter of the function `load_word2vec_format`.\n",
        "\n",
        "Note that if the embeddings were created not by word2vec, you need to use `load`. Use it if you load the `glove`, `fasttext`, `bpe` embeddings.\n",
        "\n",
        "Let's load a RusVectōrēs model for Russian, trained on Russian National Corpus 2015."
      ]
    },
    {
      "cell_type": "code",
      "metadata": {
        "colab": {
          "base_uri": "https://localhost:8080/"
        },
        "id": "filI-sL-HNHw",
        "outputId": "75a2f7ac-8199-4d32-9aba-73f581b44c29"
      },
      "source": [
        "urllib.request.urlretrieve(\"http://rusvectores.org/static/models/rusvectores2/ruscorpora_mystem_cbow_300_2_2015.bin.gz\", \"ruscorpora_mystem_cbow_300_2_2015.bin.gz\")"
      ],
      "execution_count": 14,
      "outputs": [
        {
          "output_type": "execute_result",
          "data": {
            "text/plain": [
              "('ruscorpora_mystem_cbow_300_2_2015.bin.gz',\n",
              " <http.client.HTTPMessage at 0x7f9c5bcb4990>)"
            ]
          },
          "metadata": {},
          "execution_count": 14
        }
      ]
    },
    {
      "cell_type": "code",
      "metadata": {
        "id": "2dOL_0JDHNH0"
      },
      "source": [
        "m = 'ruscorpora_mystem_cbow_300_2_2015.bin.gz'\n",
        "\n",
        "if m.endswith('.vec.gz'):\n",
        "    model = gensim.models.KeyedVectors.load_word2vec_format(m, binary=False)\n",
        "elif m.endswith('.bin.gz'):\n",
        "    model = gensim.models.KeyedVectors.load_word2vec_format(m, binary=True)\n",
        "else:\n",
        "    model = gensim.models.KeyedVectors.load(m)"
      ],
      "execution_count": 15,
      "outputs": []
    },
    {
      "cell_type": "code",
      "metadata": {
        "id": "Ihw9StUmHNH3"
      },
      "source": [
        "words = ['хороший_A', 'плохой_A', 'ужасный_A','жуткий_A', 'страшный_A', 'красный_A', 'синий_A']"
      ],
      "execution_count": 16,
      "outputs": []
    },
    {
      "cell_type": "markdown",
      "metadata": {
        "id": "1ltyT3lGHNH4"
      },
      "source": [
        "We need the POS tags, because the model was trained on lemmatized and tagged words. The name of the model specifies the algorythm that was used to tag the words, mystem, in our case.\n",
        "\n",
        "Let's look at the 10 closest members for each word that we are interested in and at the cosine similarity.\n"
      ]
    },
    {
      "cell_type": "code",
      "metadata": {
        "colab": {
          "base_uri": "https://localhost:8080/"
        },
        "id": "HXU-NQA5HNH6",
        "outputId": "75560183-26c3-445a-d47b-b4077d7ce498"
      },
      "source": [
        "for word in words:\n",
        "    # is the word present in the model?\n",
        "    if word in model:\n",
        "        print(word)\n",
        "        # looking at the first 10 numbers from the embedding \n",
        "        print(model[word][:10])\n",
        "        # getting 10 neighbours\n",
        "        for i in model.most_similar(positive=[word], topn=10):\n",
        "            # word + cosine similarity\n",
        "            print(i[0], i[1])\n",
        "        print('\\n')\n",
        "    else:\n",
        "        # Oops!\n",
        "        print('Oops, the word \"%s\" is not in the model!' % word)"
      ],
      "execution_count": 17,
      "outputs": [
        {
          "output_type": "stream",
          "name": "stdout",
          "text": [
            "хороший_A\n",
            "[ 0.00722357 -0.00361956  0.1272455   0.06584469  0.00709477 -0.02014845\n",
            " -0.02056034  0.01321563  0.13692418 -0.09624264]\n",
            "плохой_A 0.7463520765304565\n",
            "неплохой_A 0.6708558797836304\n",
            "отличный_A 0.6633436679840088\n",
            "превосходный_A 0.6079519987106323\n",
            "замечательный_A 0.586450457572937\n",
            "недурной_A 0.5322482585906982\n",
            "отменный_A 0.5168066024780273\n",
            "прекрасный_A 0.4982393980026245\n",
            "посредственный_A 0.49099433422088623\n",
            "приличный_A 0.48622459173202515\n",
            "\n",
            "\n",
            "плохой_A\n",
            "[-0.05218472  0.0307817   0.1459371   0.0151835   0.06219714  0.01153753\n",
            " -0.01169093  0.01818374  0.0955373  -0.10191503]\n",
            "хороший_A 0.7463520765304565\n",
            "дурной_A 0.6186875104904175\n",
            "скверный_A 0.6014161109924316\n",
            "отличный_A 0.5226833820343018\n",
            "посредственный_A 0.5061030983924866\n",
            "неважный_A 0.5021152496337891\n",
            "неплохой_A 0.49169060587882996\n",
            "никудышный_A 0.48035892844200134\n",
            "ухудшать_V 0.43680477142333984\n",
            "плохо_ADV 0.4314875304698944\n",
            "\n",
            "\n",
            "ужасный_A\n",
            "[-0.05553271 -0.03172469  0.01998607  0.00171507 -0.00935555 -0.0296017\n",
            "  0.05394973  0.01597532 -0.03785459 -0.02099892]\n",
            "страшный_A 0.8007251024246216\n",
            "жуткий_A 0.6982528567314148\n",
            "отвратительный_A 0.6798903942108154\n",
            "ужасающий_A 0.6174501180648804\n",
            "чудовищный_A 0.6100856065750122\n",
            "постыдный_A 0.6009703278541565\n",
            "невероятный_A 0.5827822685241699\n",
            "ужасать_V 0.5815353393554688\n",
            "кошмарный_A 0.5675790309906006\n",
            "позорный_A 0.5351496338844299\n",
            "\n",
            "\n",
            "жуткий_A\n",
            "[-0.07627533 -0.06143281 -0.02622319 -0.03769541 -0.00350412 -0.01479934\n",
            "  0.03325103  0.06712756 -0.0044996   0.0145266 ]\n",
            "ужасный_A 0.6982529163360596\n",
            "страшный_A 0.6917036771774292\n",
            "зловещий_A 0.6490101218223572\n",
            "странный_A 0.6009964942932129\n",
            "отвратительный_A 0.5856714248657227\n",
            "тоскливый_A 0.5783498287200928\n",
            "кошмарный_A 0.5670032501220703\n",
            "гнетущий_A 0.5607054829597473\n",
            "чудовищный_A 0.5550791025161743\n",
            "мрачный_A 0.5542315244674683\n",
            "\n",
            "\n",
            "страшный_A\n",
            "[-0.12759186 -0.0206753   0.00979353 -0.02963523  0.03109632  0.02121338\n",
            " -0.02869159  0.02574235 -0.02556899 -0.03742376]\n",
            "ужасный_A 0.8007251620292664\n",
            "жуткий_A 0.6917036175727844\n",
            "чудовищный_A 0.5934231877326965\n",
            "кошмарный_A 0.539563000202179\n",
            "отвратительный_A 0.5351147651672363\n",
            "невероятный_A 0.5207849144935608\n",
            "ужасающий_A 0.5174921154975891\n",
            "зловещий_A 0.5163233876228333\n",
            "жестокий_A 0.5096044540405273\n",
            "ужасать_V 0.5071669816970825\n",
            "\n",
            "\n",
            "красный_A\n",
            "[ 0.01627072 -0.01136785 -0.00790482  0.02294072  0.05129128  0.10162549\n",
            "  0.07488654 -0.06475785 -0.0203686   0.09159683]\n",
            "алый_A 0.6421287059783936\n",
            "малиновый_A 0.6113021373748779\n",
            "красная_S 0.5526680946350098\n",
            "желтый_A 0.5431625843048096\n",
            "оранжевый_A 0.5371882319450378\n",
            "трехцветный_A 0.5317935347557068\n",
            "пунцовый_A 0.5125025510787964\n",
            "синий_A 0.5102002024650574\n",
            "фиолетовый_A 0.5072877407073975\n",
            "лиловый_A 0.5004071593284607\n",
            "\n",
            "\n",
            "синий_A\n",
            "[-0.00614284  0.04970241 -0.00461786 -0.11465221  0.08177482  0.00020589\n",
            "  0.04895581  0.02750725 -0.05211812  0.06006202]\n",
            "голубой_A 0.855513334274292\n",
            "темно-синий_A 0.7498062252998352\n",
            "оранжевый_A 0.7341034412384033\n",
            "лиловый_A 0.7314398884773254\n",
            "фиолетовый_A 0.7291390895843506\n",
            "желтый_A 0.7263568639755249\n",
            "ярко-синий_A 0.699012815952301\n",
            "черный_A 0.690920889377594\n",
            "зеленый_A 0.6799379587173462\n",
            "коричневый_A 0.6729934215545654\n",
            "\n",
            "\n"
          ]
        }
      ]
    },
    {
      "cell_type": "markdown",
      "metadata": {
        "id": "dQleI2RSHNH-"
      },
      "source": [
        "Cosine similarity for a pair of words:"
      ]
    },
    {
      "cell_type": "code",
      "metadata": {
        "colab": {
          "base_uri": "https://localhost:8080/"
        },
        "id": "a7yCoODJHNH_",
        "outputId": "9d52e1bd-02fb-4049-eb76-337177cb88e7"
      },
      "source": [
        "print(model.similarity('плохой_A', 'хороший_A'))"
      ],
      "execution_count": 18,
      "outputs": [
        {
          "output_type": "stream",
          "name": "stdout",
          "text": [
            "0.74635214\n"
          ]
        }
      ]
    },
    {
      "cell_type": "code",
      "metadata": {
        "colab": {
          "base_uri": "https://localhost:8080/"
        },
        "id": "-nj_YXxnHNIA",
        "outputId": "c2628c9c-d358-477f-d76b-d45907cfc66c"
      },
      "source": [
        "print(model.similarity('плохой_A', 'синий_A'))"
      ],
      "execution_count": 19,
      "outputs": [
        {
          "output_type": "stream",
          "name": "stdout",
          "text": [
            "-0.12778337\n"
          ]
        }
      ]
    },
    {
      "cell_type": "code",
      "metadata": {
        "colab": {
          "base_uri": "https://localhost:8080/"
        },
        "id": "nLh-SjvCHNIC",
        "outputId": "0ad399b0-e3e2-4aee-f834-08a1cafca465"
      },
      "source": [
        "print(model.similarity('ужасный_A', 'жуткий_A'))"
      ],
      "execution_count": 20,
      "outputs": [
        {
          "output_type": "stream",
          "name": "stdout",
          "text": [
            "0.69825286\n"
          ]
        }
      ]
    },
    {
      "cell_type": "markdown",
      "metadata": {
        "id": "URFKk_BAHNID"
      },
      "source": [
        "Proportion:\n",
        "\n",
        "+ positive — vectors that we add\n",
        "+ negative — vectors that we subtract"
      ]
    },
    {
      "cell_type": "code",
      "metadata": {
        "colab": {
          "base_uri": "https://localhost:8080/"
        },
        "id": "2tAzDqJ6HNIF",
        "outputId": "015a456a-cc57-4197-e6c2-ee7c83e640ce"
      },
      "source": [
        "print(model.most_similar(positive=['плохой_A', 'ужасный_A'], negative=['хороший_A'])[0][0])"
      ],
      "execution_count": 21,
      "outputs": [
        {
          "output_type": "stream",
          "name": "stdout",
          "text": [
            "страшный_A\n"
          ]
        }
      ]
    },
    {
      "cell_type": "markdown",
      "metadata": {
        "id": "XApnxdg-HNIH"
      },
      "source": [
        "Find the word that does not match the rest of the words:"
      ]
    },
    {
      "cell_type": "code",
      "metadata": {
        "colab": {
          "base_uri": "https://localhost:8080/"
        },
        "id": "KzguX9wNHNIJ",
        "outputId": "023e6fbb-bbb6-45ad-a9bf-447e37d25d4a"
      },
      "source": [
        "print(model.doesnt_match('плохой_A хороший_A ужасный_A страшный_A'.split()))"
      ],
      "execution_count": 22,
      "outputs": [
        {
          "output_type": "stream",
          "name": "stdout",
          "text": [
            "хороший_A\n"
          ]
        }
      ]
    },
    {
      "cell_type": "code",
      "metadata": {
        "colab": {
          "base_uri": "https://localhost:8080/"
        },
        "id": "PhEBxE72RiHq",
        "outputId": "2ec070db-57cc-4e78-ce5f-35d2ec3452dd"
      },
      "source": [
        "print(model.doesnt_match('плохой_A ужасный_A страшный_A'.split()))"
      ],
      "execution_count": 23,
      "outputs": [
        {
          "output_type": "stream",
          "name": "stdout",
          "text": [
            "плохой_A\n"
          ]
        }
      ]
    },
    {
      "cell_type": "code",
      "metadata": {
        "colab": {
          "base_uri": "https://localhost:8080/"
        },
        "id": "2T15LhbeHNIK",
        "outputId": "eec835cd-de78-493e-a97f-db8517941f78"
      },
      "source": [
        "for word, score in model.most_similar(positive=['ужасно_ADV'], negative=['плохой_A']):\n",
        "    print(f'{score:.4}\\t{word}')"
      ],
      "execution_count": 24,
      "outputs": [
        {
          "output_type": "stream",
          "name": "stdout",
          "text": [
            "0.5575\tбезумно_ADV\n",
            "0.4791\tбезмерно_ADV\n",
            "0.4536\tжутко_ADV\n",
            "0.4472\tневероятно_ADV\n",
            "0.4394\tочень_ADV\n",
            "0.4364\tчертовски_ADV\n",
            "0.4231\tстрашно_ADV\n",
            "0.4124\tнеобычайно_ADV\n",
            "0.4119\tнестерпимо_ADV\n",
            "0.4005\tнеобыкновенно_ADV\n"
          ]
        }
      ]
    },
    {
      "cell_type": "markdown",
      "metadata": {
        "id": "KSkRa57-HNIL"
      },
      "source": [
        "#### Visualization of the data\n",
        "\n",
        "Many ways to do it, let's try PCA (Principle Component Analysis, reduces the number of dimensions)"
      ]
    },
    {
      "cell_type": "code",
      "metadata": {
        "id": "pma3tEUIHNIP"
      },
      "source": [
        "from sklearn.decomposition import PCA\n",
        "import matplotlib.pyplot as plt\n",
        "%matplotlib inline"
      ],
      "execution_count": 25,
      "outputs": []
    },
    {
      "cell_type": "code",
      "metadata": {
        "id": "QRbvoXO6HNIR"
      },
      "source": [
        "words = ['хороший_A', 'плохой_A', 'ужасный_A','жуткий_A', 'страшный_A', 'красный_A', 'синий_A']\n",
        "X = model[words] #model.wv[words]"
      ],
      "execution_count": 26,
      "outputs": []
    },
    {
      "cell_type": "markdown",
      "metadata": {
        "id": "vLaKrbL0HNIS"
      },
      "source": [
        "Executed on the list on words:"
      ]
    },
    {
      "cell_type": "code",
      "metadata": {
        "id": "qAaUw52YHNIT"
      },
      "source": [
        "pca = PCA(n_components=2)\n",
        "coords = pca.fit_transform(X)"
      ],
      "execution_count": 27,
      "outputs": []
    },
    {
      "cell_type": "code",
      "metadata": {
        "colab": {
          "base_uri": "https://localhost:8080/",
          "height": 281
        },
        "id": "gZuLUS_cHNIV",
        "outputId": "0589f288-c496-448d-8747-bcb628259787"
      },
      "source": [
        "plt.scatter(coords[:, 0], coords[:, 1], color='red')\n",
        "plt.title('Words')\n",
        "\n",
        "for i, word in enumerate(words):\n",
        "    plt.annotate(word, xy=(coords[i, 0], coords[i, 1]))\n",
        "plt.show()"
      ],
      "execution_count": 28,
      "outputs": [
        {
          "output_type": "display_data",
          "data": {
            "text/plain": [
              "<Figure size 432x288 with 1 Axes>"
            ],
            "image/png": "[encoded data removed]"
          },
          "metadata": {
            "needs_background": "light"
          }
        }
      ]
    },
    {
      "cell_type": "code",
      "source": [
        "words = ['хороший_A', 'плохой_A', 'ужасный_A','жуткий_A', 'страшный_A', 'злостный_A', 'заядлый_A', 'настоящий_A', 'красный_A', 'синий_A']\n",
        "X = model[words] #model.wv[words]"
      ],
      "metadata": {
        "id": "frSS7JM7kPvb"
      },
      "execution_count": 36,
      "outputs": []
    },
    {
      "cell_type": "code",
      "source": [
        "pca = PCA(n_components=2)\n",
        "coords = pca.fit_transform(X)"
      ],
      "metadata": {
        "id": "vmfP3tzIkfr3"
      },
      "execution_count": 33,
      "outputs": []
    },
    {
      "cell_type": "code",
      "source": [
        "plt.scatter(coords[:, 0], coords[:, 1], color='red')\n",
        "plt.title('Words')\n",
        "\n",
        "for i, word in enumerate(words):\n",
        "    plt.annotate(word, xy=(coords[i, 0], coords[i, 1]))\n",
        "plt.show()"
      ],
      "metadata": {
        "colab": {
          "base_uri": "https://localhost:8080/",
          "height": 281
        },
        "id": "4mT7pvFKk_31",
        "outputId": "6d29a3fc-3f4f-4ad2-a010-405eaec00d6f"
      },
      "execution_count": 34,
      "outputs": [
        {
          "output_type": "display_data",
          "data": {
            "text/plain": [
              "<Figure size 432x288 with 1 Axes>"
            ],
            "image/png": "[encoded data removed]"
          },
          "metadata": {
            "needs_background": "light"
          }
        }
      ]
    },
    {
      "cell_type": "code",
      "source": [
        "words = ['хороший_A', 'плохой_A', 'ужасный_A','жуткий_A', 'страшный_A', 'злостный_A', 'заядлый_A', 'настоящий_A']\n",
        "X = model[words] #model.wv[words]"
      ],
      "metadata": {
        "id": "TwsGqehzllfI"
      },
      "execution_count": 37,
      "outputs": []
    },
    {
      "cell_type": "code",
      "source": [
        "pca = PCA(n_components=2)\n",
        "coords = pca.fit_transform(X)"
      ],
      "metadata": {
        "id": "E4ZV558_l4jP"
      },
      "execution_count": 38,
      "outputs": []
    },
    {
      "cell_type": "code",
      "source": [
        "plt.scatter(coords[:, 0], coords[:, 1], color='red')\n",
        "plt.title('Words')\n",
        "\n",
        "for i, word in enumerate(words):\n",
        "    plt.annotate(word, xy=(coords[i, 0], coords[i, 1]))\n",
        "plt.show()"
      ],
      "metadata": {
        "colab": {
          "base_uri": "https://localhost:8080/",
          "height": 281
        },
        "id": "Ihc81EbPlWLP",
        "outputId": "57c84438-0cb4-4454-8ac9-54827c4aecd8"
      },
      "execution_count": 39,
      "outputs": [
        {
          "output_type": "display_data",
          "data": {
            "text/plain": [
              "<Figure size 432x288 with 1 Axes>"
            ],
            "image/png": "[encoded data removed]"
          },
          "metadata": {
            "needs_background": "light"
          }
        }
      ]
    },
    {
      "cell_type": "markdown",
      "metadata": {
        "id": "VxCO--ZnHNIh"
      },
      "source": [
        "#### Model evaluation\n",
        "\n",
        "+ word similarity, compare the results of the training with experimental results from human participants\n",
        "+ analogies:\n",
        "\n",
        "| слово 1    | слово 2    | отношение     | \n",
        "|------------|------------|---------------|\n",
        "| Россия     | Москва     | страна-столица| \n",
        "| Норвегия   | Осло       | страна-столица|"
      ]
    },
    {
      "cell_type": "markdown",
      "source": [
        "\n",
        "Работа с моделью\n",
        "\n",
        "Существуют несколько форматов, в которых могут храниться модели. Во-первых, данные могут храниться в нативном формате word2vec, при этом модель может быть бинарной или не бинарной. Для загрузки модели в формате word2vec в классе KeyedVectors (в котором хранится большинство относящихся к дистрибутивным моделям функций) существует функция load_word2vec_format, а бинарность модели можно указать в аргументе binary. Помимо этого, модель можно хранить и в собственном формате gensim, для этого существует класс Word2Vec с функцией load. Поскольку модели бывают разных форматов, то для них написаны разные функции загрузки; бывает полезно учитывать это в своем скрипте. Наш код определяет тип модели по её расширению, но вообще файл с моделью может называться как угодно, жестких ограничений для расширения нет.\n",
        "\n",
        "Для новых моделей перешли на загрузку с использованием инфраструктуры Nordic Language Processing Laboratory. На практике это означает, что теперь по клику на модель вы скачиваете zip-архив с уникальным числовым идентификатором (например, 220.zip). Внутри архива всегда находится файл meta.json, содержащий в структурированном и стандартном виде информацию о модели и корпусе, на котором она обучена. word2vec-модели лежат в архивах сразу в двух word2vec-форматах: бинарном model.bin (удобен для быстрой загрузки) и текстовом model.txt (удобен для просмотра человеком). Распаковывать скачанный архив для обычных моделей не нужно, так как его содержимое прочитается при помощи специальной инструкции:\n",
        "\n",
        "```\n",
        "!pip install wget\n",
        "\n",
        "import zipfile\n",
        "import wget\n",
        "\n",
        "model_url = 'http://vectors.nlpl.eu/repository/20/220.zip'\n",
        "m = wget.download(model_url)\n",
        "model_file = model_url.split('/')[-1]\n",
        "with zipfile.ZipFile(model_file, 'r') as archive:\n",
        "    stream = archive.open('model.bin')\n",
        "    model = gensim.models.KeyedVectors.load_word2vec_format(stream, binary=True)\n",
        "```\n"
      ],
      "metadata": {
        "id": "CCkt4k16malv"
      }
    }
  ]
}