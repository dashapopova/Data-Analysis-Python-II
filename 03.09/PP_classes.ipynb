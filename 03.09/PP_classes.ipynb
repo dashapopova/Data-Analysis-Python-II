{
  "cells": [
    {
      "cell_type": "markdown",
      "metadata": {
        "id": "LzxJ7kUhqPUQ"
      },
      "source": [
        "# Классы\n",
        "\n",
        "\n",
        "Объектно-ориентированное программирование (ООП) - один из ключевых подходов к проргаммированию. Программы представляются как набор объектов, каждый из которых - это представитель некоторого более общего типа (класса).\n",
        "\n",
        "Класс описывает свойства (атрибуты) и действия (методы) объекта, например, у кошки есть лапы (атрибут количество лап), цвет глаз, окрас, она может издавать звуки (мурлыкать) - это метод. Кошка как вид - это некоторая схема общая, которая актуальна для всех отдельных кошек (для кошки Принцессы, кота Васи и всех других).\n",
        "\n",
        "У некоторой конкретной кошки, например, кота Васи, будут все эти свойства, но могут быть и различия. Например, цвет глаз будет желтым, окрас - рыжим. А вот у Принцессы будут зеленые глаза и серый окрас.\n",
        "\n",
        "Вася, Принцесса - это экземпляры кошек, конкретные объекты, относящиеся к одному классу. \n",
        "\n",
        "Давайте опишем это на питоне.\n",
        "\n",
        "В метод ```__init__``` передаются параметры, которые мы задаем конкретному объекту и там они присваиваются. Двайте пока остановимся на цвете глаз и окрасе.\n",
        "\n",
        "```self``` означает этот объект. Это позволяет внутри метода обращаться к разным атрибутам объекта, например, внутри talk видеть цвет глаз. В этом примере это лишнее, но если бы кошки умели говорить, мы могли бы подставить имя, например, в ответ кошки.\n",
        "\n",
        "Классы обычно называются с большой буквы, а объекты-представители с маленькой."
      ]
    },
    {
      "cell_type": "code",
      "execution_count": 1,
      "metadata": {
        "id": "xAcGDfesqPUh"
      },
      "outputs": [],
      "source": [
        "class Cat:\n",
        "    \n",
        "    number_of_eyes = 2\n",
        "    \n",
        "    def __init__(self, eye_color, fur_color):\n",
        "        self.eye_color = eye_color\n",
        "        self.fur_color = fur_color\n",
        "        \n",
        "    def talk(self):\n",
        "        return \"Meow!\""
      ]
    },
    {
      "cell_type": "code",
      "execution_count": 2,
      "metadata": {
        "id": "EWCyVRfsqPU4"
      },
      "outputs": [],
      "source": [
        "princess = Cat(eye_color=\"green\", fur_color=\"grey\")\n",
        "vasya = Cat(eye_color=\"yellow\", fur_color=\"red\")"
      ]
    },
    {
      "cell_type": "markdown",
      "metadata": {
        "id": "vrUXwnDvqPU_"
      },
      "source": [
        "Попробуем вывести, что там в Принцессе. Пока ничего не получится, потому что, в отличие от обычных питоновских объектов, у нас нет определенного способа, как это выводить."
      ]
    },
    {
      "cell_type": "code",
      "execution_count": 3,
      "metadata": {
        "colab": {
          "base_uri": "https://localhost:8080/"
        },
        "id": "s56PyDIvqPVD",
        "outputId": "37e3d346-6777-4b37-95b2-db80ad204e54"
      },
      "outputs": [
        {
          "output_type": "execute_result",
          "data": {
            "text/plain": [
              "<__main__.Cat at 0x7f31401dd390>"
            ]
          },
          "metadata": {},
          "execution_count": 3
        }
      ],
      "source": [
        "princess"
      ]
    },
    {
      "cell_type": "markdown",
      "metadata": {
        "id": "HotIqCnvqPVH"
      },
      "source": [
        "Мы может попросить Принцессу издать звук (промяукать)"
      ]
    },
    {
      "cell_type": "code",
      "execution_count": 4,
      "metadata": {
        "colab": {
          "base_uri": "https://localhost:8080/",
          "height": 35
        },
        "id": "v52F5RDhqPVK",
        "outputId": "6594be59-011a-4bdf-99ac-95f7d9596fd3"
      },
      "outputs": [
        {
          "output_type": "execute_result",
          "data": {
            "text/plain": [
              "'Meow!'"
            ],
            "application/vnd.google.colaboratory.intrinsic+json": {
              "type": "string"
            }
          },
          "metadata": {},
          "execution_count": 4
        }
      ],
      "source": [
        "princess.talk()"
      ]
    },
    {
      "cell_type": "markdown",
      "metadata": {
        "id": "_aLr7WCYqPVM"
      },
      "source": [
        "Можем узнать цвет глаз или окрас "
      ]
    },
    {
      "cell_type": "code",
      "execution_count": 5,
      "metadata": {
        "colab": {
          "base_uri": "https://localhost:8080/"
        },
        "id": "tlz-gHRCqPVN",
        "outputId": "10df9054-ba35-4c78-c25d-91ca46fefa1d"
      },
      "outputs": [
        {
          "output_type": "stream",
          "name": "stdout",
          "text": [
            "green\n",
            "grey\n"
          ]
        }
      ],
      "source": [
        "print(princess.eye_color)\n",
        "print(princess.fur_color)"
      ]
    },
    {
      "cell_type": "code",
      "execution_count": 6,
      "metadata": {
        "colab": {
          "base_uri": "https://localhost:8080/"
        },
        "id": "L3tkXm69qPVP",
        "outputId": "9d82cb6b-d4fe-428e-fa28-15c1eb7d39d4"
      },
      "outputs": [
        {
          "output_type": "stream",
          "name": "stdout",
          "text": [
            "yellow\n",
            "red\n"
          ]
        }
      ],
      "source": [
        "print(vasya.eye_color)\n",
        "print(vasya.fur_color)"
      ]
    },
    {
      "cell_type": "markdown",
      "metadata": {
        "id": "1QU4B_8pqPVS"
      },
      "source": [
        "Можем увидеть тип объекта"
      ]
    },
    {
      "cell_type": "code",
      "execution_count": 7,
      "metadata": {
        "colab": {
          "base_uri": "https://localhost:8080/"
        },
        "id": "_tuek4hvqPVT",
        "outputId": "50f439b4-5dfc-43d9-c7ef-1580412595a9"
      },
      "outputs": [
        {
          "output_type": "execute_result",
          "data": {
            "text/plain": [
              "__main__.Cat"
            ]
          },
          "metadata": {},
          "execution_count": 7
        }
      ],
      "source": [
        "type(princess)"
      ]
    },
    {
      "cell_type": "code",
      "execution_count": 8,
      "metadata": {
        "colab": {
          "base_uri": "https://localhost:8080/"
        },
        "id": "rp7k3lszqPVW",
        "outputId": "6fa8569e-0892-41b7-e560-0e5b46a06653"
      },
      "outputs": [
        {
          "output_type": "execute_result",
          "data": {
            "text/plain": [
              "str"
            ]
          },
          "metadata": {},
          "execution_count": 8
        }
      ],
      "source": [
        "type(\"princess\")"
      ]
    },
    {
      "cell_type": "code",
      "execution_count": 9,
      "metadata": {
        "colab": {
          "base_uri": "https://localhost:8080/"
        },
        "id": "LLy7yp-uqPVX",
        "outputId": "1f484b8f-6dfc-4711-d30f-c02ebc56f38e"
      },
      "outputs": [
        {
          "output_type": "execute_result",
          "data": {
            "text/plain": [
              "2"
            ]
          },
          "metadata": {},
          "execution_count": 9
        }
      ],
      "source": [
        "princess.number_of_eyes"
      ]
    },
    {
      "cell_type": "code",
      "execution_count": 10,
      "metadata": {
        "id": "pVZ6YtBpqPVY"
      },
      "outputs": [],
      "source": [
        "princess.number_of_eyes = 3"
      ]
    },
    {
      "cell_type": "code",
      "execution_count": 11,
      "metadata": {
        "colab": {
          "base_uri": "https://localhost:8080/"
        },
        "id": "ePzd-rxkqPVa",
        "outputId": "b37002d4-3c71-4d86-c2f1-cf34f4dd23d0"
      },
      "outputs": [
        {
          "output_type": "execute_result",
          "data": {
            "text/plain": [
              "2"
            ]
          },
          "metadata": {},
          "execution_count": 11
        }
      ],
      "source": [
        "vasya.number_of_eyes"
      ]
    },
    {
      "cell_type": "markdown",
      "metadata": {
        "id": "17QMhNULqPVc"
      },
      "source": [
        "## Наследование\n",
        "\n",
        "Кошки и собаки довольно похожи, у них есть цвет глаз, может быть имя, они могут издавать звуки (по-разному). Мы может в целом описать животное, а потом просто уточнить те моменты, которые отличаются (например, в действиях).\n",
        "\n",
        "Чтобы показать, что методу не нужны разные атрибуты и прочие свойства, можно написать ```@staticmethod```\n",
        "\n",
        "Вы заметили, что init идет с подчеркиваниями, а talk без. Методы с подчеркиваниями - это специальные (магические) методы питона, которые описывают стандартные вещи, которые обычно проиходят с объектами (например, инициализация, то есть определение объекта, строковое представление, длина, сравнение с другим, равенство и прочие). Можно почитать [тут](https://www.tutorialsteacher.com/python/magic-methods-in-python)"
      ]
    },
    {
      "cell_type": "code",
      "execution_count": 12,
      "metadata": {
        "id": "Jgj7APKDqPVe"
      },
      "outputs": [],
      "source": [
        "class Animal:\n",
        "    \n",
        "    def __init__(self, name, age, eye_color, fur_color):\n",
        "        self.name = name\n",
        "        self.age = age\n",
        "        self.eye_color = eye_color\n",
        "        self.fur_color = fur_color\n",
        "    \n",
        "    @staticmethod # мы не используем атрибуты (например, self.name)\n",
        "    def talk():\n",
        "        return \"...\" # просто строка\n",
        "    \n",
        "    def birthday(self):\n",
        "        self.age += 1\n",
        "        return f\"{self.name} уже {self.age}!\"\n",
        "    \n",
        "    def __str__(self):\n",
        "        return f\"Имя {self.name}.\\nВозраст {self.age}.\\nГлаза: {self.eye_color}.\\nМех {self.fur_color}\""
      ]
    },
    {
      "cell_type": "markdown",
      "metadata": {
        "id": "K8y8Vnr-qPVf"
      },
      "source": [
        "Мы в целом представили, как выглядит животное для нас, теперь можем показать, что это кошка или собака. Для нас они отличаются только тем, что издают разные звуки. Мы можем после имени класса указать, что этот класс наследует свойства другого, то есть возьмет все, что у того есть и перезапишет то, что мы тут пропишем (talk)."
      ]
    },
    {
      "cell_type": "code",
      "execution_count": 13,
      "metadata": {
        "id": "zIoI3F3UqPVg"
      },
      "outputs": [],
      "source": [
        "class Dog(Animal):\n",
        "    \n",
        "    @staticmethod\n",
        "    def talk():\n",
        "        return \"Гав!\"\n",
        "    \n",
        "    @staticmethod\n",
        "    def get_stick():\n",
        "        return \"Гав!Гав!\"\n",
        "\n",
        "class Cat(Animal):\n",
        "    \n",
        "    @staticmethod\n",
        "    def talk():\n",
        "        return \"Мяу!\""
      ]
    },
    {
      "cell_type": "code",
      "execution_count": 14,
      "metadata": {
        "id": "8pV0-OyHqPVh"
      },
      "outputs": [],
      "source": [
        "princess = Cat(\"Принцесса\", 3, \"зеленые\", \"серый\")\n",
        "vasya = Cat(\"Вася\", 5, \"желтые\", \"рыжий\")\n",
        "\n",
        "barbos = Dog(\"Барбос\", 4, \"черные\", \"черный\")"
      ]
    },
    {
      "cell_type": "code",
      "execution_count": 15,
      "metadata": {
        "colab": {
          "base_uri": "https://localhost:8080/",
          "height": 35
        },
        "id": "im4RyNBvqPVi",
        "outputId": "f805e54c-44dd-4622-9950-92a84ca75f55"
      },
      "outputs": [
        {
          "output_type": "execute_result",
          "data": {
            "text/plain": [
              "'Гав!Гав!'"
            ],
            "application/vnd.google.colaboratory.intrinsic+json": {
              "type": "string"
            }
          },
          "metadata": {},
          "execution_count": 15
        }
      ],
      "source": [
        "barbos.get_stick()"
      ]
    },
    {
      "cell_type": "code",
      "execution_count": 16,
      "metadata": {
        "colab": {
          "base_uri": "https://localhost:8080/",
          "height": 166
        },
        "id": "mxX7EKg5qPVj",
        "outputId": "095352b2-c574-491f-8062-4377e3c753bd"
      },
      "outputs": [
        {
          "output_type": "error",
          "ename": "AttributeError",
          "evalue": "ignored",
          "traceback": [
            "\u001b[0;31m---------------------------------------------------------------------------\u001b[0m",
            "\u001b[0;31mAttributeError\u001b[0m                            Traceback (most recent call last)",
            "\u001b[0;32m<ipython-input-16-590e9704cf93>\u001b[0m in \u001b[0;36m<module>\u001b[0;34m\u001b[0m\n\u001b[0;32m----> 1\u001b[0;31m \u001b[0mprincess\u001b[0m\u001b[0;34m.\u001b[0m\u001b[0mget_stick\u001b[0m\u001b[0;34m(\u001b[0m\u001b[0;34m)\u001b[0m\u001b[0;34m\u001b[0m\u001b[0;34m\u001b[0m\u001b[0m\n\u001b[0m",
            "\u001b[0;31mAttributeError\u001b[0m: 'Cat' object has no attribute 'get_stick'"
          ]
        }
      ],
      "source": [
        "princess.get_stick()"
      ]
    },
    {
      "cell_type": "code",
      "execution_count": 17,
      "metadata": {
        "colab": {
          "base_uri": "https://localhost:8080/"
        },
        "id": "yN0jGpeAqPVk",
        "outputId": "f59d50c1-aad8-4190-a3ec-5f29a319e1f4"
      },
      "outputs": [
        {
          "output_type": "stream",
          "name": "stdout",
          "text": [
            "<class '__main__.Cat'>\n",
            "<class '__main__.Dog'>\n"
          ]
        }
      ],
      "source": [
        "print(type(vasya))\n",
        "print(type(barbos))"
      ]
    },
    {
      "cell_type": "code",
      "execution_count": 18,
      "metadata": {
        "colab": {
          "base_uri": "https://localhost:8080/",
          "height": 35
        },
        "id": "wT-6HPrXqPVo",
        "outputId": "e60a6682-c75f-4ca8-95ea-087c3525321d"
      },
      "outputs": [
        {
          "output_type": "execute_result",
          "data": {
            "text/plain": [
              "'Мяу!'"
            ],
            "application/vnd.google.colaboratory.intrinsic+json": {
              "type": "string"
            }
          },
          "metadata": {},
          "execution_count": 18
        }
      ],
      "source": [
        "vasya.talk()"
      ]
    },
    {
      "cell_type": "code",
      "execution_count": 19,
      "metadata": {
        "colab": {
          "base_uri": "https://localhost:8080/",
          "height": 35
        },
        "id": "dXzKs52dqPVp",
        "outputId": "187e615f-7c11-43e3-9ebf-598bbc010e6b"
      },
      "outputs": [
        {
          "output_type": "execute_result",
          "data": {
            "text/plain": [
              "'Гав!'"
            ],
            "application/vnd.google.colaboratory.intrinsic+json": {
              "type": "string"
            }
          },
          "metadata": {},
          "execution_count": 19
        }
      ],
      "source": [
        "barbos.talk()"
      ]
    },
    {
      "cell_type": "markdown",
      "metadata": {
        "id": "LuDt04FrqPVr"
      },
      "source": [
        "Убедимся, что методы Animal работают"
      ]
    },
    {
      "cell_type": "code",
      "execution_count": 20,
      "metadata": {
        "colab": {
          "base_uri": "https://localhost:8080/"
        },
        "id": "Bsv-AYJcqPVs",
        "outputId": "05384435-17f6-43ee-f05c-56f17236c2a3"
      },
      "outputs": [
        {
          "output_type": "stream",
          "name": "stdout",
          "text": [
            "5\n",
            "Вася уже 6!\n",
            "6\n"
          ]
        }
      ],
      "source": [
        "print(vasya.age)\n",
        "print(vasya.birthday())\n",
        "print(vasya.age)"
      ]
    },
    {
      "cell_type": "code",
      "execution_count": 21,
      "metadata": {
        "colab": {
          "base_uri": "https://localhost:8080/"
        },
        "id": "LrXazRiaqPVt",
        "outputId": "4bc510a6-5b5a-42b0-fb64-f3b2ebbd5dd1"
      },
      "outputs": [
        {
          "output_type": "stream",
          "name": "stdout",
          "text": [
            "4\n",
            "Барбос уже 5!\n",
            "5\n"
          ]
        }
      ],
      "source": [
        "print(barbos.age)\n",
        "print(barbos.birthday())\n",
        "print(barbos.age)"
      ]
    },
    {
      "cell_type": "code",
      "execution_count": 22,
      "metadata": {
        "colab": {
          "base_uri": "https://localhost:8080/"
        },
        "id": "en0oHmLWqPVu",
        "outputId": "204cd9e0-102f-42b1-dabf-5d777e71a01c"
      },
      "outputs": [
        {
          "output_type": "stream",
          "name": "stdout",
          "text": [
            "Имя Барбос.\n",
            "Возраст 5.\n",
            "Глаза: черные.\n",
            "Мех черный\n"
          ]
        }
      ],
      "source": [
        "print(barbos)"
      ]
    },
    {
      "cell_type": "code",
      "execution_count": 23,
      "metadata": {
        "colab": {
          "base_uri": "https://localhost:8080/"
        },
        "id": "LNQ-qeJ3qPVv",
        "outputId": "0865ffea-0ed9-40ef-aedc-1f02d68688d2"
      },
      "outputs": [
        {
          "output_type": "execute_result",
          "data": {
            "text/plain": [
              "<__main__.Dog at 0x7f31401f5b90>"
            ]
          },
          "metadata": {},
          "execution_count": 23
        }
      ],
      "source": [
        "barbos"
      ]
    },
    {
      "cell_type": "markdown",
      "metadata": {
        "id": "thAin8JVqPVw"
      },
      "source": [
        "## Основные положения\n",
        "\n",
        "- **абстракция** - представление в виде абстрактной схемы (класса)\n",
        "- инкапсуляция - создание разного уровня доступа внутри класса (доступные все атрибуты или скрытые) - это уже следующий уровень\n",
        "- **наследование** - можем создать общую схему, а потом уточнять (животное - кот)\n",
        "- **полиморфизм** - можем использовать одинаковый интерфейс у разных объектов (например, получать длину объекта, или заставлять говорить: кто-то мяукает при этом, а кто-то гавкает)"
      ]
    }
  ],
  "metadata": {
    "kernelspec": {
      "display_name": "Python 3",
      "language": "python",
      "name": "python3"
    },
    "language_info": {
      "codemirror_mode": {
        "name": "ipython",
        "version": 3
      },
      "file_extension": ".py",
      "mimetype": "text/x-python",
      "name": "python",
      "nbconvert_exporter": "python",
      "pygments_lexer": "ipython3",
      "version": "3.8.5"
    },
    "colab": {
      "provenance": []
    }
  },
  "nbformat": 4,
  "nbformat_minor": 0
}