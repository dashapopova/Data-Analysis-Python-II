{
 "cells": [
  {
   "cell_type": "markdown",
   "metadata": {
    "id": "-S1rHphvW7Uy"
   },
   "source": [
    "## Pandas\n",
    "\n",
    "A library to work with dataframes"
   ]
  },
  {
   "cell_type": "code",
   "execution_count": 2,
   "metadata": {
    "id": "PLYeMPx4W7VK"
   },
   "outputs": [],
   "source": [
    "import pandas as pd"
   ]
  },
  {
   "cell_type": "markdown",
   "metadata": {
    "id": "ozOxtw6qW7VY"
   },
   "source": [
    "#### To create a dataframe"
   ]
  },
  {
   "cell_type": "code",
   "execution_count": 3,
   "metadata": {
    "colab": {
     "base_uri": "https://localhost:8080/",
     "height": 582
    },
    "id": "iGCW0HoVW7Vb",
    "outputId": "c299e0f0-94d4-4684-9573-e5f4314455b9"
   },
   "outputs": [
    {
     "data": {
      "text/html": [
       "<div>\n",
       "<style scoped>\n",
       "    .dataframe tbody tr th:only-of-type {\n",
       "        vertical-align: middle;\n",
       "    }\n",
       "\n",
       "    .dataframe tbody tr th {\n",
       "        vertical-align: top;\n",
       "    }\n",
       "\n",
       "    .dataframe thead th {\n",
       "        text-align: right;\n",
       "    }\n",
       "</style>\n",
       "<table border=\"1\" class=\"dataframe\">\n",
       "  <thead>\n",
       "    <tr style=\"text-align: right;\">\n",
       "      <th></th>\n",
       "      <th>name</th>\n",
       "      <th>balloons</th>\n",
       "    </tr>\n",
       "  </thead>\n",
       "  <tbody>\n",
       "    <tr>\n",
       "      <th>0</th>\n",
       "      <td>Анна</td>\n",
       "      <td>25</td>\n",
       "    </tr>\n",
       "    <tr>\n",
       "      <th>1</th>\n",
       "      <td>Мария</td>\n",
       "      <td>14</td>\n",
       "    </tr>\n",
       "    <tr>\n",
       "      <th>2</th>\n",
       "      <td>Софья</td>\n",
       "      <td>34</td>\n",
       "    </tr>\n",
       "    <tr>\n",
       "      <th>3</th>\n",
       "      <td>Сидни</td>\n",
       "      <td>78</td>\n",
       "    </tr>\n",
       "    <tr>\n",
       "      <th>4</th>\n",
       "      <td>Ксения</td>\n",
       "      <td>16</td>\n",
       "    </tr>\n",
       "    <tr>\n",
       "      <th>5</th>\n",
       "      <td>Наталья</td>\n",
       "      <td>50</td>\n",
       "    </tr>\n",
       "    <tr>\n",
       "      <th>6</th>\n",
       "      <td>Татьяна</td>\n",
       "      <td>27</td>\n",
       "    </tr>\n",
       "    <tr>\n",
       "      <th>7</th>\n",
       "      <td>Александра</td>\n",
       "      <td>38</td>\n",
       "    </tr>\n",
       "    <tr>\n",
       "      <th>8</th>\n",
       "      <td>Иван</td>\n",
       "      <td>43</td>\n",
       "    </tr>\n",
       "    <tr>\n",
       "      <th>9</th>\n",
       "      <td>Аиша</td>\n",
       "      <td>17</td>\n",
       "    </tr>\n",
       "    <tr>\n",
       "      <th>10</th>\n",
       "      <td>Александр</td>\n",
       "      <td>34</td>\n",
       "    </tr>\n",
       "    <tr>\n",
       "      <th>11</th>\n",
       "      <td>Анна</td>\n",
       "      <td>7</td>\n",
       "    </tr>\n",
       "    <tr>\n",
       "      <th>12</th>\n",
       "      <td>Рахмат</td>\n",
       "      <td>89</td>\n",
       "    </tr>\n",
       "    <tr>\n",
       "      <th>13</th>\n",
       "      <td>Алексей</td>\n",
       "      <td>56</td>\n",
       "    </tr>\n",
       "    <tr>\n",
       "      <th>14</th>\n",
       "      <td>Анна</td>\n",
       "      <td>13</td>\n",
       "    </tr>\n",
       "    <tr>\n",
       "      <th>15</th>\n",
       "      <td>Анна</td>\n",
       "      <td>12</td>\n",
       "    </tr>\n",
       "    <tr>\n",
       "      <th>16</th>\n",
       "      <td>Ваньшу</td>\n",
       "      <td>50</td>\n",
       "    </tr>\n",
       "  </tbody>\n",
       "</table>\n",
       "</div>"
      ],
      "text/plain": [
       "          name  balloons\n",
       "0         Анна        25\n",
       "1        Мария        14\n",
       "2        Софья        34\n",
       "3        Сидни        78\n",
       "4       Ксения        16\n",
       "5      Наталья        50\n",
       "6      Татьяна        27\n",
       "7   Александра        38\n",
       "8         Иван        43\n",
       "9         Аиша        17\n",
       "10   Александр        34\n",
       "11        Анна         7\n",
       "12      Рахмат        89\n",
       "13     Алексей        56\n",
       "14        Анна        13\n",
       "15        Анна        12\n",
       "16      Ваньшу        50"
      ]
     },
     "execution_count": 3,
     "metadata": {},
     "output_type": "execute_result"
    }
   ],
   "source": [
    "data = {\n",
    "    \"name\": [\"Анна\", \"Мария\", \"Софья\", \"Сидни\", \"Ксения\", \"Наталья\", \"Татьяна\", \"Александра\", \"Иван\", \"Аиша\", \"Александр\", \"Анна\", \"Рахмат\", \"Алексей\", \"Анна\", \"Анна\", \"Ваньшу\"],\n",
    "    \"balloons\": [25, 14, 34, 78, 16, 50, 27, 38, 43, 17, 34, 7, 89, 56, 13, 12, 50]\n",
    "}\n",
    "\n",
    "df = pd.DataFrame(data)\n",
    "df"
   ]
  },
  {
   "cell_type": "code",
   "execution_count": 4,
   "metadata": {
    "colab": {
     "base_uri": "https://localhost:8080/",
     "height": 175
    },
    "id": "4oXjz7nsW7Vq",
    "outputId": "8d0b3d39-ab89-4579-9fc3-4ba37ea5e7dc"
   },
   "outputs": [
    {
     "data": {
      "text/html": [
       "<div>\n",
       "<style scoped>\n",
       "    .dataframe tbody tr th:only-of-type {\n",
       "        vertical-align: middle;\n",
       "    }\n",
       "\n",
       "    .dataframe tbody tr th {\n",
       "        vertical-align: top;\n",
       "    }\n",
       "\n",
       "    .dataframe thead th {\n",
       "        text-align: right;\n",
       "    }\n",
       "</style>\n",
       "<table border=\"1\" class=\"dataframe\">\n",
       "  <thead>\n",
       "    <tr style=\"text-align: right;\">\n",
       "      <th></th>\n",
       "      <th>name</th>\n",
       "      <th>balloons</th>\n",
       "    </tr>\n",
       "  </thead>\n",
       "  <tbody>\n",
       "    <tr>\n",
       "      <th>0</th>\n",
       "      <td>Анна</td>\n",
       "      <td>25</td>\n",
       "    </tr>\n",
       "    <tr>\n",
       "      <th>1</th>\n",
       "      <td>Сидни</td>\n",
       "      <td>14</td>\n",
       "    </tr>\n",
       "    <tr>\n",
       "      <th>2</th>\n",
       "      <td>Наталья</td>\n",
       "      <td>34</td>\n",
       "    </tr>\n",
       "    <tr>\n",
       "      <th>3</th>\n",
       "      <td>Александр</td>\n",
       "      <td>78</td>\n",
       "    </tr>\n",
       "  </tbody>\n",
       "</table>\n",
       "</div>"
      ],
      "text/plain": [
       "        name  balloons\n",
       "0       Анна        25\n",
       "1      Сидни        14\n",
       "2    Наталья        34\n",
       "3  Александр        78"
      ]
     },
     "execution_count": 4,
     "metadata": {},
     "output_type": "execute_result"
    }
   ],
   "source": [
    "data = [\n",
    "    {\"name\": \"Анна\", \"balloons\": 25}, \n",
    "    {\"name\": \"Сидни\", \"balloons\": 14}, \n",
    "    {\"name\": \"Наталья\", \"balloons\": 34}, \n",
    "    {\"name\": \"Александр\", \"balloons\": 78}\n",
    "]\n",
    "\n",
    "df = pd.DataFrame(data)\n",
    "df"
   ]
  },
  {
   "cell_type": "code",
   "execution_count": 5,
   "metadata": {
    "colab": {
     "base_uri": "https://localhost:8080/",
     "height": 175
    },
    "id": "dMTMIYW5W7Vv",
    "outputId": "1734891d-7f1b-4b46-cee7-0238c6b7fbbf"
   },
   "outputs": [
    {
     "data": {
      "text/html": [
       "<div>\n",
       "<style scoped>\n",
       "    .dataframe tbody tr th:only-of-type {\n",
       "        vertical-align: middle;\n",
       "    }\n",
       "\n",
       "    .dataframe tbody tr th {\n",
       "        vertical-align: top;\n",
       "    }\n",
       "\n",
       "    .dataframe thead th {\n",
       "        text-align: right;\n",
       "    }\n",
       "</style>\n",
       "<table border=\"1\" class=\"dataframe\">\n",
       "  <thead>\n",
       "    <tr style=\"text-align: right;\">\n",
       "      <th></th>\n",
       "      <th>name</th>\n",
       "      <th>balloons</th>\n",
       "    </tr>\n",
       "  </thead>\n",
       "  <tbody>\n",
       "    <tr>\n",
       "      <th>0</th>\n",
       "      <td>Рахмат</td>\n",
       "      <td>25</td>\n",
       "    </tr>\n",
       "    <tr>\n",
       "      <th>1</th>\n",
       "      <td>Ваньшу</td>\n",
       "      <td>14</td>\n",
       "    </tr>\n",
       "    <tr>\n",
       "      <th>2</th>\n",
       "      <td>Ксения</td>\n",
       "      <td>34</td>\n",
       "    </tr>\n",
       "    <tr>\n",
       "      <th>3</th>\n",
       "      <td>Аиша</td>\n",
       "      <td>78</td>\n",
       "    </tr>\n",
       "  </tbody>\n",
       "</table>\n",
       "</div>"
      ],
      "text/plain": [
       "     name  balloons\n",
       "0  Рахмат        25\n",
       "1  Ваньшу        14\n",
       "2  Ксения        34\n",
       "3    Аиша        78"
      ]
     },
     "execution_count": 5,
     "metadata": {},
     "output_type": "execute_result"
    }
   ],
   "source": [
    "data = [[\"Рахмат\", 25], [\"Ваньшу\", 14], [\"Ксения\", 34], [\"Аиша\", 78]]\n",
    "\n",
    "df = pd.DataFrame(data, columns=[\"name\", \"balloons\"])\n",
    "df"
   ]
  },
  {
   "cell_type": "markdown",
   "metadata": {
    "id": "4YpCspywW7V2"
   },
   "source": [
    "#### Reading the data"
   ]
  },
  {
   "cell_type": "code",
   "execution_count": null,
   "metadata": {
    "id": "NjRFrntAW7V3"
   },
   "outputs": [],
   "source": [
    "df = pd.read_csv(\"data/example.csv\", sep=\"\\t\")  # separator -- a tab\n",
    "df"
   ]
  },
  {
   "cell_type": "code",
   "execution_count": null,
   "metadata": {
    "id": "HD3PAVFxW7V6"
   },
   "outputs": [],
   "source": [
    "df = pd.read_excel(\"data/example.xlsx\", sheet_name=\"example\")\n",
    "df"
   ]
  },
  {
   "cell_type": "code",
   "execution_count": 6,
   "metadata": {
    "colab": {
     "base_uri": "https://localhost:8080/",
     "height": 310
    },
    "id": "OGIViFLEW7V9",
    "outputId": "d047fd52-c362-4706-fbc5-4c4bab2403c7"
   },
   "outputs": [
    {
     "data": {
      "text/html": [
       "<div>\n",
       "<style scoped>\n",
       "    .dataframe tbody tr th:only-of-type {\n",
       "        vertical-align: middle;\n",
       "    }\n",
       "\n",
       "    .dataframe tbody tr th {\n",
       "        vertical-align: top;\n",
       "    }\n",
       "\n",
       "    .dataframe thead th {\n",
       "        text-align: right;\n",
       "    }\n",
       "</style>\n",
       "<table border=\"1\" class=\"dataframe\">\n",
       "  <thead>\n",
       "    <tr style=\"text-align: right;\">\n",
       "      <th></th>\n",
       "      <th>Rank</th>\n",
       "      <th>Country or dependent territory</th>\n",
       "      <th>Region</th>\n",
       "      <th>Population</th>\n",
       "      <th>% of world</th>\n",
       "      <th>Date</th>\n",
       "      <th>Source (official or from the United Nations)</th>\n",
       "      <th>Notes</th>\n",
       "    </tr>\n",
       "  </thead>\n",
       "  <tbody>\n",
       "    <tr>\n",
       "      <th>0</th>\n",
       "      <td>–</td>\n",
       "      <td>NaN</td>\n",
       "      <td>World</td>\n",
       "      <td>7896940000</td>\n",
       "      <td>100%</td>\n",
       "      <td>20 Sep 2021</td>\n",
       "      <td>UN projection[2]</td>\n",
       "      <td>NaN</td>\n",
       "    </tr>\n",
       "    <tr>\n",
       "      <th>1</th>\n",
       "      <td>1</td>\n",
       "      <td>China</td>\n",
       "      <td>Asia</td>\n",
       "      <td>1411778724</td>\n",
       "      <td>NaN</td>\n",
       "      <td>1 Nov 2020</td>\n",
       "      <td>2020 census result[3]</td>\n",
       "      <td>The census figure refers to mainland China, ex...</td>\n",
       "    </tr>\n",
       "    <tr>\n",
       "      <th>2</th>\n",
       "      <td>2</td>\n",
       "      <td>India</td>\n",
       "      <td>Asia</td>\n",
       "      <td>1382115832</td>\n",
       "      <td>NaN</td>\n",
       "      <td>20 Sep 2021</td>\n",
       "      <td>National population clock[4]</td>\n",
       "      <td>The figure includes the population of India-ad...</td>\n",
       "    </tr>\n",
       "    <tr>\n",
       "      <th>3</th>\n",
       "      <td>3</td>\n",
       "      <td>United States</td>\n",
       "      <td>Americas</td>\n",
       "      <td>332395851</td>\n",
       "      <td>NaN</td>\n",
       "      <td>20 Sep 2021</td>\n",
       "      <td>National population clock[5]</td>\n",
       "      <td>Includes the 50 states and the District of Col...</td>\n",
       "    </tr>\n",
       "    <tr>\n",
       "      <th>4</th>\n",
       "      <td>4</td>\n",
       "      <td>Indonesia</td>\n",
       "      <td>Asia</td>\n",
       "      <td>271350000</td>\n",
       "      <td>NaN</td>\n",
       "      <td>31 Dec 2020</td>\n",
       "      <td>National annual estimate[6]</td>\n",
       "      <td>NaN</td>\n",
       "    </tr>\n",
       "  </tbody>\n",
       "</table>\n",
       "</div>"
      ],
      "text/plain": [
       "  Rank  ...                                              Notes\n",
       "0    –  ...                                                NaN\n",
       "1    1  ...  The census figure refers to mainland China, ex...\n",
       "2    2  ...  The figure includes the population of India-ad...\n",
       "3    3  ...  Includes the 50 states and the District of Col...\n",
       "4    4  ...                                                NaN\n",
       "\n",
       "[5 rows x 8 columns]"
      ]
     },
     "execution_count": 6,
     "metadata": {},
     "output_type": "execute_result"
    }
   ],
   "source": [
    "df = pd.read_html(\"https://en.wikipedia.org/wiki/List_of_countries_and_dependencies_by_population\")[0]\n",
    "df.head()"
   ]
  },
  {
   "cell_type": "code",
   "execution_count": 7,
   "metadata": {
    "id": "xswf9GWuW7V_"
   },
   "outputs": [],
   "source": [
    "df = pd.read_csv(\"https://raw.githubusercontent.com/cldf-datasets/wals/master/raw/country.csv\")"
   ]
  },
  {
   "cell_type": "code",
   "execution_count": 8,
   "metadata": {
    "colab": {
     "base_uri": "https://localhost:8080/",
     "height": 206
    },
    "id": "NoVn10eEW7WE",
    "outputId": "93ae11cc-cc3a-46e1-fa90-e7cf9418f895"
   },
   "outputs": [
    {
     "data": {
      "text/html": [
       "<div>\n",
       "<style scoped>\n",
       "    .dataframe tbody tr th:only-of-type {\n",
       "        vertical-align: middle;\n",
       "    }\n",
       "\n",
       "    .dataframe tbody tr th {\n",
       "        vertical-align: top;\n",
       "    }\n",
       "\n",
       "    .dataframe thead th {\n",
       "        text-align: right;\n",
       "    }\n",
       "</style>\n",
       "<table border=\"1\" class=\"dataframe\">\n",
       "  <thead>\n",
       "    <tr style=\"text-align: right;\">\n",
       "      <th></th>\n",
       "      <th>pk</th>\n",
       "      <th>jsondata</th>\n",
       "      <th>id</th>\n",
       "      <th>name</th>\n",
       "      <th>description</th>\n",
       "      <th>markup_description</th>\n",
       "      <th>continent</th>\n",
       "    </tr>\n",
       "  </thead>\n",
       "  <tbody>\n",
       "    <tr>\n",
       "      <th>0</th>\n",
       "      <td>1</td>\n",
       "      <td>NaN</td>\n",
       "      <td>AF</td>\n",
       "      <td>Afghanistan</td>\n",
       "      <td>NaN</td>\n",
       "      <td>NaN</td>\n",
       "      <td>Asia</td>\n",
       "    </tr>\n",
       "    <tr>\n",
       "      <th>1</th>\n",
       "      <td>2</td>\n",
       "      <td>NaN</td>\n",
       "      <td>AL</td>\n",
       "      <td>Albania</td>\n",
       "      <td>NaN</td>\n",
       "      <td>NaN</td>\n",
       "      <td>Europe</td>\n",
       "    </tr>\n",
       "    <tr>\n",
       "      <th>2</th>\n",
       "      <td>3</td>\n",
       "      <td>NaN</td>\n",
       "      <td>DZ</td>\n",
       "      <td>Algeria</td>\n",
       "      <td>NaN</td>\n",
       "      <td>NaN</td>\n",
       "      <td>Africa</td>\n",
       "    </tr>\n",
       "    <tr>\n",
       "      <th>3</th>\n",
       "      <td>4</td>\n",
       "      <td>NaN</td>\n",
       "      <td>AS</td>\n",
       "      <td>American Samoa</td>\n",
       "      <td>NaN</td>\n",
       "      <td>NaN</td>\n",
       "      <td>Australia &amp; Oceania</td>\n",
       "    </tr>\n",
       "    <tr>\n",
       "      <th>4</th>\n",
       "      <td>5</td>\n",
       "      <td>NaN</td>\n",
       "      <td>AO</td>\n",
       "      <td>Angola</td>\n",
       "      <td>NaN</td>\n",
       "      <td>NaN</td>\n",
       "      <td>Africa</td>\n",
       "    </tr>\n",
       "  </tbody>\n",
       "</table>\n",
       "</div>"
      ],
      "text/plain": [
       "   pk  jsondata  id  ... description  markup_description            continent\n",
       "0   1       NaN  AF  ...         NaN                 NaN                 Asia\n",
       "1   2       NaN  AL  ...         NaN                 NaN               Europe\n",
       "2   3       NaN  DZ  ...         NaN                 NaN               Africa\n",
       "3   4       NaN  AS  ...         NaN                 NaN  Australia & Oceania\n",
       "4   5       NaN  AO  ...         NaN                 NaN               Africa\n",
       "\n",
       "[5 rows x 7 columns]"
      ]
     },
     "execution_count": 8,
     "metadata": {},
     "output_type": "execute_result"
    }
   ],
   "source": [
    "df.head()"
   ]
  },
  {
   "cell_type": "markdown",
   "metadata": {
    "id": "2EfYF0wFW7WG"
   },
   "source": [
    "#### Saving the data"
   ]
  },
  {
   "cell_type": "code",
   "execution_count": 9,
   "metadata": {
    "id": "pvfCG-u5W7WH"
   },
   "outputs": [],
   "source": [
    "df.to_csv(\"wals_country.csv\", index=None)"
   ]
  },
  {
   "cell_type": "markdown",
   "metadata": {
    "id": "W49TQDduW7WI"
   },
   "source": [
    "#### Manipulating the data"
   ]
  },
  {
   "cell_type": "code",
   "execution_count": 10,
   "metadata": {
    "colab": {
     "base_uri": "https://localhost:8080/",
     "height": 112
    },
    "id": "1dCcJZIhW7WJ",
    "outputId": "39c88539-e323-422f-ca04-d606332c1550"
   },
   "outputs": [
    {
     "data": {
      "text/html": [
       "<div>\n",
       "<style scoped>\n",
       "    .dataframe tbody tr th:only-of-type {\n",
       "        vertical-align: middle;\n",
       "    }\n",
       "\n",
       "    .dataframe tbody tr th {\n",
       "        vertical-align: top;\n",
       "    }\n",
       "\n",
       "    .dataframe thead th {\n",
       "        text-align: right;\n",
       "    }\n",
       "</style>\n",
       "<table border=\"1\" class=\"dataframe\">\n",
       "  <thead>\n",
       "    <tr style=\"text-align: right;\">\n",
       "      <th></th>\n",
       "      <th>pk</th>\n",
       "      <th>id</th>\n",
       "      <th>name</th>\n",
       "      <th>markup_description</th>\n",
       "      <th>continent</th>\n",
       "    </tr>\n",
       "  </thead>\n",
       "  <tbody>\n",
       "    <tr>\n",
       "      <th>0</th>\n",
       "      <td>1</td>\n",
       "      <td>AF</td>\n",
       "      <td>Afghanistan</td>\n",
       "      <td>NaN</td>\n",
       "      <td>Asia</td>\n",
       "    </tr>\n",
       "    <tr>\n",
       "      <th>1</th>\n",
       "      <td>2</td>\n",
       "      <td>AL</td>\n",
       "      <td>Albania</td>\n",
       "      <td>NaN</td>\n",
       "      <td>Europe</td>\n",
       "    </tr>\n",
       "  </tbody>\n",
       "</table>\n",
       "</div>"
      ],
      "text/plain": [
       "   pk  id         name  markup_description continent\n",
       "0   1  AF  Afghanistan                 NaN      Asia\n",
       "1   2  AL      Albania                 NaN    Europe"
      ]
     },
     "execution_count": 10,
     "metadata": {},
     "output_type": "execute_result"
    }
   ],
   "source": [
    "df = df.drop([\"jsondata\", \"description\"], axis=1) # to delete columns\n",
    "\n",
    "# testing\n",
    "df.head(2)"
   ]
  },
  {
   "cell_type": "code",
   "execution_count": 11,
   "metadata": {
    "colab": {
     "base_uri": "https://localhost:8080/",
     "height": 49
    },
    "id": "8ycyF096W7WL",
    "outputId": "d312b5a2-262c-4e19-f82f-9a1cef928d51"
   },
   "outputs": [
    {
     "data": {
      "text/html": [
       "<div>\n",
       "<style scoped>\n",
       "    .dataframe tbody tr th:only-of-type {\n",
       "        vertical-align: middle;\n",
       "    }\n",
       "\n",
       "    .dataframe tbody tr th {\n",
       "        vertical-align: top;\n",
       "    }\n",
       "\n",
       "    .dataframe thead th {\n",
       "        text-align: right;\n",
       "    }\n",
       "</style>\n",
       "<table border=\"1\" class=\"dataframe\">\n",
       "  <thead>\n",
       "    <tr style=\"text-align: right;\">\n",
       "      <th></th>\n",
       "      <th>pk</th>\n",
       "      <th>id</th>\n",
       "      <th>name</th>\n",
       "      <th>markup_description</th>\n",
       "      <th>continent</th>\n",
       "    </tr>\n",
       "  </thead>\n",
       "  <tbody>\n",
       "  </tbody>\n",
       "</table>\n",
       "</div>"
      ],
      "text/plain": [
       "Empty DataFrame\n",
       "Columns: [pk, id, name, markup_description, continent]\n",
       "Index: []"
      ]
     },
     "execution_count": 11,
     "metadata": {},
     "output_type": "execute_result"
    }
   ],
   "source": [
    "df.dropna() # deleting na"
   ]
  },
  {
   "cell_type": "code",
   "execution_count": 12,
   "metadata": {
    "colab": {
     "base_uri": "https://localhost:8080/"
    },
    "id": "B3fTjFGrW7WO",
    "outputId": "e4c825e4-17a9-4326-afdb-a071b2494716"
   },
   "outputs": [
    {
     "data": {
      "text/plain": [
       "((192, 5), (0, 5))"
      ]
     },
     "execution_count": 12,
     "metadata": {},
     "output_type": "execute_result"
    }
   ],
   "source": [
    "df.shape, df.dropna().shape # the shape of the dataframe: rows, columns"
   ]
  },
  {
   "cell_type": "code",
   "execution_count": 13,
   "metadata": {
    "colab": {
     "base_uri": "https://localhost:8080/",
     "height": 206
    },
    "id": "fn06jg-VW7WQ",
    "outputId": "626a87d9-24fd-41e6-ac37-512b37b941fb"
   },
   "outputs": [
    {
     "data": {
      "text/html": [
       "<div>\n",
       "<style scoped>\n",
       "    .dataframe tbody tr th:only-of-type {\n",
       "        vertical-align: middle;\n",
       "    }\n",
       "\n",
       "    .dataframe tbody tr th {\n",
       "        vertical-align: top;\n",
       "    }\n",
       "\n",
       "    .dataframe thead th {\n",
       "        text-align: right;\n",
       "    }\n",
       "</style>\n",
       "<table border=\"1\" class=\"dataframe\">\n",
       "  <thead>\n",
       "    <tr style=\"text-align: right;\">\n",
       "      <th></th>\n",
       "      <th>pk</th>\n",
       "      <th>id</th>\n",
       "      <th>name</th>\n",
       "      <th>continent</th>\n",
       "    </tr>\n",
       "  </thead>\n",
       "  <tbody>\n",
       "    <tr>\n",
       "      <th>0</th>\n",
       "      <td>1</td>\n",
       "      <td>AF</td>\n",
       "      <td>Afghanistan</td>\n",
       "      <td>Asia</td>\n",
       "    </tr>\n",
       "    <tr>\n",
       "      <th>1</th>\n",
       "      <td>2</td>\n",
       "      <td>AL</td>\n",
       "      <td>Albania</td>\n",
       "      <td>Europe</td>\n",
       "    </tr>\n",
       "    <tr>\n",
       "      <th>2</th>\n",
       "      <td>3</td>\n",
       "      <td>DZ</td>\n",
       "      <td>Algeria</td>\n",
       "      <td>Africa</td>\n",
       "    </tr>\n",
       "    <tr>\n",
       "      <th>3</th>\n",
       "      <td>4</td>\n",
       "      <td>AS</td>\n",
       "      <td>American Samoa</td>\n",
       "      <td>Australia &amp; Oceania</td>\n",
       "    </tr>\n",
       "    <tr>\n",
       "      <th>4</th>\n",
       "      <td>5</td>\n",
       "      <td>AO</td>\n",
       "      <td>Angola</td>\n",
       "      <td>Africa</td>\n",
       "    </tr>\n",
       "  </tbody>\n",
       "</table>\n",
       "</div>"
      ],
      "text/plain": [
       "   pk  id            name            continent\n",
       "0   1  AF     Afghanistan                 Asia\n",
       "1   2  AL         Albania               Europe\n",
       "2   3  DZ         Algeria               Africa\n",
       "3   4  AS  American Samoa  Australia & Oceania\n",
       "4   5  AO          Angola               Africa"
      ]
     },
     "execution_count": 13,
     "metadata": {},
     "output_type": "execute_result"
    }
   ],
   "source": [
    "df.dropna(how=\"all\", axis=1).head() # deleting columns, where all the values are empty"
   ]
  },
  {
   "cell_type": "code",
   "execution_count": 14,
   "metadata": {
    "id": "YcLZI0J-W7WS"
   },
   "outputs": [],
   "source": [
    "df = df[[\"pk\", \"id\", \"name\", \"continent\"]] # selecting columns"
   ]
  },
  {
   "cell_type": "code",
   "execution_count": 15,
   "metadata": {
    "colab": {
     "base_uri": "https://localhost:8080/",
     "height": 206
    },
    "id": "5LfGICRcW7WU",
    "outputId": "2db8b9c9-5d49-4080-b04e-4986e00bc5af"
   },
   "outputs": [
    {
     "data": {
      "text/html": [
       "<div>\n",
       "<style scoped>\n",
       "    .dataframe tbody tr th:only-of-type {\n",
       "        vertical-align: middle;\n",
       "    }\n",
       "\n",
       "    .dataframe tbody tr th {\n",
       "        vertical-align: top;\n",
       "    }\n",
       "\n",
       "    .dataframe thead th {\n",
       "        text-align: right;\n",
       "    }\n",
       "</style>\n",
       "<table border=\"1\" class=\"dataframe\">\n",
       "  <thead>\n",
       "    <tr style=\"text-align: right;\">\n",
       "      <th></th>\n",
       "      <th>pk</th>\n",
       "      <th>id</th>\n",
       "      <th>name</th>\n",
       "      <th>continent</th>\n",
       "    </tr>\n",
       "  </thead>\n",
       "  <tbody>\n",
       "    <tr>\n",
       "      <th>0</th>\n",
       "      <td>1</td>\n",
       "      <td>AF</td>\n",
       "      <td>Afghanistan</td>\n",
       "      <td>Asia</td>\n",
       "    </tr>\n",
       "    <tr>\n",
       "      <th>1</th>\n",
       "      <td>2</td>\n",
       "      <td>AL</td>\n",
       "      <td>Albania</td>\n",
       "      <td>Europe</td>\n",
       "    </tr>\n",
       "    <tr>\n",
       "      <th>2</th>\n",
       "      <td>3</td>\n",
       "      <td>DZ</td>\n",
       "      <td>Algeria</td>\n",
       "      <td>Africa</td>\n",
       "    </tr>\n",
       "    <tr>\n",
       "      <th>3</th>\n",
       "      <td>4</td>\n",
       "      <td>AS</td>\n",
       "      <td>American Samoa</td>\n",
       "      <td>Australia &amp; Oceania</td>\n",
       "    </tr>\n",
       "    <tr>\n",
       "      <th>4</th>\n",
       "      <td>5</td>\n",
       "      <td>AO</td>\n",
       "      <td>Angola</td>\n",
       "      <td>Africa</td>\n",
       "    </tr>\n",
       "  </tbody>\n",
       "</table>\n",
       "</div>"
      ],
      "text/plain": [
       "   pk  id            name            continent\n",
       "0   1  AF     Afghanistan                 Asia\n",
       "1   2  AL         Albania               Europe\n",
       "2   3  DZ         Algeria               Africa\n",
       "3   4  AS  American Samoa  Australia & Oceania\n",
       "4   5  AO          Angola               Africa"
      ]
     },
     "execution_count": 15,
     "metadata": {},
     "output_type": "execute_result"
    }
   ],
   "source": [
    "df.head()"
   ]
  },
  {
   "cell_type": "code",
   "execution_count": 16,
   "metadata": {
    "colab": {
     "base_uri": "https://localhost:8080/",
     "height": 143
    },
    "id": "T-LskWYMW7WX",
    "outputId": "e559f60d-2673-4293-e731-bee8894613f7"
   },
   "outputs": [
    {
     "data": {
      "text/html": [
       "<div>\n",
       "<style scoped>\n",
       "    .dataframe tbody tr th:only-of-type {\n",
       "        vertical-align: middle;\n",
       "    }\n",
       "\n",
       "    .dataframe tbody tr th {\n",
       "        vertical-align: top;\n",
       "    }\n",
       "\n",
       "    .dataframe thead th {\n",
       "        text-align: right;\n",
       "    }\n",
       "</style>\n",
       "<table border=\"1\" class=\"dataframe\">\n",
       "  <thead>\n",
       "    <tr style=\"text-align: right;\">\n",
       "      <th></th>\n",
       "      <th>pk</th>\n",
       "      <th>id</th>\n",
       "      <th>name</th>\n",
       "      <th>continent</th>\n",
       "    </tr>\n",
       "  </thead>\n",
       "  <tbody>\n",
       "    <tr>\n",
       "      <th>0</th>\n",
       "      <td>1</td>\n",
       "      <td>AF</td>\n",
       "      <td>Afghanistan</td>\n",
       "      <td>Asia</td>\n",
       "    </tr>\n",
       "    <tr>\n",
       "      <th>1</th>\n",
       "      <td>2</td>\n",
       "      <td>AL</td>\n",
       "      <td>Albania</td>\n",
       "      <td>Europe</td>\n",
       "    </tr>\n",
       "    <tr>\n",
       "      <th>2</th>\n",
       "      <td>3</td>\n",
       "      <td>DZ</td>\n",
       "      <td>Algeria</td>\n",
       "      <td>Africa</td>\n",
       "    </tr>\n",
       "  </tbody>\n",
       "</table>\n",
       "</div>"
      ],
      "text/plain": [
       "   pk  id         name continent\n",
       "0   1  AF  Afghanistan      Asia\n",
       "1   2  AL      Albania    Europe\n",
       "2   3  DZ      Algeria    Africa"
      ]
     },
     "execution_count": 16,
     "metadata": {},
     "output_type": "execute_result"
    }
   ],
   "source": [
    "df[df[\"pk\"] < 4] # selecting values in the pk-column that are less than 4"
   ]
  },
  {
   "cell_type": "code",
   "execution_count": 17,
   "metadata": {
    "colab": {
     "base_uri": "https://localhost:8080/"
    },
    "id": "SZHRikbwW7Wa",
    "outputId": "7721febf-5f14-49a5-9646-4c7ccd8311a4"
   },
   "outputs": [
    {
     "data": {
      "text/plain": [
       "Africa                 54\n",
       "Asia                   46\n",
       "Europe                 38\n",
       "Australia & Oceania    22\n",
       "North America          17\n",
       "South America          13\n",
       "Eurasia                 2\n",
       "Name: continent, dtype: int64"
      ]
     },
     "execution_count": 17,
     "metadata": {},
     "output_type": "execute_result"
    }
   ],
   "source": [
    "df[\"continent\"].value_counts() # counting the values "
   ]
  },
  {
   "cell_type": "code",
   "execution_count": 18,
   "metadata": {
    "colab": {
     "base_uri": "https://localhost:8080/",
     "height": 582
    },
    "id": "qM3TL7AQW7Wb",
    "outputId": "ba21445c-4f26-4b74-ae11-40e856a93fb4"
   },
   "outputs": [
    {
     "data": {
      "text/html": [
       "<div>\n",
       "<style scoped>\n",
       "    .dataframe tbody tr th:only-of-type {\n",
       "        vertical-align: middle;\n",
       "    }\n",
       "\n",
       "    .dataframe tbody tr th {\n",
       "        vertical-align: top;\n",
       "    }\n",
       "\n",
       "    .dataframe thead th {\n",
       "        text-align: right;\n",
       "    }\n",
       "</style>\n",
       "<table border=\"1\" class=\"dataframe\">\n",
       "  <thead>\n",
       "    <tr style=\"text-align: right;\">\n",
       "      <th></th>\n",
       "      <th>pk</th>\n",
       "      <th>id</th>\n",
       "      <th>name</th>\n",
       "      <th>continent</th>\n",
       "    </tr>\n",
       "  </thead>\n",
       "  <tbody>\n",
       "    <tr>\n",
       "      <th>14</th>\n",
       "      <td>15</td>\n",
       "      <td>BZ</td>\n",
       "      <td>Belize</td>\n",
       "      <td>North America</td>\n",
       "    </tr>\n",
       "    <tr>\n",
       "      <th>26</th>\n",
       "      <td>27</td>\n",
       "      <td>CA</td>\n",
       "      <td>Canada</td>\n",
       "      <td>North America</td>\n",
       "    </tr>\n",
       "    <tr>\n",
       "      <th>34</th>\n",
       "      <td>35</td>\n",
       "      <td>CR</td>\n",
       "      <td>Costa Rica</td>\n",
       "      <td>North America</td>\n",
       "    </tr>\n",
       "    <tr>\n",
       "      <th>42</th>\n",
       "      <td>43</td>\n",
       "      <td>DM</td>\n",
       "      <td>Dominica</td>\n",
       "      <td>North America</td>\n",
       "    </tr>\n",
       "    <tr>\n",
       "      <th>46</th>\n",
       "      <td>47</td>\n",
       "      <td>SV</td>\n",
       "      <td>El Salvador</td>\n",
       "      <td>North America</td>\n",
       "    </tr>\n",
       "    <tr>\n",
       "      <th>63</th>\n",
       "      <td>64</td>\n",
       "      <td>GD</td>\n",
       "      <td>Grenada</td>\n",
       "      <td>North America</td>\n",
       "    </tr>\n",
       "    <tr>\n",
       "      <th>66</th>\n",
       "      <td>67</td>\n",
       "      <td>GT</td>\n",
       "      <td>Guatemala</td>\n",
       "      <td>North America</td>\n",
       "    </tr>\n",
       "    <tr>\n",
       "      <th>70</th>\n",
       "      <td>71</td>\n",
       "      <td>HT</td>\n",
       "      <td>Haiti</td>\n",
       "      <td>North America</td>\n",
       "    </tr>\n",
       "    <tr>\n",
       "      <th>71</th>\n",
       "      <td>72</td>\n",
       "      <td>HN</td>\n",
       "      <td>Honduras</td>\n",
       "      <td>North America</td>\n",
       "    </tr>\n",
       "    <tr>\n",
       "      <th>81</th>\n",
       "      <td>82</td>\n",
       "      <td>JM</td>\n",
       "      <td>Jamaica</td>\n",
       "      <td>North America</td>\n",
       "    </tr>\n",
       "    <tr>\n",
       "      <th>105</th>\n",
       "      <td>106</td>\n",
       "      <td>MQ</td>\n",
       "      <td>Martinique</td>\n",
       "      <td>North America</td>\n",
       "    </tr>\n",
       "    <tr>\n",
       "      <th>109</th>\n",
       "      <td>110</td>\n",
       "      <td>MX</td>\n",
       "      <td>Mexico</td>\n",
       "      <td>North America</td>\n",
       "    </tr>\n",
       "    <tr>\n",
       "      <th>120</th>\n",
       "      <td>121</td>\n",
       "      <td>AN</td>\n",
       "      <td>Netherlands Antilles</td>\n",
       "      <td>North America</td>\n",
       "    </tr>\n",
       "    <tr>\n",
       "      <th>123</th>\n",
       "      <td>124</td>\n",
       "      <td>NI</td>\n",
       "      <td>Nicaragua</td>\n",
       "      <td>North America</td>\n",
       "    </tr>\n",
       "    <tr>\n",
       "      <th>158</th>\n",
       "      <td>159</td>\n",
       "      <td>LC</td>\n",
       "      <td>St. Lucia</td>\n",
       "      <td>North America</td>\n",
       "    </tr>\n",
       "    <tr>\n",
       "      <th>173</th>\n",
       "      <td>174</td>\n",
       "      <td>TT</td>\n",
       "      <td>Trinidad and Tobago</td>\n",
       "      <td>North America</td>\n",
       "    </tr>\n",
       "    <tr>\n",
       "      <th>182</th>\n",
       "      <td>183</td>\n",
       "      <td>US</td>\n",
       "      <td>United States</td>\n",
       "      <td>North America</td>\n",
       "    </tr>\n",
       "  </tbody>\n",
       "</table>\n",
       "</div>"
      ],
      "text/plain": [
       "      pk  id                  name      continent\n",
       "14    15  BZ                Belize  North America\n",
       "26    27  CA                Canada  North America\n",
       "34    35  CR            Costa Rica  North America\n",
       "42    43  DM              Dominica  North America\n",
       "46    47  SV           El Salvador  North America\n",
       "63    64  GD               Grenada  North America\n",
       "66    67  GT             Guatemala  North America\n",
       "70    71  HT                 Haiti  North America\n",
       "71    72  HN              Honduras  North America\n",
       "81    82  JM               Jamaica  North America\n",
       "105  106  MQ            Martinique  North America\n",
       "109  110  MX                Mexico  North America\n",
       "120  121  AN  Netherlands Antilles  North America\n",
       "123  124  NI             Nicaragua  North America\n",
       "158  159  LC             St. Lucia  North America\n",
       "173  174  TT   Trinidad and Tobago  North America\n",
       "182  183  US         United States  North America"
      ]
     },
     "execution_count": 18,
     "metadata": {},
     "output_type": "execute_result"
    }
   ],
   "source": [
    "df[df[\"continent\"] == \"North America\"]"
   ]
  },
  {
   "cell_type": "code",
   "execution_count": 19,
   "metadata": {
    "colab": {
     "base_uri": "https://localhost:8080/",
     "height": 582
    },
    "id": "LQ16esErW7We",
    "outputId": "9c43b318-7bb8-435f-fc18-dc96801b16ca"
   },
   "outputs": [
    {
     "data": {
      "text/html": [
       "<div>\n",
       "<style scoped>\n",
       "    .dataframe tbody tr th:only-of-type {\n",
       "        vertical-align: middle;\n",
       "    }\n",
       "\n",
       "    .dataframe tbody tr th {\n",
       "        vertical-align: top;\n",
       "    }\n",
       "\n",
       "    .dataframe thead th {\n",
       "        text-align: right;\n",
       "    }\n",
       "</style>\n",
       "<table border=\"1\" class=\"dataframe\">\n",
       "  <thead>\n",
       "    <tr style=\"text-align: right;\">\n",
       "      <th></th>\n",
       "      <th>pk</th>\n",
       "      <th>id</th>\n",
       "      <th>name</th>\n",
       "      <th>continent</th>\n",
       "    </tr>\n",
       "  </thead>\n",
       "  <tbody>\n",
       "    <tr>\n",
       "      <th>120</th>\n",
       "      <td>121</td>\n",
       "      <td>AN</td>\n",
       "      <td>Netherlands Antilles</td>\n",
       "      <td>North America</td>\n",
       "    </tr>\n",
       "    <tr>\n",
       "      <th>14</th>\n",
       "      <td>15</td>\n",
       "      <td>BZ</td>\n",
       "      <td>Belize</td>\n",
       "      <td>North America</td>\n",
       "    </tr>\n",
       "    <tr>\n",
       "      <th>26</th>\n",
       "      <td>27</td>\n",
       "      <td>CA</td>\n",
       "      <td>Canada</td>\n",
       "      <td>North America</td>\n",
       "    </tr>\n",
       "    <tr>\n",
       "      <th>34</th>\n",
       "      <td>35</td>\n",
       "      <td>CR</td>\n",
       "      <td>Costa Rica</td>\n",
       "      <td>North America</td>\n",
       "    </tr>\n",
       "    <tr>\n",
       "      <th>42</th>\n",
       "      <td>43</td>\n",
       "      <td>DM</td>\n",
       "      <td>Dominica</td>\n",
       "      <td>North America</td>\n",
       "    </tr>\n",
       "    <tr>\n",
       "      <th>63</th>\n",
       "      <td>64</td>\n",
       "      <td>GD</td>\n",
       "      <td>Grenada</td>\n",
       "      <td>North America</td>\n",
       "    </tr>\n",
       "    <tr>\n",
       "      <th>66</th>\n",
       "      <td>67</td>\n",
       "      <td>GT</td>\n",
       "      <td>Guatemala</td>\n",
       "      <td>North America</td>\n",
       "    </tr>\n",
       "    <tr>\n",
       "      <th>71</th>\n",
       "      <td>72</td>\n",
       "      <td>HN</td>\n",
       "      <td>Honduras</td>\n",
       "      <td>North America</td>\n",
       "    </tr>\n",
       "    <tr>\n",
       "      <th>70</th>\n",
       "      <td>71</td>\n",
       "      <td>HT</td>\n",
       "      <td>Haiti</td>\n",
       "      <td>North America</td>\n",
       "    </tr>\n",
       "    <tr>\n",
       "      <th>81</th>\n",
       "      <td>82</td>\n",
       "      <td>JM</td>\n",
       "      <td>Jamaica</td>\n",
       "      <td>North America</td>\n",
       "    </tr>\n",
       "    <tr>\n",
       "      <th>158</th>\n",
       "      <td>159</td>\n",
       "      <td>LC</td>\n",
       "      <td>St. Lucia</td>\n",
       "      <td>North America</td>\n",
       "    </tr>\n",
       "    <tr>\n",
       "      <th>105</th>\n",
       "      <td>106</td>\n",
       "      <td>MQ</td>\n",
       "      <td>Martinique</td>\n",
       "      <td>North America</td>\n",
       "    </tr>\n",
       "    <tr>\n",
       "      <th>109</th>\n",
       "      <td>110</td>\n",
       "      <td>MX</td>\n",
       "      <td>Mexico</td>\n",
       "      <td>North America</td>\n",
       "    </tr>\n",
       "    <tr>\n",
       "      <th>123</th>\n",
       "      <td>124</td>\n",
       "      <td>NI</td>\n",
       "      <td>Nicaragua</td>\n",
       "      <td>North America</td>\n",
       "    </tr>\n",
       "    <tr>\n",
       "      <th>46</th>\n",
       "      <td>47</td>\n",
       "      <td>SV</td>\n",
       "      <td>El Salvador</td>\n",
       "      <td>North America</td>\n",
       "    </tr>\n",
       "    <tr>\n",
       "      <th>173</th>\n",
       "      <td>174</td>\n",
       "      <td>TT</td>\n",
       "      <td>Trinidad and Tobago</td>\n",
       "      <td>North America</td>\n",
       "    </tr>\n",
       "    <tr>\n",
       "      <th>182</th>\n",
       "      <td>183</td>\n",
       "      <td>US</td>\n",
       "      <td>United States</td>\n",
       "      <td>North America</td>\n",
       "    </tr>\n",
       "  </tbody>\n",
       "</table>\n",
       "</div>"
      ],
      "text/plain": [
       "      pk  id                  name      continent\n",
       "120  121  AN  Netherlands Antilles  North America\n",
       "14    15  BZ                Belize  North America\n",
       "26    27  CA                Canada  North America\n",
       "34    35  CR            Costa Rica  North America\n",
       "42    43  DM              Dominica  North America\n",
       "63    64  GD               Grenada  North America\n",
       "66    67  GT             Guatemala  North America\n",
       "71    72  HN              Honduras  North America\n",
       "70    71  HT                 Haiti  North America\n",
       "81    82  JM               Jamaica  North America\n",
       "158  159  LC             St. Lucia  North America\n",
       "105  106  MQ            Martinique  North America\n",
       "109  110  MX                Mexico  North America\n",
       "123  124  NI             Nicaragua  North America\n",
       "46    47  SV           El Salvador  North America\n",
       "173  174  TT   Trinidad and Tobago  North America\n",
       "182  183  US         United States  North America"
      ]
     },
     "execution_count": 19,
     "metadata": {},
     "output_type": "execute_result"
    }
   ],
   "source": [
    "df[df[\"continent\"] == \"North America\"].sort_values(by=\"id\")"
   ]
  },
  {
   "cell_type": "code",
   "execution_count": 20,
   "metadata": {
    "colab": {
     "base_uri": "https://localhost:8080/",
     "height": 300
    },
    "id": "o_fSTnlyW7Wg",
    "outputId": "f3529329-a9e5-494d-8992-8e78e74684cb"
   },
   "outputs": [
    {
     "data": {
      "text/html": [
       "<div>\n",
       "<style scoped>\n",
       "    .dataframe tbody tr th:only-of-type {\n",
       "        vertical-align: middle;\n",
       "    }\n",
       "\n",
       "    .dataframe tbody tr th {\n",
       "        vertical-align: top;\n",
       "    }\n",
       "\n",
       "    .dataframe thead th {\n",
       "        text-align: right;\n",
       "    }\n",
       "</style>\n",
       "<table border=\"1\" class=\"dataframe\">\n",
       "  <thead>\n",
       "    <tr style=\"text-align: right;\">\n",
       "      <th></th>\n",
       "      <th>name</th>\n",
       "    </tr>\n",
       "    <tr>\n",
       "      <th>continent</th>\n",
       "      <th></th>\n",
       "    </tr>\n",
       "  </thead>\n",
       "  <tbody>\n",
       "    <tr>\n",
       "      <th>Africa</th>\n",
       "      <td>[Algeria, Angola, Benin, Botswana, Burkina Fas...</td>\n",
       "    </tr>\n",
       "    <tr>\n",
       "      <th>Asia</th>\n",
       "      <td>[Afghanistan, Armenia, Azerbaijan, Bahrain, Ba...</td>\n",
       "    </tr>\n",
       "    <tr>\n",
       "      <th>Australia &amp; Oceania</th>\n",
       "      <td>[American Samoa, Australia, Fiji, French Polyn...</td>\n",
       "    </tr>\n",
       "    <tr>\n",
       "      <th>Eurasia</th>\n",
       "      <td>[Russia, Turkey]</td>\n",
       "    </tr>\n",
       "    <tr>\n",
       "      <th>Europe</th>\n",
       "      <td>[Albania, Austria, Belarus, Belgium, Bosnia-He...</td>\n",
       "    </tr>\n",
       "    <tr>\n",
       "      <th>North America</th>\n",
       "      <td>[Belize, Canada, Costa Rica, Dominica, El Salv...</td>\n",
       "    </tr>\n",
       "    <tr>\n",
       "      <th>South America</th>\n",
       "      <td>[Argentina, Bolivia, Brazil, Chile, Colombia, ...</td>\n",
       "    </tr>\n",
       "  </tbody>\n",
       "</table>\n",
       "</div>"
      ],
      "text/plain": [
       "                                                                  name\n",
       "continent                                                             \n",
       "Africa               [Algeria, Angola, Benin, Botswana, Burkina Fas...\n",
       "Asia                 [Afghanistan, Armenia, Azerbaijan, Bahrain, Ba...\n",
       "Australia & Oceania  [American Samoa, Australia, Fiji, French Polyn...\n",
       "Eurasia                                               [Russia, Turkey]\n",
       "Europe               [Albania, Austria, Belarus, Belgium, Bosnia-He...\n",
       "North America        [Belize, Canada, Costa Rica, Dominica, El Salv...\n",
       "South America        [Argentina, Bolivia, Brazil, Chile, Colombia, ..."
      ]
     },
     "execution_count": 20,
     "metadata": {},
     "output_type": "execute_result"
    }
   ],
   "source": [
    "df.groupby(\"continent\").agg({\"name\": list}) # grouping by continent and making lists of countries"
   ]
  },
  {
   "cell_type": "code",
   "execution_count": 21,
   "metadata": {
    "colab": {
     "base_uri": "https://localhost:8080/",
     "height": 300
    },
    "id": "amq6xT5ZW7Wi",
    "outputId": "bcd2078e-3a96-45f9-992e-a9256abac58c"
   },
   "outputs": [
    {
     "data": {
      "text/html": [
       "<div>\n",
       "<style scoped>\n",
       "    .dataframe tbody tr th:only-of-type {\n",
       "        vertical-align: middle;\n",
       "    }\n",
       "\n",
       "    .dataframe tbody tr th {\n",
       "        vertical-align: top;\n",
       "    }\n",
       "\n",
       "    .dataframe thead th {\n",
       "        text-align: right;\n",
       "    }\n",
       "</style>\n",
       "<table border=\"1\" class=\"dataframe\">\n",
       "  <thead>\n",
       "    <tr style=\"text-align: right;\">\n",
       "      <th></th>\n",
       "      <th>pk</th>\n",
       "    </tr>\n",
       "    <tr>\n",
       "      <th>continent</th>\n",
       "      <th></th>\n",
       "    </tr>\n",
       "  </thead>\n",
       "  <tbody>\n",
       "    <tr>\n",
       "      <th>Africa</th>\n",
       "      <td>94.703704</td>\n",
       "    </tr>\n",
       "    <tr>\n",
       "      <th>Asia</th>\n",
       "      <td>104.195652</td>\n",
       "    </tr>\n",
       "    <tr>\n",
       "      <th>Australia &amp; Oceania</th>\n",
       "      <td>113.909091</td>\n",
       "    </tr>\n",
       "    <tr>\n",
       "      <th>Eurasia</th>\n",
       "      <td>159.500000</td>\n",
       "    </tr>\n",
       "    <tr>\n",
       "      <th>Europe</th>\n",
       "      <td>85.921053</td>\n",
       "    </tr>\n",
       "    <tr>\n",
       "      <th>North America</th>\n",
       "      <td>88.235294</td>\n",
       "    </tr>\n",
       "    <tr>\n",
       "      <th>South America</th>\n",
       "      <td>79.307692</td>\n",
       "    </tr>\n",
       "  </tbody>\n",
       "</table>\n",
       "</div>"
      ],
      "text/plain": [
       "                             pk\n",
       "continent                      \n",
       "Africa                94.703704\n",
       "Asia                 104.195652\n",
       "Australia & Oceania  113.909091\n",
       "Eurasia              159.500000\n",
       "Europe                85.921053\n",
       "North America         88.235294\n",
       "South America         79.307692"
      ]
     },
     "execution_count": 21,
     "metadata": {},
     "output_type": "execute_result"
    }
   ],
   "source": [
    "df.groupby(\"continent\").agg({\"pk\": \"mean\"}) # computing the mean"
   ]
  },
  {
   "cell_type": "markdown",
   "metadata": {
    "id": "7D3l9U44W7Wk"
   },
   "source": [
    "We can apply functions to the values in columns, for example, reduplicate the text in the id-column:"
   ]
  },
  {
   "cell_type": "code",
   "execution_count": 22,
   "metadata": {
    "id": "8Gwe3UCcW7Wl"
   },
   "outputs": [],
   "source": [
    "def change_id(text):\n",
    "    if type(text) == str:\n",
    "        text = text.lower() * 2\n",
    "    return text"
   ]
  },
  {
   "cell_type": "code",
   "execution_count": 23,
   "metadata": {
    "colab": {
     "base_uri": "https://localhost:8080/"
    },
    "id": "YECKcv9jW7Wm",
    "outputId": "db9ab650-d360-4523-e08c-3ad8d05be083"
   },
   "outputs": [
    {
     "data": {
      "text/plain": [
       "0      afaf\n",
       "1      alal\n",
       "2      dzdz\n",
       "3      asas\n",
       "4      aoao\n",
       "       ... \n",
       "187    wfwf\n",
       "188    yeye\n",
       "189    zmzm\n",
       "190    zwzw\n",
       "191    ssss\n",
       "Name: id, Length: 192, dtype: object"
      ]
     },
     "execution_count": 23,
     "metadata": {},
     "output_type": "execute_result"
    }
   ],
   "source": [
    "df[\"id\"].apply(change_id)"
   ]
  },
  {
   "cell_type": "markdown",
   "metadata": {
    "id": "_tGh_GNJW7Wn"
   },
   "source": [
    "#### Practice\n",
    "\n",
    "A corpus of Disney Princesses created by Lelia Glass"
   ]
  },
  {
   "cell_type": "code",
   "execution_count": 3,
   "metadata": {
    "id": "JVXhrGEgW7Wp",
    "outputId": "d5e3be2b-2fcd-4b44-99cd-16125e7cfb46"
   },
   "outputs": [
    {
     "data": {
      "text/html": [
       "<div>\n",
       "<style scoped>\n",
       "    .dataframe tbody tr th:only-of-type {\n",
       "        vertical-align: middle;\n",
       "    }\n",
       "\n",
       "    .dataframe tbody tr th {\n",
       "        vertical-align: top;\n",
       "    }\n",
       "\n",
       "    .dataframe thead th {\n",
       "        text-align: right;\n",
       "    }\n",
       "</style>\n",
       "<table border=\"1\" class=\"dataframe\">\n",
       "  <thead>\n",
       "    <tr style=\"text-align: right;\">\n",
       "      <th></th>\n",
       "      <th>Disney_Period</th>\n",
       "      <th>Text</th>\n",
       "      <th>Speaker_Status</th>\n",
       "      <th>Movie</th>\n",
       "      <th>Speaker</th>\n",
       "      <th>Year</th>\n",
       "      <th>UTTERANCE_NUMBER</th>\n",
       "    </tr>\n",
       "  </thead>\n",
       "  <tbody>\n",
       "    <tr>\n",
       "      <th>0</th>\n",
       "      <td>EARLY</td>\n",
       "      <td>slave in the magic mirror come from the farthe...</td>\n",
       "      <td>NON-P</td>\n",
       "      <td>Snow White</td>\n",
       "      <td>queen</td>\n",
       "      <td>1937</td>\n",
       "      <td>1</td>\n",
       "    </tr>\n",
       "    <tr>\n",
       "      <th>1</th>\n",
       "      <td>EARLY</td>\n",
       "      <td>what wouldst thou know, my queen ?</td>\n",
       "      <td>NON-P</td>\n",
       "      <td>Snow White</td>\n",
       "      <td>mirror</td>\n",
       "      <td>1937</td>\n",
       "      <td>2</td>\n",
       "    </tr>\n",
       "    <tr>\n",
       "      <th>2</th>\n",
       "      <td>EARLY</td>\n",
       "      <td>magic mirror on the wall, who is the fairest o...</td>\n",
       "      <td>NON-P</td>\n",
       "      <td>Snow White</td>\n",
       "      <td>queen</td>\n",
       "      <td>1937</td>\n",
       "      <td>3</td>\n",
       "    </tr>\n",
       "    <tr>\n",
       "      <th>3</th>\n",
       "      <td>EARLY</td>\n",
       "      <td>famed is thy beauty, majesty. but hold, a love...</td>\n",
       "      <td>NON-P</td>\n",
       "      <td>Snow White</td>\n",
       "      <td>mirror</td>\n",
       "      <td>1937</td>\n",
       "      <td>4</td>\n",
       "    </tr>\n",
       "    <tr>\n",
       "      <th>4</th>\n",
       "      <td>EARLY</td>\n",
       "      <td>alas for her ! reveal her name.</td>\n",
       "      <td>NON-P</td>\n",
       "      <td>Snow White</td>\n",
       "      <td>queen</td>\n",
       "      <td>1937</td>\n",
       "      <td>5</td>\n",
       "    </tr>\n",
       "    <tr>\n",
       "      <th>5</th>\n",
       "      <td>EARLY</td>\n",
       "      <td>lips red as the rose. hair black as ebony. ski...</td>\n",
       "      <td>NON-P</td>\n",
       "      <td>Snow White</td>\n",
       "      <td>mirror</td>\n",
       "      <td>1937</td>\n",
       "      <td>6</td>\n",
       "    </tr>\n",
       "    <tr>\n",
       "      <th>6</th>\n",
       "      <td>EARLY</td>\n",
       "      <td>snow white !</td>\n",
       "      <td>NON-P</td>\n",
       "      <td>Snow White</td>\n",
       "      <td>queen</td>\n",
       "      <td>1937</td>\n",
       "      <td>7</td>\n",
       "    </tr>\n",
       "    <tr>\n",
       "      <th>7</th>\n",
       "      <td>EARLY</td>\n",
       "      <td>want to know a secret ? promise not to tell ? ...</td>\n",
       "      <td>PRINCESS</td>\n",
       "      <td>Snow White</td>\n",
       "      <td>snow white</td>\n",
       "      <td>1937</td>\n",
       "      <td>8</td>\n",
       "    </tr>\n",
       "    <tr>\n",
       "      <th>8</th>\n",
       "      <td>EARLY</td>\n",
       "      <td>today</td>\n",
       "      <td>PRINCE</td>\n",
       "      <td>Snow White</td>\n",
       "      <td>prince</td>\n",
       "      <td>1937</td>\n",
       "      <td>9</td>\n",
       "    </tr>\n",
       "    <tr>\n",
       "      <th>9</th>\n",
       "      <td>EARLY</td>\n",
       "      <td>oh !</td>\n",
       "      <td>PRINCESS</td>\n",
       "      <td>Snow White</td>\n",
       "      <td>snow white</td>\n",
       "      <td>1937</td>\n",
       "      <td>10</td>\n",
       "    </tr>\n",
       "  </tbody>\n",
       "</table>\n",
       "</div>"
      ],
      "text/plain": [
       "  Disney_Period                                               Text  \\\n",
       "0         EARLY  slave in the magic mirror come from the farthe...   \n",
       "1         EARLY                what wouldst thou know, my queen ?    \n",
       "2         EARLY  magic mirror on the wall, who is the fairest o...   \n",
       "3         EARLY  famed is thy beauty, majesty. but hold, a love...   \n",
       "4         EARLY                   alas for her ! reveal her name.    \n",
       "5         EARLY  lips red as the rose. hair black as ebony. ski...   \n",
       "6         EARLY                                      snow white !    \n",
       "7         EARLY  want to know a secret ? promise not to tell ? ...   \n",
       "8         EARLY                                             today    \n",
       "9         EARLY                                              oh !    \n",
       "\n",
       "  Speaker_Status        Movie     Speaker  Year  UTTERANCE_NUMBER  \n",
       "0          NON-P  Snow White        queen  1937                 1  \n",
       "1          NON-P  Snow White       mirror  1937                 2  \n",
       "2          NON-P  Snow White        queen  1937                 3  \n",
       "3          NON-P  Snow White       mirror  1937                 4  \n",
       "4          NON-P  Snow White        queen  1937                 5  \n",
       "5          NON-P  Snow White       mirror  1937                 6  \n",
       "6          NON-P  Snow White        queen  1937                 7  \n",
       "7       PRINCESS  Snow White   snow white  1937                 8  \n",
       "8         PRINCE  Snow White       prince  1937                 9  \n",
       "9       PRINCESS  Snow White   snow white  1937                10  "
      ]
     },
     "execution_count": 3,
     "metadata": {},
     "output_type": "execute_result"
    }
   ],
   "source": [
    "df = pd.read_csv(\"princess_corpus.csv\", sep=\",\")  # separator -- a comma\n",
    "df.head(10)"
   ]
  },
  {
   "cell_type": "markdown",
   "metadata": {
    "id": "_B4bNK4LW7Wq"
   },
   "source": [
    "Show the columns of the dataframe (df.columns):"
   ]
  },
  {
   "cell_type": "code",
   "execution_count": 4,
   "metadata": {
    "id": "8RkiIq1FW7Ws",
    "outputId": "3841204a-0c51-4c42-fcbd-f49d77b512a1"
   },
   "outputs": [
    {
     "data": {
      "text/plain": [
       "Index(['Disney_Period', 'Text', 'Speaker_Status', 'Movie', 'Speaker', 'Year',\n",
       "       'UTTERANCE_NUMBER'],\n",
       "      dtype='object')"
      ]
     },
     "execution_count": 4,
     "metadata": {},
     "output_type": "execute_result"
    }
   ],
   "source": [
    "df.columns"
   ]
  },
  {
   "cell_type": "markdown",
   "metadata": {
    "id": "2XhwIMXdW7Wu"
   },
   "source": [
    "Choose the columns ['Disney_Period', 'Text', 'Speaker_Status', 'Movie', 'Speaker', 'Year']"
   ]
  },
  {
   "cell_type": "code",
   "execution_count": 5,
   "metadata": {
    "id": "8wMKWVvVW7Wv"
   },
   "outputs": [],
   "source": [
    "df = df[['Disney_Period', 'Text', 'Speaker_Status', 'Movie', 'Speaker', 'Year']]"
   ]
  },
  {
   "cell_type": "code",
   "execution_count": 6,
   "metadata": {
    "id": "mIXgzJoSW7Ww",
    "outputId": "6e13994e-ae09-4a70-8604-bb5c9d28ede1"
   },
   "outputs": [
    {
     "data": {
      "text/html": [
       "<div>\n",
       "<style scoped>\n",
       "    .dataframe tbody tr th:only-of-type {\n",
       "        vertical-align: middle;\n",
       "    }\n",
       "\n",
       "    .dataframe tbody tr th {\n",
       "        vertical-align: top;\n",
       "    }\n",
       "\n",
       "    .dataframe thead th {\n",
       "        text-align: right;\n",
       "    }\n",
       "</style>\n",
       "<table border=\"1\" class=\"dataframe\">\n",
       "  <thead>\n",
       "    <tr style=\"text-align: right;\">\n",
       "      <th></th>\n",
       "      <th>Disney_Period</th>\n",
       "      <th>Text</th>\n",
       "      <th>Speaker_Status</th>\n",
       "      <th>Movie</th>\n",
       "      <th>Speaker</th>\n",
       "      <th>Year</th>\n",
       "    </tr>\n",
       "  </thead>\n",
       "  <tbody>\n",
       "    <tr>\n",
       "      <th>0</th>\n",
       "      <td>EARLY</td>\n",
       "      <td>slave in the magic mirror come from the farthe...</td>\n",
       "      <td>NON-P</td>\n",
       "      <td>Snow White</td>\n",
       "      <td>queen</td>\n",
       "      <td>1937</td>\n",
       "    </tr>\n",
       "    <tr>\n",
       "      <th>1</th>\n",
       "      <td>EARLY</td>\n",
       "      <td>what wouldst thou know, my queen ?</td>\n",
       "      <td>NON-P</td>\n",
       "      <td>Snow White</td>\n",
       "      <td>mirror</td>\n",
       "      <td>1937</td>\n",
       "    </tr>\n",
       "    <tr>\n",
       "      <th>2</th>\n",
       "      <td>EARLY</td>\n",
       "      <td>magic mirror on the wall, who is the fairest o...</td>\n",
       "      <td>NON-P</td>\n",
       "      <td>Snow White</td>\n",
       "      <td>queen</td>\n",
       "      <td>1937</td>\n",
       "    </tr>\n",
       "    <tr>\n",
       "      <th>3</th>\n",
       "      <td>EARLY</td>\n",
       "      <td>famed is thy beauty, majesty. but hold, a love...</td>\n",
       "      <td>NON-P</td>\n",
       "      <td>Snow White</td>\n",
       "      <td>mirror</td>\n",
       "      <td>1937</td>\n",
       "    </tr>\n",
       "    <tr>\n",
       "      <th>4</th>\n",
       "      <td>EARLY</td>\n",
       "      <td>alas for her ! reveal her name.</td>\n",
       "      <td>NON-P</td>\n",
       "      <td>Snow White</td>\n",
       "      <td>queen</td>\n",
       "      <td>1937</td>\n",
       "    </tr>\n",
       "  </tbody>\n",
       "</table>\n",
       "</div>"
      ],
      "text/plain": [
       "  Disney_Period                                               Text  \\\n",
       "0         EARLY  slave in the magic mirror come from the farthe...   \n",
       "1         EARLY                what wouldst thou know, my queen ?    \n",
       "2         EARLY  magic mirror on the wall, who is the fairest o...   \n",
       "3         EARLY  famed is thy beauty, majesty. but hold, a love...   \n",
       "4         EARLY                   alas for her ! reveal her name.    \n",
       "\n",
       "  Speaker_Status        Movie Speaker  Year  \n",
       "0          NON-P  Snow White    queen  1937  \n",
       "1          NON-P  Snow White   mirror  1937  \n",
       "2          NON-P  Snow White    queen  1937  \n",
       "3          NON-P  Snow White   mirror  1937  \n",
       "4          NON-P  Snow White    queen  1937  "
      ]
     },
     "execution_count": 6,
     "metadata": {},
     "output_type": "execute_result"
    }
   ],
   "source": [
    "df.head()"
   ]
  },
  {
   "cell_type": "markdown",
   "metadata": {
    "id": "oHouY_sPW7Wy"
   },
   "source": [
    "Count the number of utterances per period:"
   ]
  },
  {
   "cell_type": "code",
   "execution_count": 7,
   "metadata": {
    "id": "850rhsgbW7Wz",
    "outputId": "eb485a36-fe71-4cba-ebf0-6bd4f039f57f"
   },
   "outputs": [
    {
     "data": {
      "text/plain": [
       "MID      4155\n",
       "LATE     2268\n",
       "EARLY    1325\n",
       "Name: Disney_Period, dtype: int64"
      ]
     },
     "execution_count": 7,
     "metadata": {},
     "output_type": "execute_result"
    }
   ],
   "source": [
    "df[\"Disney_Period\"].value_counts()"
   ]
  },
  {
   "cell_type": "markdown",
   "metadata": {
    "id": "keM6LnhEW7W1"
   },
   "source": [
    "Count the number of utterances per movie:"
   ]
  },
  {
   "cell_type": "code",
   "execution_count": 8,
   "metadata": {
    "id": "7yC1nPv1W7W3",
    "outputId": "176266e3-b47d-44b8-befc-52d6a071003a"
   },
   "outputs": [
    {
     "data": {
      "text/plain": [
       "Frozen                        988\n",
       "The Lion King                 952\n",
       "Aladdin                       842\n",
       "Beauty and the Beast          772\n",
       "The Princess and the Frog     676\n",
       "Pocahontas                    638\n",
       "Mulan                         554\n",
       "Cinderella                    497\n",
       "Sleeping Beauty               462\n",
       "Brave                         411\n",
       "The Little Mermaid            397\n",
       "Snow White                    366\n",
       "Tangled                       193\n",
       "Name: Movie, dtype: int64"
      ]
     },
     "execution_count": 8,
     "metadata": {},
     "output_type": "execute_result"
    }
   ],
   "source": [
    "df[\"Movie\"].value_counts()"
   ]
  },
  {
   "cell_type": "markdown",
   "metadata": {
    "id": "11Qs8J4JW7W4"
   },
   "source": [
    "Let's print out movies grouped by the time period:"
   ]
  },
  {
   "cell_type": "code",
   "execution_count": 9,
   "metadata": {
    "id": "uMD_2q74W7W5",
    "outputId": "d4d82e0a-f35e-491e-e8c1-687e3f53263d"
   },
   "outputs": [
    {
     "data": {
      "text/html": [
       "<div>\n",
       "<style scoped>\n",
       "    .dataframe tbody tr th:only-of-type {\n",
       "        vertical-align: middle;\n",
       "    }\n",
       "\n",
       "    .dataframe tbody tr th {\n",
       "        vertical-align: top;\n",
       "    }\n",
       "\n",
       "    .dataframe thead th {\n",
       "        text-align: right;\n",
       "    }\n",
       "</style>\n",
       "<table border=\"1\" class=\"dataframe\">\n",
       "  <thead>\n",
       "    <tr style=\"text-align: right;\">\n",
       "      <th></th>\n",
       "      <th>Movie</th>\n",
       "    </tr>\n",
       "    <tr>\n",
       "      <th>Disney_Period</th>\n",
       "      <th></th>\n",
       "    </tr>\n",
       "  </thead>\n",
       "  <tbody>\n",
       "    <tr>\n",
       "      <th>EARLY</th>\n",
       "      <td>{Snow White , Sleeping Beauty , Cinderella }</td>\n",
       "    </tr>\n",
       "    <tr>\n",
       "      <th>MID</th>\n",
       "      <td>{Aladdin , The Lion King , Beauty and the Beas...</td>\n",
       "    </tr>\n",
       "    <tr>\n",
       "      <th>LATE</th>\n",
       "      <td>{Brave , Tangled , The Princess and the Frog ,...</td>\n",
       "    </tr>\n",
       "  </tbody>\n",
       "</table>\n",
       "</div>"
      ],
      "text/plain": [
       "                                                           Movie\n",
       "Disney_Period                                                   \n",
       "EARLY               {Snow White , Sleeping Beauty , Cinderella }\n",
       "MID            {Aladdin , The Lion King , Beauty and the Beas...\n",
       "LATE           {Brave , Tangled , The Princess and the Frog ,..."
      ]
     },
     "execution_count": 9,
     "metadata": {},
     "output_type": "execute_result"
    }
   ],
   "source": [
    "df.groupby([\"Disney_Period\"], sort=False).agg({\"Movie\": set})"
   ]
  },
  {
   "cell_type": "markdown",
   "metadata": {
    "id": "WtbZ_wCiW7W6"
   },
   "source": [
    "Let's apply a tokenization function to the text of the utterances!"
   ]
  },
  {
   "cell_type": "code",
   "execution_count": 10,
   "metadata": {
    "id": "mUDFeldQW7W7"
   },
   "outputs": [],
   "source": [
    "from string import punctuation\n",
    "def tokenize(text):\n",
    "    if type(text) == str:\n",
    "        text = text.lower().strip().split()\n",
    "        text = [word.strip(punctuation) for word in text]\n",
    "    return text"
   ]
  },
  {
   "cell_type": "code",
   "execution_count": 11,
   "metadata": {
    "id": "l-X_JQGVW7W8",
    "outputId": "e6aa0157-29a2-48e4-9dba-0d69ca11d55d"
   },
   "outputs": [
    {
     "data": {
      "text/plain": [
       "0    [slave, in, the, magic, mirror, come, from, th...\n",
       "1             [what, wouldst, thou, know, my, queen, ]\n",
       "2    [magic, mirror, on, the, wall, who, is, the, f...\n",
       "3    [famed, is, thy, beauty, majesty, but, hold, a...\n",
       "4                [alas, for, her, , reveal, her, name]\n",
       "Name: Text, dtype: object"
      ]
     },
     "execution_count": 11,
     "metadata": {},
     "output_type": "execute_result"
    }
   ],
   "source": [
    "df[\"Text\"].apply(tokenize).head()"
   ]
  },
  {
   "cell_type": "code",
   "execution_count": 12,
   "metadata": {
    "id": "jAgSV55vW7W-"
   },
   "outputs": [],
   "source": [
    "def length(text):\n",
    "    if type(text) == str:\n",
    "        text = text.lower().strip().split()\n",
    "        text = [word.strip(punctuation) for word in text]\n",
    "    return len(text)"
   ]
  },
  {
   "cell_type": "code",
   "execution_count": 13,
   "metadata": {
    "id": "24bL4NiOW7W_"
   },
   "outputs": [],
   "source": [
    "df2 = df.copy()"
   ]
  },
  {
   "cell_type": "code",
   "execution_count": 14,
   "metadata": {
    "id": "yr_xE1QJW7XA"
   },
   "outputs": [],
   "source": [
    "df2[\"len\"] = df2[\"Text\"].apply(length)"
   ]
  },
  {
   "cell_type": "code",
   "execution_count": 15,
   "metadata": {
    "id": "iiVZA9LzW7XB",
    "outputId": "a24bbbcf-dabe-41c6-aa89-546ab08f03d7"
   },
   "outputs": [
    {
     "data": {
      "text/html": [
       "<div>\n",
       "<style scoped>\n",
       "    .dataframe tbody tr th:only-of-type {\n",
       "        vertical-align: middle;\n",
       "    }\n",
       "\n",
       "    .dataframe tbody tr th {\n",
       "        vertical-align: top;\n",
       "    }\n",
       "\n",
       "    .dataframe thead th {\n",
       "        text-align: right;\n",
       "    }\n",
       "</style>\n",
       "<table border=\"1\" class=\"dataframe\">\n",
       "  <thead>\n",
       "    <tr style=\"text-align: right;\">\n",
       "      <th></th>\n",
       "      <th>Disney_Period</th>\n",
       "      <th>Text</th>\n",
       "      <th>Speaker_Status</th>\n",
       "      <th>Movie</th>\n",
       "      <th>Speaker</th>\n",
       "      <th>Year</th>\n",
       "      <th>len</th>\n",
       "    </tr>\n",
       "  </thead>\n",
       "  <tbody>\n",
       "    <tr>\n",
       "      <th>0</th>\n",
       "      <td>EARLY</td>\n",
       "      <td>slave in the magic mirror come from the farthe...</td>\n",
       "      <td>NON-P</td>\n",
       "      <td>Snow White</td>\n",
       "      <td>queen</td>\n",
       "      <td>1937</td>\n",
       "      <td>24</td>\n",
       "    </tr>\n",
       "    <tr>\n",
       "      <th>1</th>\n",
       "      <td>EARLY</td>\n",
       "      <td>what wouldst thou know, my queen ?</td>\n",
       "      <td>NON-P</td>\n",
       "      <td>Snow White</td>\n",
       "      <td>mirror</td>\n",
       "      <td>1937</td>\n",
       "      <td>7</td>\n",
       "    </tr>\n",
       "    <tr>\n",
       "      <th>2</th>\n",
       "      <td>EARLY</td>\n",
       "      <td>magic mirror on the wall, who is the fairest o...</td>\n",
       "      <td>NON-P</td>\n",
       "      <td>Snow White</td>\n",
       "      <td>queen</td>\n",
       "      <td>1937</td>\n",
       "      <td>13</td>\n",
       "    </tr>\n",
       "    <tr>\n",
       "      <th>3</th>\n",
       "      <td>EARLY</td>\n",
       "      <td>famed is thy beauty, majesty. but hold, a love...</td>\n",
       "      <td>NON-P</td>\n",
       "      <td>Snow White</td>\n",
       "      <td>mirror</td>\n",
       "      <td>1937</td>\n",
       "      <td>25</td>\n",
       "    </tr>\n",
       "    <tr>\n",
       "      <th>4</th>\n",
       "      <td>EARLY</td>\n",
       "      <td>alas for her ! reveal her name.</td>\n",
       "      <td>NON-P</td>\n",
       "      <td>Snow White</td>\n",
       "      <td>queen</td>\n",
       "      <td>1937</td>\n",
       "      <td>7</td>\n",
       "    </tr>\n",
       "  </tbody>\n",
       "</table>\n",
       "</div>"
      ],
      "text/plain": [
       "  Disney_Period                                               Text  \\\n",
       "0         EARLY  slave in the magic mirror come from the farthe...   \n",
       "1         EARLY                what wouldst thou know, my queen ?    \n",
       "2         EARLY  magic mirror on the wall, who is the fairest o...   \n",
       "3         EARLY  famed is thy beauty, majesty. but hold, a love...   \n",
       "4         EARLY                   alas for her ! reveal her name.    \n",
       "\n",
       "  Speaker_Status        Movie Speaker  Year  len  \n",
       "0          NON-P  Snow White    queen  1937   24  \n",
       "1          NON-P  Snow White   mirror  1937    7  \n",
       "2          NON-P  Snow White    queen  1937   13  \n",
       "3          NON-P  Snow White   mirror  1937   25  \n",
       "4          NON-P  Snow White    queen  1937    7  "
      ]
     },
     "execution_count": 15,
     "metadata": {},
     "output_type": "execute_result"
    }
   ],
   "source": [
    "df2.head()"
   ]
  },
  {
   "cell_type": "code",
   "execution_count": 16,
   "metadata": {
    "id": "XhaPSAGiW7XE",
    "outputId": "71614756-b324-451b-be50-8c19d1a07edf"
   },
   "outputs": [
    {
     "data": {
      "text/html": [
       "<div>\n",
       "<style scoped>\n",
       "    .dataframe tbody tr th:only-of-type {\n",
       "        vertical-align: middle;\n",
       "    }\n",
       "\n",
       "    .dataframe tbody tr th {\n",
       "        vertical-align: top;\n",
       "    }\n",
       "\n",
       "    .dataframe thead th {\n",
       "        text-align: right;\n",
       "    }\n",
       "</style>\n",
       "<table border=\"1\" class=\"dataframe\">\n",
       "  <thead>\n",
       "    <tr style=\"text-align: right;\">\n",
       "      <th></th>\n",
       "      <th></th>\n",
       "      <th>len</th>\n",
       "    </tr>\n",
       "    <tr>\n",
       "      <th>Speaker_Status</th>\n",
       "      <th>Disney_Period</th>\n",
       "      <th></th>\n",
       "    </tr>\n",
       "  </thead>\n",
       "  <tbody>\n",
       "    <tr>\n",
       "      <th rowspan=\"3\" valign=\"top\">NON-P</th>\n",
       "      <th>EARLY</th>\n",
       "      <td>10.045584</td>\n",
       "    </tr>\n",
       "    <tr>\n",
       "      <th>LATE</th>\n",
       "      <td>11.002527</td>\n",
       "    </tr>\n",
       "    <tr>\n",
       "      <th>MID</th>\n",
       "      <td>10.219367</td>\n",
       "    </tr>\n",
       "    <tr>\n",
       "      <th rowspan=\"3\" valign=\"top\">PRINCE</th>\n",
       "      <th>EARLY</th>\n",
       "      <td>8.351351</td>\n",
       "    </tr>\n",
       "    <tr>\n",
       "      <th>LATE</th>\n",
       "      <td>11.566327</td>\n",
       "    </tr>\n",
       "    <tr>\n",
       "      <th>MID</th>\n",
       "      <td>7.583438</td>\n",
       "    </tr>\n",
       "    <tr>\n",
       "      <th rowspan=\"3\" valign=\"top\">PRINCESS</th>\n",
       "      <th>EARLY</th>\n",
       "      <td>11.374468</td>\n",
       "    </tr>\n",
       "    <tr>\n",
       "      <th>LATE</th>\n",
       "      <td>8.707345</td>\n",
       "    </tr>\n",
       "    <tr>\n",
       "      <th>MID</th>\n",
       "      <td>8.549777</td>\n",
       "    </tr>\n",
       "  </tbody>\n",
       "</table>\n",
       "</div>"
      ],
      "text/plain": [
       "                                    len\n",
       "Speaker_Status Disney_Period           \n",
       "NON-P          EARLY          10.045584\n",
       "               LATE           11.002527\n",
       "               MID            10.219367\n",
       "PRINCE         EARLY           8.351351\n",
       "               LATE           11.566327\n",
       "               MID             7.583438\n",
       "PRINCESS       EARLY          11.374468\n",
       "               LATE            8.707345\n",
       "               MID             8.549777"
      ]
     },
     "execution_count": 16,
     "metadata": {},
     "output_type": "execute_result"
    }
   ],
   "source": [
    "df2.groupby([\"Speaker_Status\", \"Disney_Period\"]).agg({\"len\": \"mean\"})"
   ]
  },
  {
   "cell_type": "code",
   "execution_count": 17,
   "metadata": {
    "id": "7RheZN7HW7XH"
   },
   "outputs": [],
   "source": [
    "import matplotlib.pyplot as plt\n",
    "%matplotlib inline\n",
    "import seaborn as sns"
   ]
  },
  {
   "cell_type": "code",
   "execution_count": 18,
   "metadata": {
    "id": "30uI1uPrW7XI",
    "outputId": "2662ee43-b2d1-4a93-89a0-1b60b889e834"
   },
   "outputs": [
    {
     "data": {
      "image/png": "[encoded data removed]",
      "text/plain": [
       "<Figure size 432x288 with 1 Axes>"
      ]
     },
     "metadata": {
      "needs_background": "light"
     },
     "output_type": "display_data"
    }
   ],
   "source": [
    "df2.groupby([\"Speaker_Status\", \"Disney_Period\"]).agg({\"len\": \"mean\"}).plot.bar(color='pink');\n",
    "plt.title('Who talkes more?')\n",
    "plt.xlabel('period and type of character')\n",
    "plt.ylabel('length of utterances');"
   ]
  },
  {
   "cell_type": "code",
   "execution_count": 19,
   "metadata": {
    "id": "N9C-TZrdW7XK",
    "outputId": "89e628e8-7706-45c9-f93a-75059e402606"
   },
   "outputs": [
    {
     "data": {
      "image/png": "[encoded data removed]",
      "text/plain": [
       "<Figure size 432x288 with 1 Axes>"
      ]
     },
     "metadata": {
      "needs_background": "light"
     },
     "output_type": "display_data"
    }
   ],
   "source": [
    "sns.barplot(x=\"Disney_Period\", y=\"len\", hue='Speaker_Status', data=df2)\n",
    "plt.title('Who talkes more?')\n",
    "plt.xlabel('Speaker Status')\n",
    "plt.ylabel('length of utterances');\n",
    "\n"
   ]
  },
  {
   "cell_type": "code",
   "execution_count": 20,
   "metadata": {
    "id": "CldTVeJZW7XL",
    "outputId": "d6ee4a4b-c4e2-4409-9fb3-5e64352dd572"
   },
   "outputs": [
    {
     "data": {
      "image/png": "[encoded data removed]",
      "text/plain": [
       "<Figure size 720x432 with 1 Axes>"
      ]
     },
     "metadata": {
      "needs_background": "light"
     },
     "output_type": "display_data"
    }
   ],
   "source": [
    "plt.figure(figsize=(10, 6))\n",
    "sns.boxplot(x=\"Disney_Period\", y=\"len\", data=df2)\n",
    "plt.ylim((0, 50))\n",
    "plt.title('Variation in length during different Disney eras')\n",
    "plt.ylabel('length of utterances')\n",
    "plt.xlabel('Disney Period');"
   ]
  },
  {
   "cell_type": "code",
   "execution_count": 21,
   "metadata": {
    "id": "9B4RQM1zW7XO",
    "outputId": "9077256b-f4e7-4151-fc4c-2e4cc6b01337"
   },
   "outputs": [
    {
     "data": {
      "image/png": "[encoded data removed]",
      "text/plain": [
       "<Figure size 720x432 with 1 Axes>"
      ]
     },
     "metadata": {
      "needs_background": "light"
     },
     "output_type": "display_data"
    }
   ],
   "source": [
    "plt.figure(figsize=(10, 6))\n",
    "sns.boxplot(x=\"Speaker_Status\", y=\"len\", data=df2)\n",
    "plt.ylim((0, 50))\n",
    "plt.title('Variation in length by Speaker Status')\n",
    "plt.ylabel('length of utterances')\n",
    "plt.xlabel('Speaker Status');"
   ]
  },
  {
   "cell_type": "markdown",
   "metadata": {},
   "source": [
    "In the next 40 min. go through the following sections of [the pandas tutorial](https://www.w3schools.com/python/pandas/default.asp):\n",
    "\n",
    "+ Cleaning data\n",
    "+ Correlations\n",
    "+ Plotting"
   ]
  }
 ],
 "metadata": {
  "colab": {
   "name": "PP_pandas.ipynb",
   "provenance": []
  },
  "kernelspec": {
   "display_name": "Python 3",
   "language": "python",
   "name": "python3"
  },
  "language_info": {
   "codemirror_mode": {
    "name": "ipython",
    "version": 3
   },
   "file_extension": ".py",
   "mimetype": "text/x-python",
   "name": "python",
   "nbconvert_exporter": "python",
   "pygments_lexer": "ipython3",
   "version": "3.8.5"
  }
 },
 "nbformat": 4,
 "nbformat_minor": 1
}
