{
  "cells": [
    {
      "cell_type": "markdown",
      "metadata": {
        "id": "tN62CoF3nuMY"
      },
      "source": [
        "# JSON"
      ]
    },
    {
      "cell_type": "markdown",
      "metadata": {
        "id": "y3Zwf6i4nuMe"
      },
      "source": [
        "## json format\n",
        "\n",
        "**JSON** -- is a file format that uses human-readable text to transmit data objects. \n",
        "\n",
        "JSON stands for *JavaScript Object Notation.*\n",
        "\n",
        "JSON is computer- and human-friendly.\n",
        "\n",
        "JSON is a language-independent data format. It was derived from JavaScript, but many modern programming languages include code to generate and parse JSON-format data.\n",
        "\n",
        "JSON is more compact than XML. "
      ]
    },
    {
      "cell_type": "markdown",
      "metadata": {
        "id": "_nv_9ogvnuMk"
      },
      "source": [
        "![](https://pics.me.me/json-statham-new-json-object-44070723.png)"
      ]
    },
    {
      "cell_type": "markdown",
      "metadata": {
        "id": "8rwpqwxJnuMn"
      },
      "source": [
        "## Data types and syntax\n",
        "\n",
        "A JSON string can contain an __object__, then it starts with a `{` and ends with a `}`. Such an object resembles a python *dictionary*: it consists of attribute–value pairs devided by a comma. For example:"
      ]
    },
    {
      "cell_type": "code",
      "execution_count": 2,
      "metadata": {
        "collapsed": true,
        "colab": {
          "base_uri": "https://localhost:8080/"
        },
        "id": "czX9_nbwnuMs",
        "outputId": "153d5dfd-be6e-463a-f297-c73aaba0893a"
      },
      "outputs": [
        {
          "output_type": "execute_result",
          "data": {
            "text/plain": [
              "{'first_name': 'Guido', 'last_name': 'Rossum'}"
            ]
          },
          "metadata": {},
          "execution_count": 2
        }
      ],
      "source": [
        "{\"first_name\": \"Guido\", \"last_name\":\"Rossum\"}"
      ]
    },
    {
      "cell_type": "markdown",
      "metadata": {
        "id": "DpYh1oCynuMv"
      },
      "source": [
        "A JSON string can contain an __array__, then it starts with a `[` and ends with a `]`. This object resembles a python array, all the values are separated by a comma. For example:"
      ]
    },
    {
      "cell_type": "code",
      "execution_count": 3,
      "metadata": {
        "collapsed": true,
        "colab": {
          "base_uri": "https://localhost:8080/"
        },
        "id": "LD_X4B2InuM1",
        "outputId": "4c2e17f6-b185-4120-b3ad-c7babda7b3bd"
      },
      "outputs": [
        {
          "output_type": "execute_result",
          "data": {
            "text/plain": [
              "['Guido van Rossum',\n",
              " 'Diana Clarke',\n",
              " 'Naomi Ceder',\n",
              " 'Van Lindberg',\n",
              " 'Ewa Jodlowska']"
            ]
          },
          "metadata": {},
          "execution_count": 3
        }
      ],
      "source": [
        "[\"Guido van Rossum\", \"Diana Clarke\", \"Naomi Ceder\", \"Van Lindberg\", \"Ewa Jodlowska\"]"
      ]
    },
    {
      "cell_type": "markdown",
      "metadata": {
        "id": "KVPrI-j6nuM2"
      },
      "source": [
        "JSON's basic data types are:\n",
        "* number (an integer or a float)\n",
        "* string (strings are delimited with double-quotation marks and support a backslash escaping syntax)\n",
        "* boolean (`true` or `false`)\n",
        "* array (an ordered list of zero or more values, each of which may be of any type. Arrays use square bracket notation with comma-separated elements)\n",
        "* object (in {})\n",
        "* null (an empty value, using the word null)\n",
        "\n",
        "To include special symbols, use `\\`, e.g., `\\\"` or `\\r\\n`. If you want to, you can find all the rules here: http://www.json.org/\n",
        "\n",
        "One could mistake a json string for a python data type, e.g., a dictionary. But it is not the case. \n",
        "First, json is not a code, it is a text. Second, not all valid python objects form a valid json. For example, the following object is not a valid json, but it is a valid python dictionary: `{(1, 'a'): u'12345'}`. (Can you think of more examples?)\n",
        "\n",
        "Another example of a longer json string:"
      ]
    },
    {
      "cell_type": "code",
      "execution_count": 4,
      "metadata": {
        "collapsed": true,
        "colab": {
          "base_uri": "https://localhost:8080/"
        },
        "id": "u7XOB_7TnuM4",
        "outputId": "940e619a-a483-4e28-c894-2b964d2e882b"
      },
      "outputs": [
        {
          "output_type": "execute_result",
          "data": {
            "text/plain": [
              "{'organisation': 'Python Software Foundation',\n",
              " 'officers': [{'first_name': 'Guido',\n",
              "   'last_name': 'Rossum',\n",
              "   'position': 'president'},\n",
              "  {'first_name': 'Diana', 'last_name': 'Clarke', 'position': 'chair'},\n",
              "  {'first_name': 'Naomi', 'last_name': 'Ceder', 'position': 'vice chair'},\n",
              "  {'first_name': 'Van', 'last_name': 'Lindberg', 'position': 'vice chair'},\n",
              "  {'first_name': 'Ewa',\n",
              "   'last_name': 'Jodlowska',\n",
              "   'position': 'director of operations'}],\n",
              " 'type': 'non-profit',\n",
              " 'country': 'USA',\n",
              " 'founded': 2001,\n",
              " 'members': 244,\n",
              " 'budget': 750000,\n",
              " 'url': 'www.python.org/psf/'}"
            ]
          },
          "metadata": {},
          "execution_count": 4
        }
      ],
      "source": [
        "{\"organisation\": \"Python Software Foundation\",\n",
        " \"officers\": [\n",
        "            {\"first_name\": \"Guido\", \"last_name\":\"Rossum\", \"position\":\"president\"},\n",
        "            {\"first_name\": \"Diana\", \"last_name\":\"Clarke\", \"position\":\"chair\"},\n",
        "            {\"first_name\": \"Naomi\", \"last_name\":\"Ceder\", \"position\":\"vice chair\"},\n",
        "            {\"first_name\": \"Van\", \"last_name\":\"Lindberg\", \"position\":\"vice chair\"},\n",
        "            {\"first_name\": \"Ewa\", \"last_name\":\"Jodlowska\", \"position\":\"director of operations\"}\n",
        "            ],\n",
        "\"type\": \"non-profit\",\n",
        "\"country\": \"USA\",\n",
        "\"founded\": 2001,\n",
        "\"members\": 244,\n",
        "\"budget\": 750000,\n",
        "\"url\": \"www.python.org/psf/\"}"
      ]
    },
    {
      "cell_type": "markdown",
      "metadata": {
        "id": "BH57sBDVnuM7"
      },
      "source": [
        "## json module\n",
        "\n",
        "Python has a standard `json` module. You will most likely need the following functions:\n",
        "\n",
        "* `loads`  - to convert a json string into a python object -- a dictionary or an array. This function takes one obligatory argument -- a json string.\n",
        "* `dumps`  - to convert a python dictionary or an array into a json string. This function takes one obligatory argument -- a dictionary or an array.\n",
        "* `load` - to read a json from a file and convert it into a python object. This function takes two obligatory arguments -- a json string and a file.\n",
        "* `dump` - to convert a python object into a json and save it into a file. This function takes two obligatory arguments - a file and a python object.\n",
        "\n",
        "The word \"file\" refers to any file-like object, to anything that we can apply the `.read()` method to.\n",
        "\n",
        "## An example\n",
        "\n",
        "Let's convert our json string into a python object:"
      ]
    },
    {
      "cell_type": "code",
      "execution_count": 5,
      "metadata": {
        "id": "vTjnwiuOnuM8"
      },
      "outputs": [],
      "source": [
        "json_string = \"\"\"{\"organisation\": \"Python Software Foundation\",\n",
        "                 \"officers\": [\n",
        "                            {\"first_name\": \"Guido\", \"last_name\":\"Rossum\", \"position\":\"president\"},\n",
        "                            {\"first_name\": \"Diana\", \"last_name\":\"Clarke\", \"position\":\"chair\"},\n",
        "                            {\"first_name\": \"Naomi\", \"last_name\":\"Ceder\", \"position\":\"vice chair\"},\n",
        "                            {\"first_name\": \"Van\", \"last_name\":\"Lindberg\", \"position\":\"vice chair\"},\n",
        "                            {\"first_name\": \"Ewa\", \"last_name\":\"Jodlowska\", \"position\":\"director of operations\"}\n",
        "                            ],\n",
        "                \"type\": \"non-profit\",\n",
        "                \"country\": \"USA\",\n",
        "                \"founded\": 2001,\n",
        "                \"members\": 244,\n",
        "                \"budget\": 750000,\n",
        "                \"url\": \"www.python.org/psf/\"}\"\"\""
      ]
    },
    {
      "cell_type": "code",
      "execution_count": 6,
      "metadata": {
        "colab": {
          "base_uri": "https://localhost:8080/"
        },
        "id": "Dhe8CR_AnuM-",
        "outputId": "5c7232b9-22fb-4f83-c41d-8b14469306cd"
      },
      "outputs": [
        {
          "output_type": "stream",
          "name": "stdout",
          "text": [
            "<class 'dict'>\n"
          ]
        }
      ],
      "source": [
        "import json\n",
        "\n",
        "data = json.loads(json_string)\n",
        "print(type(data))  # let's print out the type of the object to make sure that that's a dictionary and not a string"
      ]
    },
    {
      "cell_type": "code",
      "execution_count": 7,
      "metadata": {
        "colab": {
          "base_uri": "https://localhost:8080/"
        },
        "id": "kOtveTrinuNB",
        "outputId": "acc1f47d-684b-4c44-e801-7f989e8e2ef2"
      },
      "outputs": [
        {
          "output_type": "stream",
          "name": "stdout",
          "text": [
            "{'budget': 750000,\n",
            " 'country': 'USA',\n",
            " 'founded': 2001,\n",
            " 'members': 244,\n",
            " 'officers': [{'first_name': 'Guido',\n",
            "               'last_name': 'Rossum',\n",
            "               'position': 'president'},\n",
            "              {'first_name': 'Diana',\n",
            "               'last_name': 'Clarke',\n",
            "               'position': 'chair'},\n",
            "              {'first_name': 'Naomi',\n",
            "               'last_name': 'Ceder',\n",
            "               'position': 'vice chair'},\n",
            "              {'first_name': 'Van',\n",
            "               'last_name': 'Lindberg',\n",
            "               'position': 'vice chair'},\n",
            "              {'first_name': 'Ewa',\n",
            "               'last_name': 'Jodlowska',\n",
            "               'position': 'director of operations'}],\n",
            " 'organisation': 'Python Software Foundation',\n",
            " 'type': 'non-profit',\n",
            " 'url': 'www.python.org/psf/'}\n"
          ]
        }
      ],
      "source": [
        "from pprint import pprint\n",
        "\n",
        "pprint(data) # let's take a look at the dictionary"
      ]
    },
    {
      "cell_type": "code",
      "execution_count": 8,
      "metadata": {
        "colab": {
          "base_uri": "https://localhost:8080/"
        },
        "id": "Ao2czlxFnuNC",
        "outputId": "a901f542-7900-4cc0-d906-fa9a2f1b0cc6"
      },
      "outputs": [
        {
          "output_type": "stream",
          "name": "stdout",
          "text": [
            "organisation officers type country founded members budget url "
          ]
        }
      ],
      "source": [
        "# let's print the keys of the dictionary\n",
        "for key in data: \n",
        "    print(key, end=' ')"
      ]
    },
    {
      "cell_type": "code",
      "execution_count": 9,
      "metadata": {
        "colab": {
          "base_uri": "https://localhost:8080/"
        },
        "id": "hGLmOsNvnuND",
        "outputId": "b5a623bb-bddc-438e-cb9a-19411431ae06"
      },
      "outputs": [
        {
          "output_type": "stream",
          "name": "stdout",
          "text": [
            "<class 'str'>\n"
          ]
        }
      ],
      "source": [
        "# now let's convert a python dictionary into a json string\n",
        "\n",
        "d = {\"John\": 51, \"Kate\": 12, \"Bill\": 27}\n",
        "json_string = json.dumps(d)\n",
        "print(type(json_string)) # убедимся, что теперь наши данные превратились в строку"
      ]
    },
    {
      "cell_type": "code",
      "execution_count": 10,
      "metadata": {
        "colab": {
          "base_uri": "https://localhost:8080/"
        },
        "id": "ov8ja5PynuNF",
        "outputId": "6e9de10c-f2b3-4c0d-9edf-3f41cd0fa63b"
      },
      "outputs": [
        {
          "output_type": "stream",
          "name": "stdout",
          "text": [
            "{\"John\": 51, \"Kate\": 12, \"Bill\": 27}\n"
          ]
        }
      ],
      "source": [
        "# let's print out the string\n",
        "print(json_string)"
      ]
    },
    {
      "cell_type": "code",
      "execution_count": 11,
      "metadata": {
        "colab": {
          "base_uri": "https://localhost:8080/"
        },
        "id": "vxd0d-0SnuNH",
        "outputId": "a9b77a04-3f3f-4899-9527-6a54a55e91c3"
      },
      "outputs": [
        {
          "output_type": "stream",
          "name": "stdout",
          "text": [
            "<class 'str'>\n",
            "[\"hello\", \"world\"]\n"
          ]
        }
      ],
      "source": [
        "# let's do the same with an array\n",
        "arr = ['hello', 'world']\n",
        "json_string = json.dumps(arr)\n",
        "print(type(json_string)) \n",
        "print(json_string)"
      ]
    },
    {
      "cell_type": "code",
      "execution_count": 12,
      "metadata": {
        "colab": {
          "base_uri": "https://localhost:8080/",
          "height": 364
        },
        "id": "IEKshJ-CnuNJ",
        "outputId": "bceb7ad1-75da-45ac-d055-219ef6f0511c"
      },
      "outputs": [
        {
          "output_type": "error",
          "ename": "TypeError",
          "evalue": "ignored",
          "traceback": [
            "\u001b[0;31m---------------------------------------------------------------------------\u001b[0m",
            "\u001b[0;31mTypeError\u001b[0m                                 Traceback (most recent call last)",
            "\u001b[0;32m<ipython-input-12-70c5ac5384b5>\u001b[0m in \u001b[0;36m<module>\u001b[0;34m\u001b[0m\n\u001b[1;32m      1\u001b[0m \u001b[0;31m# not all valid python objects can be converted into a valid json\u001b[0m\u001b[0;34m\u001b[0m\u001b[0;34m\u001b[0m\u001b[0;34m\u001b[0m\u001b[0m\n\u001b[1;32m      2\u001b[0m \u001b[0md\u001b[0m \u001b[0;34m=\u001b[0m \u001b[0;34m{\u001b[0m\u001b[0;34m(\u001b[0m\u001b[0;34m\"A\"\u001b[0m\u001b[0;34m,\u001b[0m \u001b[0;36m21\u001b[0m\u001b[0;34m)\u001b[0m\u001b[0;34m:\u001b[0m \u001b[0;34m\"John\"\u001b[0m\u001b[0;34m}\u001b[0m\u001b[0;34m\u001b[0m\u001b[0;34m\u001b[0m\u001b[0m\n\u001b[0;32m----> 3\u001b[0;31m \u001b[0mjson_string\u001b[0m \u001b[0;34m=\u001b[0m \u001b[0mjson\u001b[0m\u001b[0;34m.\u001b[0m\u001b[0mdumps\u001b[0m\u001b[0;34m(\u001b[0m\u001b[0md\u001b[0m\u001b[0;34m)\u001b[0m\u001b[0;34m\u001b[0m\u001b[0;34m\u001b[0m\u001b[0m\n\u001b[0m\u001b[1;32m      4\u001b[0m \u001b[0mprint\u001b[0m\u001b[0;34m(\u001b[0m\u001b[0mjson_string\u001b[0m\u001b[0;34m)\u001b[0m\u001b[0;34m\u001b[0m\u001b[0;34m\u001b[0m\u001b[0m\n",
            "\u001b[0;32m/usr/lib/python3.7/json/__init__.py\u001b[0m in \u001b[0;36mdumps\u001b[0;34m(obj, skipkeys, ensure_ascii, check_circular, allow_nan, cls, indent, separators, default, sort_keys, **kw)\u001b[0m\n\u001b[1;32m    229\u001b[0m         \u001b[0mcls\u001b[0m \u001b[0;32mis\u001b[0m \u001b[0;32mNone\u001b[0m \u001b[0;32mand\u001b[0m \u001b[0mindent\u001b[0m \u001b[0;32mis\u001b[0m \u001b[0;32mNone\u001b[0m \u001b[0;32mand\u001b[0m \u001b[0mseparators\u001b[0m \u001b[0;32mis\u001b[0m \u001b[0;32mNone\u001b[0m \u001b[0;32mand\u001b[0m\u001b[0;34m\u001b[0m\u001b[0;34m\u001b[0m\u001b[0m\n\u001b[1;32m    230\u001b[0m         default is None and not sort_keys and not kw):\n\u001b[0;32m--> 231\u001b[0;31m         \u001b[0;32mreturn\u001b[0m \u001b[0m_default_encoder\u001b[0m\u001b[0;34m.\u001b[0m\u001b[0mencode\u001b[0m\u001b[0;34m(\u001b[0m\u001b[0mobj\u001b[0m\u001b[0;34m)\u001b[0m\u001b[0;34m\u001b[0m\u001b[0;34m\u001b[0m\u001b[0m\n\u001b[0m\u001b[1;32m    232\u001b[0m     \u001b[0;32mif\u001b[0m \u001b[0mcls\u001b[0m \u001b[0;32mis\u001b[0m \u001b[0;32mNone\u001b[0m\u001b[0;34m:\u001b[0m\u001b[0;34m\u001b[0m\u001b[0;34m\u001b[0m\u001b[0m\n\u001b[1;32m    233\u001b[0m         \u001b[0mcls\u001b[0m \u001b[0;34m=\u001b[0m \u001b[0mJSONEncoder\u001b[0m\u001b[0;34m\u001b[0m\u001b[0;34m\u001b[0m\u001b[0m\n",
            "\u001b[0;32m/usr/lib/python3.7/json/encoder.py\u001b[0m in \u001b[0;36mencode\u001b[0;34m(self, o)\u001b[0m\n\u001b[1;32m    197\u001b[0m         \u001b[0;31m# exceptions aren't as detailed.  The list call should be roughly\u001b[0m\u001b[0;34m\u001b[0m\u001b[0;34m\u001b[0m\u001b[0;34m\u001b[0m\u001b[0m\n\u001b[1;32m    198\u001b[0m         \u001b[0;31m# equivalent to the PySequence_Fast that ''.join() would do.\u001b[0m\u001b[0;34m\u001b[0m\u001b[0;34m\u001b[0m\u001b[0;34m\u001b[0m\u001b[0m\n\u001b[0;32m--> 199\u001b[0;31m         \u001b[0mchunks\u001b[0m \u001b[0;34m=\u001b[0m \u001b[0mself\u001b[0m\u001b[0;34m.\u001b[0m\u001b[0miterencode\u001b[0m\u001b[0;34m(\u001b[0m\u001b[0mo\u001b[0m\u001b[0;34m,\u001b[0m \u001b[0m_one_shot\u001b[0m\u001b[0;34m=\u001b[0m\u001b[0;32mTrue\u001b[0m\u001b[0;34m)\u001b[0m\u001b[0;34m\u001b[0m\u001b[0;34m\u001b[0m\u001b[0m\n\u001b[0m\u001b[1;32m    200\u001b[0m         \u001b[0;32mif\u001b[0m \u001b[0;32mnot\u001b[0m \u001b[0misinstance\u001b[0m\u001b[0;34m(\u001b[0m\u001b[0mchunks\u001b[0m\u001b[0;34m,\u001b[0m \u001b[0;34m(\u001b[0m\u001b[0mlist\u001b[0m\u001b[0;34m,\u001b[0m \u001b[0mtuple\u001b[0m\u001b[0;34m)\u001b[0m\u001b[0;34m)\u001b[0m\u001b[0;34m:\u001b[0m\u001b[0;34m\u001b[0m\u001b[0;34m\u001b[0m\u001b[0m\n\u001b[1;32m    201\u001b[0m             \u001b[0mchunks\u001b[0m \u001b[0;34m=\u001b[0m \u001b[0mlist\u001b[0m\u001b[0;34m(\u001b[0m\u001b[0mchunks\u001b[0m\u001b[0;34m)\u001b[0m\u001b[0;34m\u001b[0m\u001b[0;34m\u001b[0m\u001b[0m\n",
            "\u001b[0;32m/usr/lib/python3.7/json/encoder.py\u001b[0m in \u001b[0;36miterencode\u001b[0;34m(self, o, _one_shot)\u001b[0m\n\u001b[1;32m    255\u001b[0m                 \u001b[0mself\u001b[0m\u001b[0;34m.\u001b[0m\u001b[0mkey_separator\u001b[0m\u001b[0;34m,\u001b[0m \u001b[0mself\u001b[0m\u001b[0;34m.\u001b[0m\u001b[0mitem_separator\u001b[0m\u001b[0;34m,\u001b[0m \u001b[0mself\u001b[0m\u001b[0;34m.\u001b[0m\u001b[0msort_keys\u001b[0m\u001b[0;34m,\u001b[0m\u001b[0;34m\u001b[0m\u001b[0;34m\u001b[0m\u001b[0m\n\u001b[1;32m    256\u001b[0m                 self.skipkeys, _one_shot)\n\u001b[0;32m--> 257\u001b[0;31m         \u001b[0;32mreturn\u001b[0m \u001b[0m_iterencode\u001b[0m\u001b[0;34m(\u001b[0m\u001b[0mo\u001b[0m\u001b[0;34m,\u001b[0m \u001b[0;36m0\u001b[0m\u001b[0;34m)\u001b[0m\u001b[0;34m\u001b[0m\u001b[0;34m\u001b[0m\u001b[0m\n\u001b[0m\u001b[1;32m    258\u001b[0m \u001b[0;34m\u001b[0m\u001b[0m\n\u001b[1;32m    259\u001b[0m def _make_iterencode(markers, _default, _encoder, _indent, _floatstr,\n",
            "\u001b[0;31mTypeError\u001b[0m: keys must be str, int, float, bool or None, not tuple"
          ]
        }
      ],
      "source": [
        "# not all valid python objects can be converted into a valid json \n",
        "d = {(\"A\", 21): \"John\"}\n",
        "json_string = json.dumps(d)\n",
        "print(json_string)"
      ]
    },
    {
      "cell_type": "code",
      "execution_count": 13,
      "metadata": {
        "colab": {
          "base_uri": "https://localhost:8080/"
        },
        "id": "63HP2TwMnuNJ",
        "outputId": "80df04a4-7e14-4315-cdff-4aaffa391a70"
      },
      "outputs": [
        {
          "output_type": "execute_result",
          "data": {
            "text/plain": [
              "{'где': 2, 'абв': 1, 'ёжз': 3}"
            ]
          },
          "metadata": {},
          "execution_count": 13
        }
      ],
      "source": [
        "# writing the code into a file\n",
        "\n",
        "d = {'абв': 1, 'где': 2, 'ёжз': 3}\n",
        "\n",
        "with open('data.json', 'w', encoding='utf-8') as f:\n",
        "    json.dump(d, f)\n",
        "\n",
        "# the result (the contents of the file):\n",
        "\n",
        "{\"\\u0433\\u0434\\u0435\": 2, \"\\u0430\\u0431\\u0432\": 1, \"\\u0451\\u0436\\u0437\": 3}"
      ]
    },
    {
      "cell_type": "code",
      "execution_count": 14,
      "metadata": {
        "colab": {
          "base_uri": "https://localhost:8080/"
        },
        "id": "Yz8-UDmLnuNL",
        "outputId": "9bcb29a4-7e17-4238-8352-dee61b267f05"
      },
      "outputs": [
        {
          "output_type": "execute_result",
          "data": {
            "text/plain": [
              "{'где': 2, 'абв': 1, 'ёжз': 3}"
            ]
          },
          "metadata": {},
          "execution_count": 14
        }
      ],
      "source": [
        "# let's include the ensure_ascii parameter:\n",
        "\n",
        "with open('data.json', 'w', encoding='utf-8') as f:\n",
        "    json.dump(d, f, ensure_ascii = False)\n",
        "\n",
        "# the result:\n",
        "\n",
        "{\"где\": 2, \"абв\": 1, \"ёжз\": 3}"
      ]
    },
    {
      "cell_type": "code",
      "execution_count": 15,
      "metadata": {
        "colab": {
          "base_uri": "https://localhost:8080/"
        },
        "id": "SaV0FrXXnuNM",
        "outputId": "e36c9622-3366-44dc-c9d0-cde936380f8c"
      },
      "outputs": [
        {
          "output_type": "execute_result",
          "data": {
            "text/plain": [
              "{'абв': 1, 'где': 2, 'ёжз': 3}"
            ]
          },
          "metadata": {},
          "execution_count": 15
        }
      ],
      "source": [
        "# let's include the indent parameter (the number stands for the number of spaces in the indentation):\n",
        "\n",
        "with open('data.json', 'w', encoding='utf-8') as f:\n",
        "    json.dump(d, f, ensure_ascii = False, indent = 4)\n",
        "\n",
        "# the result\n",
        "\n",
        "{\n",
        "    \"абв\": 1,\n",
        "    \"где\": 2,\n",
        "    \"ёжз\": 3\n",
        "}"
      ]
    },
    {
      "cell_type": "markdown",
      "metadata": {
        "id": "Rda4yUGCnuNN"
      },
      "source": [
        "## How to check the validity of a json?\n",
        "\n",
        "When you work with a long json, it is hard to spot a mistake. To make sure your json is valid, use one of the following tools:\n",
        "* https://jsonlint.com/\n",
        "* https://jsoncompare.com/ \n",
        "* http://www.jsonschemavalidator.net/\n",
        "* https://jsonformatter.curiousconcept.com/#"
      ]
    },
    {
      "cell_type": "markdown",
      "metadata": {
        "id": "EgTZzEBHnuNO"
      },
      "source": [
        "## JSON in the wild\n",
        "\n",
        "### 1. Sending the data from the server to the browser\n",
        "\n"
      ]
    },
    {
      "cell_type": "markdown",
      "metadata": {
        "id": "tMVf2kGSnuNP"
      },
      "source": [
        "As an example, let's use the github. For instance, let's determine the number of repositories of a given github user."
      ]
    },
    {
      "cell_type": "code",
      "execution_count": 1,
      "metadata": {
        "colab": {
          "base_uri": "https://localhost:8080/"
        },
        "id": "6kdGVQCInuNQ",
        "outputId": "3a070a42-6a8f-42e6-c0db-e1ba0f07c4e3"
      },
      "outputs": [
        {
          "output_type": "stream",
          "name": "stdout",
          "text": [
            "17\n",
            "CM\n",
            "CompLex\n",
            "CompSem2022\n",
            "CompSemantics\n",
            "Corpus_methods_LangPolicy_2021\n",
            "Data-Analysis-Python-II\n",
            "FunctionalModelsCompLing\n",
            "FunctionalModelsDH2021\n",
            "Interactive-Dictionary\n",
            "Intro-to-R\n",
            "pp\n",
            "Preprocessing\n",
            "Programming-Basics\n",
            "python\n",
            "Python101\n",
            "Slovo-dnja\n",
            "test_app\n"
          ]
        }
      ],
      "source": [
        "import json\n",
        "import urllib.request\n",
        "\n",
        "user = \"dashapopova\"  # the user \n",
        "url = 'https://api.github.com/users/%s/repos' % user  \n",
        "# the link to the json\n",
        "\n",
        "response = urllib.request.urlopen(url)  # sending a request to the server and getting an answer\n",
        "text = response.read().decode('utf-8')  # reading the answer into a string\n",
        "data = json.loads(text) # converting the json string into a python object\n",
        "\n",
        "print(len(data))  # printing the number of the user's repositories\n",
        "for i in data:\n",
        "    print(i[\"name\"]) # printing the names of all the repositories"
      ]
    },
    {
      "cell_type": "markdown",
      "metadata": {
        "id": "00sgQkpbnuNS"
      },
      "source": [
        "## Twitter\n",
        "\n",
        "The documentation for the twitter json: https://developer.twitter.com/en/docs/tweets/data-dictionary/overview/tweet-object"
      ]
    },
    {
      "cell_type": "code",
      "execution_count": 16,
      "metadata": {
        "id": "YK62mDrWnuNS"
      },
      "outputs": [],
      "source": [
        "# reading the data from the twitter.json file\n",
        "twitter = []\n",
        "for line in open('twitter.json'):\n",
        "    twitter.append(json.loads(line))"
      ]
    },
    {
      "cell_type": "code",
      "execution_count": 17,
      "metadata": {
        "colab": {
          "base_uri": "https://localhost:8080/"
        },
        "id": "Z1y3BiDwnuNT",
        "outputId": "6dfb8edc-6f30-49ee-815d-fb04aa13d2a4"
      },
      "outputs": [
        {
          "output_type": "execute_result",
          "data": {
            "text/plain": [
              "2556"
            ]
          },
          "metadata": {},
          "execution_count": 17
        }
      ],
      "source": [
        "# how many tweets do we have?\n",
        "len(twitter)"
      ]
    },
    {
      "cell_type": "code",
      "execution_count": 18,
      "metadata": {
        "scrolled": false,
        "colab": {
          "base_uri": "https://localhost:8080/"
        },
        "id": "2RyYXL6gnuNT",
        "outputId": "99709a58-afcb-4e3f-8497-a6905f19bb1b"
      },
      "outputs": [
        {
          "output_type": "execute_result",
          "data": {
            "text/plain": [
              "{'created_at': 'Wed Oct 03 05:00:00 +0000 2018',\n",
              " 'id': 1047350533454012417,\n",
              " 'id_str': '1047350533454012417',\n",
              " 'text': 'RT @ELISSEsifieds: Nothing can stop us from supporting you. When we say all the way, it will be indeed. Hello Elissesifieds Cebu. \\nThank yo…',\n",
              " 'source': '<a href=\"http://twitter.com/download/iphone\" rel=\"nofollow\">Twitter for iPhone</a>',\n",
              " 'truncated': False,\n",
              " 'in_reply_to_status_id': None,\n",
              " 'in_reply_to_status_id_str': None,\n",
              " 'in_reply_to_user_id': None,\n",
              " 'in_reply_to_user_id_str': None,\n",
              " 'in_reply_to_screen_name': None,\n",
              " 'user': {'id': 937522240488443905,\n",
              "  'id_str': '937522240488443905',\n",
              "  'name': \"DonnaArabe'Efieds🇸🇦\",\n",
              "  'screen_name': 'ArabiDonna',\n",
              "  'location': 'Jubail Industrial City, Kingdo',\n",
              "  'url': None,\n",
              "  'description': \"Don't think too hard,just have fun with it.\",\n",
              "  'translator_type': 'none',\n",
              "  'protected': False,\n",
              "  'verified': False,\n",
              "  'followers_count': 104,\n",
              "  'friends_count': 132,\n",
              "  'listed_count': 0,\n",
              "  'favourites_count': 8372,\n",
              "  'statuses_count': 6896,\n",
              "  'created_at': 'Mon Dec 04 03:21:35 +0000 2017',\n",
              "  'utc_offset': None,\n",
              "  'time_zone': None,\n",
              "  'geo_enabled': False,\n",
              "  'lang': 'en',\n",
              "  'contributors_enabled': False,\n",
              "  'is_translator': False,\n",
              "  'profile_background_color': 'F5F8FA',\n",
              "  'profile_background_image_url': '',\n",
              "  'profile_background_image_url_https': '',\n",
              "  'profile_background_tile': False,\n",
              "  'profile_link_color': '1DA1F2',\n",
              "  'profile_sidebar_border_color': 'C0DEED',\n",
              "  'profile_sidebar_fill_color': 'DDEEF6',\n",
              "  'profile_text_color': '333333',\n",
              "  'profile_use_background_image': True,\n",
              "  'profile_image_url': 'http://pbs.twimg.com/profile_images/1047119228942393344/Px7FPs-3_normal.jpg',\n",
              "  'profile_image_url_https': 'https://pbs.twimg.com/profile_images/1047119228942393344/Px7FPs-3_normal.jpg',\n",
              "  'profile_banner_url': 'https://pbs.twimg.com/profile_banners/937522240488443905/1538487685',\n",
              "  'default_profile': True,\n",
              "  'default_profile_image': False,\n",
              "  'following': None,\n",
              "  'follow_request_sent': None,\n",
              "  'notifications': None},\n",
              " 'geo': None,\n",
              " 'coordinates': None,\n",
              " 'place': None,\n",
              " 'contributors': None,\n",
              " 'retweeted_status': {'created_at': 'Wed Oct 03 04:56:30 +0000 2018',\n",
              "  'id': 1047349651915960322,\n",
              "  'id_str': '1047349651915960322',\n",
              "  'text': 'Nothing can stop us from supporting you. When we say all the way, it will be indeed. Hello Elissesifieds Cebu. \\nTha… https://t.co/Crn6xJlhJQ',\n",
              "  'display_text_range': [0, 140],\n",
              "  'source': '<a href=\"http://twitter.com/download/android\" rel=\"nofollow\">Twitter for Android</a>',\n",
              "  'truncated': True,\n",
              "  'in_reply_to_status_id': None,\n",
              "  'in_reply_to_status_id_str': None,\n",
              "  'in_reply_to_user_id': None,\n",
              "  'in_reply_to_user_id_str': None,\n",
              "  'in_reply_to_screen_name': None,\n",
              "  'user': {'id': 1424795701,\n",
              "   'id_str': '1424795701',\n",
              "   'name': 'ELISSEsifieds OFC',\n",
              "   'screen_name': 'ELISSEsifieds',\n",
              "   'location': 'Followed by Elisse : 08/19/13',\n",
              "   'url': 'http://Facebook.com/ELISSEsifiedOfficial',\n",
              "   'description': 'OFC Fansclub of @ElisseJoson ♡ Acknowledged and Recognized by Dreamscape .  (Be ELISSEsifieds just click the link and fill:http://bit.ly/1U8V5eR )',\n",
              "   'translator_type': 'none',\n",
              "   'protected': False,\n",
              "   'verified': False,\n",
              "   'followers_count': 14110,\n",
              "   'friends_count': 277,\n",
              "   'listed_count': 2,\n",
              "   'favourites_count': 15075,\n",
              "   'statuses_count': 42618,\n",
              "   'created_at': 'Mon May 13 06:39:55 +0000 2013',\n",
              "   'utc_offset': None,\n",
              "   'time_zone': None,\n",
              "   'geo_enabled': True,\n",
              "   'lang': 'en',\n",
              "   'contributors_enabled': False,\n",
              "   'is_translator': False,\n",
              "   'profile_background_color': 'C0DEED',\n",
              "   'profile_background_image_url': 'http://abs.twimg.com/images/themes/theme1/bg.png',\n",
              "   'profile_background_image_url_https': 'https://abs.twimg.com/images/themes/theme1/bg.png',\n",
              "   'profile_background_tile': True,\n",
              "   'profile_link_color': 'F099F0',\n",
              "   'profile_sidebar_border_color': 'FFFFFF',\n",
              "   'profile_sidebar_fill_color': 'DDEEF6',\n",
              "   'profile_text_color': '333333',\n",
              "   'profile_use_background_image': True,\n",
              "   'profile_image_url': 'http://pbs.twimg.com/profile_images/975532647349854209/glaBAm_T_normal.jpg',\n",
              "   'profile_image_url_https': 'https://pbs.twimg.com/profile_images/975532647349854209/glaBAm_T_normal.jpg',\n",
              "   'profile_banner_url': 'https://pbs.twimg.com/profile_banners/1424795701/1490279660',\n",
              "   'default_profile': False,\n",
              "   'default_profile_image': False,\n",
              "   'following': None,\n",
              "   'follow_request_sent': None,\n",
              "   'notifications': None},\n",
              "  'geo': None,\n",
              "  'coordinates': None,\n",
              "  'place': None,\n",
              "  'contributors': None,\n",
              "  'is_quote_status': False,\n",
              "  'extended_tweet': {'full_text': 'Nothing can stop us from supporting you. When we say all the way, it will be indeed. Hello Elissesifieds Cebu. \\nThank you guys, for rising so early just to visit Elisse on her last taping day sa humble place nyo💓 https://t.co/cLpJ2ifyGw',\n",
              "   'display_text_range': [0, 212],\n",
              "   'entities': {'hashtags': [],\n",
              "    'urls': [],\n",
              "    'user_mentions': [],\n",
              "    'symbols': [],\n",
              "    'media': [{'id': 1047349579832688641,\n",
              "      'id_str': '1047349579832688641',\n",
              "      'indices': [213, 236],\n",
              "      'media_url': 'http://pbs.twimg.com/media/Doju5M2VAAESKaQ.jpg',\n",
              "      'media_url_https': 'https://pbs.twimg.com/media/Doju5M2VAAESKaQ.jpg',\n",
              "      'url': 'https://t.co/cLpJ2ifyGw',\n",
              "      'display_url': 'pic.twitter.com/cLpJ2ifyGw',\n",
              "      'expanded_url': 'https://twitter.com/ELISSEsifieds/status/1047349651915960322/photo/1',\n",
              "      'type': 'photo',\n",
              "      'sizes': {'large': {'w': 720, 'h': 960, 'resize': 'fit'},\n",
              "       'thumb': {'w': 150, 'h': 150, 'resize': 'crop'},\n",
              "       'medium': {'w': 720, 'h': 960, 'resize': 'fit'},\n",
              "       'small': {'w': 510, 'h': 680, 'resize': 'fit'}}},\n",
              "     {'id': 1047349589253083136,\n",
              "      'id_str': '1047349589253083136',\n",
              "      'indices': [213, 236],\n",
              "      'media_url': 'http://pbs.twimg.com/media/Doju5v8U0AAhr9-.jpg',\n",
              "      'media_url_https': 'https://pbs.twimg.com/media/Doju5v8U0AAhr9-.jpg',\n",
              "      'url': 'https://t.co/cLpJ2ifyGw',\n",
              "      'display_url': 'pic.twitter.com/cLpJ2ifyGw',\n",
              "      'expanded_url': 'https://twitter.com/ELISSEsifieds/status/1047349651915960322/photo/1',\n",
              "      'type': 'photo',\n",
              "      'sizes': {'medium': {'w': 720, 'h': 960, 'resize': 'fit'},\n",
              "       'thumb': {'w': 150, 'h': 150, 'resize': 'crop'},\n",
              "       'large': {'w': 720, 'h': 960, 'resize': 'fit'},\n",
              "       'small': {'w': 510, 'h': 680, 'resize': 'fit'}}},\n",
              "     {'id': 1047349602142150657,\n",
              "      'id_str': '1047349602142150657',\n",
              "      'indices': [213, 236],\n",
              "      'media_url': 'http://pbs.twimg.com/media/Doju6f9UYAEfHDd.jpg',\n",
              "      'media_url_https': 'https://pbs.twimg.com/media/Doju6f9UYAEfHDd.jpg',\n",
              "      'url': 'https://t.co/cLpJ2ifyGw',\n",
              "      'display_url': 'pic.twitter.com/cLpJ2ifyGw',\n",
              "      'expanded_url': 'https://twitter.com/ELISSEsifieds/status/1047349651915960322/photo/1',\n",
              "      'type': 'photo',\n",
              "      'sizes': {'medium': {'w': 720, 'h': 960, 'resize': 'fit'},\n",
              "       'thumb': {'w': 150, 'h': 150, 'resize': 'crop'},\n",
              "       'small': {'w': 510, 'h': 680, 'resize': 'fit'},\n",
              "       'large': {'w': 720, 'h': 960, 'resize': 'fit'}}},\n",
              "     {'id': 1047349625907109889,\n",
              "      'id_str': '1047349625907109889',\n",
              "      'indices': [213, 236],\n",
              "      'media_url': 'http://pbs.twimg.com/media/Doju74fU4AEpxTQ.jpg',\n",
              "      'media_url_https': 'https://pbs.twimg.com/media/Doju74fU4AEpxTQ.jpg',\n",
              "      'url': 'https://t.co/cLpJ2ifyGw',\n",
              "      'display_url': 'pic.twitter.com/cLpJ2ifyGw',\n",
              "      'expanded_url': 'https://twitter.com/ELISSEsifieds/status/1047349651915960322/photo/1',\n",
              "      'type': 'photo',\n",
              "      'sizes': {'thumb': {'w': 150, 'h': 150, 'resize': 'crop'},\n",
              "       'medium': {'w': 720, 'h': 960, 'resize': 'fit'},\n",
              "       'small': {'w': 510, 'h': 680, 'resize': 'fit'},\n",
              "       'large': {'w': 720, 'h': 960, 'resize': 'fit'}}}]},\n",
              "   'extended_entities': {'media': [{'id': 1047349579832688641,\n",
              "      'id_str': '1047349579832688641',\n",
              "      'indices': [213, 236],\n",
              "      'media_url': 'http://pbs.twimg.com/media/Doju5M2VAAESKaQ.jpg',\n",
              "      'media_url_https': 'https://pbs.twimg.com/media/Doju5M2VAAESKaQ.jpg',\n",
              "      'url': 'https://t.co/cLpJ2ifyGw',\n",
              "      'display_url': 'pic.twitter.com/cLpJ2ifyGw',\n",
              "      'expanded_url': 'https://twitter.com/ELISSEsifieds/status/1047349651915960322/photo/1',\n",
              "      'type': 'photo',\n",
              "      'sizes': {'large': {'w': 720, 'h': 960, 'resize': 'fit'},\n",
              "       'thumb': {'w': 150, 'h': 150, 'resize': 'crop'},\n",
              "       'medium': {'w': 720, 'h': 960, 'resize': 'fit'},\n",
              "       'small': {'w': 510, 'h': 680, 'resize': 'fit'}}},\n",
              "     {'id': 1047349589253083136,\n",
              "      'id_str': '1047349589253083136',\n",
              "      'indices': [213, 236],\n",
              "      'media_url': 'http://pbs.twimg.com/media/Doju5v8U0AAhr9-.jpg',\n",
              "      'media_url_https': 'https://pbs.twimg.com/media/Doju5v8U0AAhr9-.jpg',\n",
              "      'url': 'https://t.co/cLpJ2ifyGw',\n",
              "      'display_url': 'pic.twitter.com/cLpJ2ifyGw',\n",
              "      'expanded_url': 'https://twitter.com/ELISSEsifieds/status/1047349651915960322/photo/1',\n",
              "      'type': 'photo',\n",
              "      'sizes': {'medium': {'w': 720, 'h': 960, 'resize': 'fit'},\n",
              "       'thumb': {'w': 150, 'h': 150, 'resize': 'crop'},\n",
              "       'large': {'w': 720, 'h': 960, 'resize': 'fit'},\n",
              "       'small': {'w': 510, 'h': 680, 'resize': 'fit'}}},\n",
              "     {'id': 1047349602142150657,\n",
              "      'id_str': '1047349602142150657',\n",
              "      'indices': [213, 236],\n",
              "      'media_url': 'http://pbs.twimg.com/media/Doju6f9UYAEfHDd.jpg',\n",
              "      'media_url_https': 'https://pbs.twimg.com/media/Doju6f9UYAEfHDd.jpg',\n",
              "      'url': 'https://t.co/cLpJ2ifyGw',\n",
              "      'display_url': 'pic.twitter.com/cLpJ2ifyGw',\n",
              "      'expanded_url': 'https://twitter.com/ELISSEsifieds/status/1047349651915960322/photo/1',\n",
              "      'type': 'photo',\n",
              "      'sizes': {'medium': {'w': 720, 'h': 960, 'resize': 'fit'},\n",
              "       'thumb': {'w': 150, 'h': 150, 'resize': 'crop'},\n",
              "       'small': {'w': 510, 'h': 680, 'resize': 'fit'},\n",
              "       'large': {'w': 720, 'h': 960, 'resize': 'fit'}}},\n",
              "     {'id': 1047349625907109889,\n",
              "      'id_str': '1047349625907109889',\n",
              "      'indices': [213, 236],\n",
              "      'media_url': 'http://pbs.twimg.com/media/Doju74fU4AEpxTQ.jpg',\n",
              "      'media_url_https': 'https://pbs.twimg.com/media/Doju74fU4AEpxTQ.jpg',\n",
              "      'url': 'https://t.co/cLpJ2ifyGw',\n",
              "      'display_url': 'pic.twitter.com/cLpJ2ifyGw',\n",
              "      'expanded_url': 'https://twitter.com/ELISSEsifieds/status/1047349651915960322/photo/1',\n",
              "      'type': 'photo',\n",
              "      'sizes': {'thumb': {'w': 150, 'h': 150, 'resize': 'crop'},\n",
              "       'medium': {'w': 720, 'h': 960, 'resize': 'fit'},\n",
              "       'small': {'w': 510, 'h': 680, 'resize': 'fit'},\n",
              "       'large': {'w': 720, 'h': 960, 'resize': 'fit'}}}]}},\n",
              "  'quote_count': 0,\n",
              "  'reply_count': 0,\n",
              "  'retweet_count': 3,\n",
              "  'favorite_count': 9,\n",
              "  'entities': {'hashtags': [],\n",
              "   'urls': [{'url': 'https://t.co/Crn6xJlhJQ',\n",
              "     'expanded_url': 'https://twitter.com/i/web/status/1047349651915960322',\n",
              "     'display_url': 'twitter.com/i/web/status/1…',\n",
              "     'indices': [117, 140]}],\n",
              "   'user_mentions': [],\n",
              "   'symbols': []},\n",
              "  'favorited': False,\n",
              "  'retweeted': False,\n",
              "  'possibly_sensitive': False,\n",
              "  'filter_level': 'low',\n",
              "  'lang': 'en'},\n",
              " 'is_quote_status': False,\n",
              " 'quote_count': 0,\n",
              " 'reply_count': 0,\n",
              " 'retweet_count': 0,\n",
              " 'favorite_count': 0,\n",
              " 'entities': {'hashtags': [],\n",
              "  'urls': [],\n",
              "  'user_mentions': [{'screen_name': 'ELISSEsifieds',\n",
              "    'name': 'ELISSEsifieds OFC',\n",
              "    'id': 1424795701,\n",
              "    'id_str': '1424795701',\n",
              "    'indices': [3, 17]}],\n",
              "  'symbols': []},\n",
              " 'favorited': False,\n",
              " 'retweeted': False,\n",
              " 'filter_level': 'low',\n",
              " 'lang': 'en',\n",
              " 'timestamp_ms': '1538542800664'}"
            ]
          },
          "metadata": {},
          "execution_count": 18
        }
      ],
      "source": [
        "twitter[0]"
      ]
    },
    {
      "cell_type": "code",
      "execution_count": 19,
      "metadata": {
        "colab": {
          "base_uri": "https://localhost:8080/"
        },
        "id": "xcEdcAe0nuNU",
        "outputId": "b2de22d2-decd-4c6e-a8d6-e3436ff5e238"
      },
      "outputs": [
        {
          "output_type": "execute_result",
          "data": {
            "text/plain": [
              "{'delete': {'status': {'id': 729296586933678081,\n",
              "   'id_str': '729296586933678081',\n",
              "   'user_id': 2740164192,\n",
              "   'user_id_str': '2740164192'},\n",
              "  'timestamp_ms': '1538542860162'}}"
            ]
          },
          "metadata": {},
          "execution_count": 19
        }
      ],
      "source": [
        "twitter[-1]"
      ]
    },
    {
      "cell_type": "code",
      "execution_count": 20,
      "metadata": {
        "id": "Jcc63nLKnuNV"
      },
      "outputs": [],
      "source": [
        "ok = twitter[0]"
      ]
    },
    {
      "cell_type": "code",
      "execution_count": 21,
      "metadata": {
        "colab": {
          "base_uri": "https://localhost:8080/",
          "height": 35
        },
        "id": "_pU61V1EnuNX",
        "outputId": "1ec97767-bd3b-4fe5-9dbc-4693af6d8fbd"
      },
      "outputs": [
        {
          "output_type": "execute_result",
          "data": {
            "text/plain": [
              "'en'"
            ],
            "application/vnd.google.colaboratory.intrinsic+json": {
              "type": "string"
            }
          },
          "metadata": {},
          "execution_count": 21
        }
      ],
      "source": [
        "# the language of the tweet\n"
      ]
    },
    {
      "cell_type": "code",
      "execution_count": 22,
      "metadata": {
        "colab": {
          "base_uri": "https://localhost:8080/",
          "height": 52
        },
        "id": "0J1qQIymnuNX",
        "outputId": "ccfbaf57-1f82-4342-8188-62cf29243976"
      },
      "outputs": [
        {
          "output_type": "execute_result",
          "data": {
            "text/plain": [
              "'Nothing can stop us from supporting you. When we say all the way, it will be indeed. Hello Elissesifieds Cebu. \\nThank you guys, for rising so early just to visit Elisse on her last taping day sa humble place nyo💓 https://t.co/cLpJ2ifyGw'"
            ],
            "application/vnd.google.colaboratory.intrinsic+json": {
              "type": "string"
            }
          },
          "metadata": {},
          "execution_count": 22
        }
      ],
      "source": [
        "# the text of the tweet\n"
      ]
    },
    {
      "cell_type": "code",
      "execution_count": 23,
      "metadata": {
        "colab": {
          "base_uri": "https://localhost:8080/"
        },
        "id": "fUrQBXIunuNY",
        "outputId": "7189affc-227e-44da-aa6c-af3ce328b65b"
      },
      "outputs": [
        {
          "output_type": "execute_result",
          "data": {
            "text/plain": [
              "0.14162754303599373"
            ]
          },
          "metadata": {},
          "execution_count": 23
        }
      ],
      "source": [
        "# the percentage of the deleted tweets\n"
      ]
    },
    {
      "cell_type": "code",
      "execution_count": 24,
      "metadata": {
        "id": "12diV8cHnuNZ"
      },
      "outputs": [],
      "source": [
        "langs = [t['lang'] for t in twitter if 'lang' in t]"
      ]
    },
    {
      "cell_type": "code",
      "execution_count": 25,
      "metadata": {
        "colab": {
          "base_uri": "https://localhost:8080/"
        },
        "id": "veLsViKSnuNa",
        "outputId": "03ee44f6-0cbe-4312-ed03-9835a3a16c8d"
      },
      "outputs": [
        {
          "output_type": "execute_result",
          "data": {
            "text/plain": [
              "[('en', 719),\n",
              " ('ja', 438),\n",
              " ('es', 173),\n",
              " ('ko', 149),\n",
              " ('th', 123),\n",
              " ('ar', 119),\n",
              " ('und', 117),\n",
              " ('in', 71),\n",
              " ('pt', 69),\n",
              " ('fr', 35)]"
            ]
          },
          "metadata": {},
          "execution_count": 25
        }
      ],
      "source": [
        "# the most popular languages of the tweets\n",
        "from collections import Counter\n"
      ]
    },
    {
      "cell_type": "code",
      "execution_count": 26,
      "metadata": {
        "colab": {
          "base_uri": "https://localhost:8080/"
        },
        "id": "4GUPTgacnuNb",
        "outputId": "64cab551-fc55-4269-8d81-b544aac868fd"
      },
      "outputs": [
        {
          "output_type": "stream",
          "name": "stdout",
          "text": [
            "2 992084216350294016\n",
            "2 581282101\n",
            "2 2317193324\n",
            "2 978499715657445377\n",
            "2 2245928100\n",
            "2 993031040\n",
            "2 290401936\n",
            "2 3067130479\n",
            "2 849417895109156869\n",
            "2 958056194366754816\n",
            "2 1017442172495331328\n",
            "2 702487896935104513\n",
            "2 995683537197158401\n",
            "2 121016179\n",
            "2 947288315375394817\n",
            "2 2464271844\n",
            "2 1009443285176340482\n",
            "2 860202971266772992\n",
            "2 2734975298\n",
            "2 4311188534\n",
            "2 1290792062\n",
            "2 897067178754686976\n",
            "2 4179415159\n",
            "2 772081812109570048\n",
            "2 1006114081739288577\n"
          ]
        }
      ],
      "source": [
        "# Do we have tweets from the same user?\n"
      ]
    },
    {
      "cell_type": "code",
      "execution_count": 27,
      "metadata": {
        "colab": {
          "base_uri": "https://localhost:8080/"
        },
        "id": "PE13SQ03nuNd",
        "outputId": "e11c2033-6b2e-4aeb-8940-63ed77c050a7"
      },
      "outputs": [
        {
          "output_type": "execute_result",
          "data": {
            "text/plain": [
              "[('BTS', 17),\n",
              " ('방탄소년단', 13),\n",
              " ('AMAs', 11),\n",
              " ('人気投票ガチャ', 8),\n",
              " ('태형', 7),\n",
              " ('뷔', 6),\n",
              " ('BTSinChicago', 5),\n",
              " ('BTSLoveYourselfTour', 5),\n",
              " ('오늘의방탄', 5),\n",
              " ('PledgeForSwachhBharat', 5),\n",
              " ('MPN', 5),\n",
              " ('PCAs', 4),\n",
              " ('V', 4),\n",
              " ('시카고1회차공연', 4),\n",
              " ('เป๊กผลิตโชค', 4),\n",
              " ('JIMIN', 4),\n",
              " ('running', 3),\n",
              " ('NCT', 3),\n",
              " ('지민', 3),\n",
              " ('WajahmuPlastik', 3)]"
            ]
          },
          "metadata": {},
          "execution_count": 27
        }
      ],
      "source": [
        "# Top 20 hashtags\n"
      ]
    },
    {
      "cell_type": "code",
      "execution_count": 28,
      "metadata": {
        "colab": {
          "base_uri": "https://localhost:8080/"
        },
        "id": "E_v1p8-XnuNd",
        "outputId": "53d5ed4b-bf54-4cc1-9e78-a2fe350e5926"
      },
      "outputs": [
        {
          "output_type": "execute_result",
          "data": {
            "text/plain": [
              "[('the', 125),\n",
              " ('to', 86),\n",
              " ('a', 75),\n",
              " ('i', 73),\n",
              " ('and', 64),\n",
              " ('is', 50),\n",
              " ('you', 48),\n",
              " ('of', 45),\n",
              " ('for', 42),\n",
              " ('it', 41),\n",
              " ('in', 38),\n",
              " ('that', 33),\n",
              " ('this', 31),\n",
              " ('my', 30),\n",
              " ('me', 27),\n",
              " ('be', 26),\n",
              " ('on', 26),\n",
              " ('are', 21),\n",
              " ('what', 20),\n",
              " ('so', 20),\n",
              " ('with', 20),\n",
              " ('have', 19),\n",
              " ('not', 17),\n",
              " ('more', 17),\n",
              " ('but', 17)]"
            ]
          },
          "metadata": {},
          "execution_count": 28
        }
      ],
      "source": [
        "# preprocessing the text of the original tweets (not retweeted tweets)\n",
        "# 25 most common lemmas in English tweets\n",
        "from string import punctuation\n"
      ]
    },
    {
      "cell_type": "code",
      "execution_count": 29,
      "metadata": {
        "colab": {
          "base_uri": "https://localhost:8080/"
        },
        "id": "LlEqZq1NnuNe",
        "outputId": "fae6455d-9406-4ebe-f547-cfb5bde9e7dd"
      },
      "outputs": [
        {
          "output_type": "stream",
          "name": "stdout",
          "text": [
            "2521403 Filosofía♕\n",
            "1491309 FITNESS Magazine\n",
            "1206759 malaysiakini.com\n",
            "1137374 NYT Science\n",
            "625463 Gramática\n",
            "392472 TGRT Haber\n",
            "383698 The Sun Football ⚽\n",
            "374222 Melbourne, Australia\n",
            "318189 Roznama Express\n",
            "311319 💞 ცųཞɠɛཞცơơɠıɛ 💞\n"
          ]
        }
      ],
      "source": [
        "# print out the top 10 users with the most followers \n"
      ]
    },
    {
      "cell_type": "code",
      "execution_count": 30,
      "metadata": {
        "colab": {
          "base_uri": "https://localhost:8080/"
        },
        "id": "dRd8XU18nuNf",
        "outputId": "d6e59833-c57f-4c5c-822f-ff03ddff2bc9"
      },
      "outputs": [
        {
          "output_type": "execute_result",
          "data": {
            "text/plain": [
              "[('Twitter for iPhone', 800),\n",
              " ('Twitter for Android', 695),\n",
              " ('Twitter Web Client', 140),\n",
              " ('twittbot.net', 122),\n",
              " ('Twitter Lite', 51),\n",
              " ('Twitter for iPad', 28),\n",
              " ('TweetDeck', 23),\n",
              " ('Facebook', 17),\n",
              " ('IFTTT', 14),\n",
              " ('تطبيق قرآني', 10),\n",
              " ('dlvr.it', 10),\n",
              " ('Buffer', 8),\n",
              " ('Google', 8),\n",
              " ('autotweety.net', 7),\n",
              " ('Hootsuite Inc.', 7),\n",
              " ('WordPress.com', 6),\n",
              " ('Twittascope', 6),\n",
              " ('Botbird tweets', 6),\n",
              " ('تطبيق دعـاء', 5),\n",
              " ('Zapier.com', 5)]"
            ]
          },
          "metadata": {},
          "execution_count": 30
        }
      ],
      "source": [
        "# top-20 sources of the tweets\n",
        "import re"
      ]
    }
  ],
  "metadata": {
    "kernelspec": {
      "display_name": "Python 3",
      "language": "python",
      "name": "python3"
    },
    "language_info": {
      "codemirror_mode": {
        "name": "ipython",
        "version": 3
      },
      "file_extension": ".py",
      "mimetype": "text/x-python",
      "name": "python",
      "nbconvert_exporter": "python",
      "pygments_lexer": "ipython3",
      "version": "3.8.5"
    },
    "colab": {
      "provenance": []
    }
  },
  "nbformat": 4,
  "nbformat_minor": 0
}